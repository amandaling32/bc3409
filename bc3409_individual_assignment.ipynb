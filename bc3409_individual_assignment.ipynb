{
  "nbformat": 4,
  "nbformat_minor": 0,
  "metadata": {
    "colab": {
      "provenance": []
    },
    "kernelspec": {
      "name": "python3",
      "display_name": "Python 3"
    },
    "language_info": {
      "name": "python"
    }
  },
  "cells": [
    {
      "cell_type": "code",
      "execution_count": 1414,
      "metadata": {
        "id": "TpzgdHoDQyCL"
      },
      "outputs": [],
      "source": [
        "import pandas as pd"
      ]
    },
    {
      "cell_type": "code",
      "source": [
        "credit = pd.read_csv(\"/content/drive/MyDrive/bc3409/wk6_assignment/Credit card default I.csv\")"
      ],
      "metadata": {
        "id": "_eLOZU1qRM9v"
      },
      "execution_count": 1415,
      "outputs": []
    },
    {
      "cell_type": "markdown",
      "source": [
        "## **Data Cleaning**"
      ],
      "metadata": {
        "id": "Eb_8EoKIc5Mf"
      }
    },
    {
      "cell_type": "code",
      "source": [
        "credit.info()"
      ],
      "metadata": {
        "colab": {
          "base_uri": "https://localhost:8080/"
        },
        "id": "QW_0J_DZc8OG",
        "outputId": "773d3804-1eb5-40b2-a994-815b01d01e7b"
      },
      "execution_count": 1416,
      "outputs": [
        {
          "output_type": "stream",
          "name": "stdout",
          "text": [
            "<class 'pandas.core.frame.DataFrame'>\n",
            "RangeIndex: 30000 entries, 0 to 29999\n",
            "Data columns (total 25 columns):\n",
            " #   Column                      Non-Null Count  Dtype\n",
            "---  ------                      --------------  -----\n",
            " 0   ID                          30000 non-null  int64\n",
            " 1   LIMIT_BAL                   30000 non-null  int64\n",
            " 2   SEX                         30000 non-null  int64\n",
            " 3   EDUCATION                   30000 non-null  int64\n",
            " 4   MARRIAGE                    30000 non-null  int64\n",
            " 5   AGE                         30000 non-null  int64\n",
            " 6   PAY_0                       30000 non-null  int64\n",
            " 7   PAY_2                       30000 non-null  int64\n",
            " 8   PAY_3                       30000 non-null  int64\n",
            " 9   PAY_4                       30000 non-null  int64\n",
            " 10  PAY_5                       30000 non-null  int64\n",
            " 11  PAY_6                       30000 non-null  int64\n",
            " 12  BILL_AMT1                   30000 non-null  int64\n",
            " 13  BILL_AMT2                   30000 non-null  int64\n",
            " 14  BILL_AMT3                   30000 non-null  int64\n",
            " 15  BILL_AMT4                   30000 non-null  int64\n",
            " 16  BILL_AMT5                   30000 non-null  int64\n",
            " 17  BILL_AMT6                   30000 non-null  int64\n",
            " 18  PAY_AMT1                    30000 non-null  int64\n",
            " 19  PAY_AMT2                    30000 non-null  int64\n",
            " 20  PAY_AMT3                    30000 non-null  int64\n",
            " 21  PAY_AMT4                    30000 non-null  int64\n",
            " 22  PAY_AMT5                    30000 non-null  int64\n",
            " 23  PAY_AMT6                    30000 non-null  int64\n",
            " 24  default payment next month  30000 non-null  int64\n",
            "dtypes: int64(25)\n",
            "memory usage: 5.7 MB\n"
          ]
        }
      ]
    },
    {
      "cell_type": "markdown",
      "source": [
        "No missing data, hence no imputation needed"
      ],
      "metadata": {
        "id": "GbFtU50Ac_zg"
      }
    },
    {
      "cell_type": "code",
      "source": [
        "# Change heading names\n",
        "credit = credit.rename(columns={'default payment next month': 'default',\n",
        "                        'PAY_0': 'PAY_1'})\n",
        "credit.head()"
      ],
      "metadata": {
        "colab": {
          "base_uri": "https://localhost:8080/",
          "height": 236
        },
        "id": "N85uwBgte4qn",
        "outputId": "d80cc267-6ff8-4728-af2d-eac793b4ddea"
      },
      "execution_count": 1417,
      "outputs": [
        {
          "output_type": "execute_result",
          "data": {
            "text/plain": [
              "   ID  LIMIT_BAL  SEX  EDUCATION  MARRIAGE  AGE  PAY_1  PAY_2  PAY_3  PAY_4  \\\n",
              "0   1      20000    1          2         1   24      2      2     -1     -1   \n",
              "1   2     120000    2          2         2   26     -1      2      0      0   \n",
              "2   3      90000    2          2         2   34      0      0      0      0   \n",
              "3   4      50000    2          2         1   37      0      0      0      0   \n",
              "4   5      50000    1          2         1   57     -1      0     -1      0   \n",
              "\n",
              "   ...  BILL_AMT4  BILL_AMT5  BILL_AMT6  PAY_AMT1  PAY_AMT2  PAY_AMT3  \\\n",
              "0  ...          0          0          0         0       689         0   \n",
              "1  ...       3272       3455       3261         0      1000      1000   \n",
              "2  ...      14331      14948      15549      1518      1500      1000   \n",
              "3  ...      28314      28959      29547      2000      2019      1200   \n",
              "4  ...      20940      19146      19131      2000     36681     10000   \n",
              "\n",
              "   PAY_AMT4  PAY_AMT5  PAY_AMT6  default  \n",
              "0         0         0         0        1  \n",
              "1      1000         0      2000        1  \n",
              "2      1000      1000      5000        0  \n",
              "3      1100      1069      1000        0  \n",
              "4      9000       689       679        0  \n",
              "\n",
              "[5 rows x 25 columns]"
            ],
            "text/html": [
              "\n",
              "  <div id=\"df-db3d2ae9-39a5-40f2-894c-d602f89dcc40\" class=\"colab-df-container\">\n",
              "    <div>\n",
              "<style scoped>\n",
              "    .dataframe tbody tr th:only-of-type {\n",
              "        vertical-align: middle;\n",
              "    }\n",
              "\n",
              "    .dataframe tbody tr th {\n",
              "        vertical-align: top;\n",
              "    }\n",
              "\n",
              "    .dataframe thead th {\n",
              "        text-align: right;\n",
              "    }\n",
              "</style>\n",
              "<table border=\"1\" class=\"dataframe\">\n",
              "  <thead>\n",
              "    <tr style=\"text-align: right;\">\n",
              "      <th></th>\n",
              "      <th>ID</th>\n",
              "      <th>LIMIT_BAL</th>\n",
              "      <th>SEX</th>\n",
              "      <th>EDUCATION</th>\n",
              "      <th>MARRIAGE</th>\n",
              "      <th>AGE</th>\n",
              "      <th>PAY_1</th>\n",
              "      <th>PAY_2</th>\n",
              "      <th>PAY_3</th>\n",
              "      <th>PAY_4</th>\n",
              "      <th>...</th>\n",
              "      <th>BILL_AMT4</th>\n",
              "      <th>BILL_AMT5</th>\n",
              "      <th>BILL_AMT6</th>\n",
              "      <th>PAY_AMT1</th>\n",
              "      <th>PAY_AMT2</th>\n",
              "      <th>PAY_AMT3</th>\n",
              "      <th>PAY_AMT4</th>\n",
              "      <th>PAY_AMT5</th>\n",
              "      <th>PAY_AMT6</th>\n",
              "      <th>default</th>\n",
              "    </tr>\n",
              "  </thead>\n",
              "  <tbody>\n",
              "    <tr>\n",
              "      <th>0</th>\n",
              "      <td>1</td>\n",
              "      <td>20000</td>\n",
              "      <td>1</td>\n",
              "      <td>2</td>\n",
              "      <td>1</td>\n",
              "      <td>24</td>\n",
              "      <td>2</td>\n",
              "      <td>2</td>\n",
              "      <td>-1</td>\n",
              "      <td>-1</td>\n",
              "      <td>...</td>\n",
              "      <td>0</td>\n",
              "      <td>0</td>\n",
              "      <td>0</td>\n",
              "      <td>0</td>\n",
              "      <td>689</td>\n",
              "      <td>0</td>\n",
              "      <td>0</td>\n",
              "      <td>0</td>\n",
              "      <td>0</td>\n",
              "      <td>1</td>\n",
              "    </tr>\n",
              "    <tr>\n",
              "      <th>1</th>\n",
              "      <td>2</td>\n",
              "      <td>120000</td>\n",
              "      <td>2</td>\n",
              "      <td>2</td>\n",
              "      <td>2</td>\n",
              "      <td>26</td>\n",
              "      <td>-1</td>\n",
              "      <td>2</td>\n",
              "      <td>0</td>\n",
              "      <td>0</td>\n",
              "      <td>...</td>\n",
              "      <td>3272</td>\n",
              "      <td>3455</td>\n",
              "      <td>3261</td>\n",
              "      <td>0</td>\n",
              "      <td>1000</td>\n",
              "      <td>1000</td>\n",
              "      <td>1000</td>\n",
              "      <td>0</td>\n",
              "      <td>2000</td>\n",
              "      <td>1</td>\n",
              "    </tr>\n",
              "    <tr>\n",
              "      <th>2</th>\n",
              "      <td>3</td>\n",
              "      <td>90000</td>\n",
              "      <td>2</td>\n",
              "      <td>2</td>\n",
              "      <td>2</td>\n",
              "      <td>34</td>\n",
              "      <td>0</td>\n",
              "      <td>0</td>\n",
              "      <td>0</td>\n",
              "      <td>0</td>\n",
              "      <td>...</td>\n",
              "      <td>14331</td>\n",
              "      <td>14948</td>\n",
              "      <td>15549</td>\n",
              "      <td>1518</td>\n",
              "      <td>1500</td>\n",
              "      <td>1000</td>\n",
              "      <td>1000</td>\n",
              "      <td>1000</td>\n",
              "      <td>5000</td>\n",
              "      <td>0</td>\n",
              "    </tr>\n",
              "    <tr>\n",
              "      <th>3</th>\n",
              "      <td>4</td>\n",
              "      <td>50000</td>\n",
              "      <td>2</td>\n",
              "      <td>2</td>\n",
              "      <td>1</td>\n",
              "      <td>37</td>\n",
              "      <td>0</td>\n",
              "      <td>0</td>\n",
              "      <td>0</td>\n",
              "      <td>0</td>\n",
              "      <td>...</td>\n",
              "      <td>28314</td>\n",
              "      <td>28959</td>\n",
              "      <td>29547</td>\n",
              "      <td>2000</td>\n",
              "      <td>2019</td>\n",
              "      <td>1200</td>\n",
              "      <td>1100</td>\n",
              "      <td>1069</td>\n",
              "      <td>1000</td>\n",
              "      <td>0</td>\n",
              "    </tr>\n",
              "    <tr>\n",
              "      <th>4</th>\n",
              "      <td>5</td>\n",
              "      <td>50000</td>\n",
              "      <td>1</td>\n",
              "      <td>2</td>\n",
              "      <td>1</td>\n",
              "      <td>57</td>\n",
              "      <td>-1</td>\n",
              "      <td>0</td>\n",
              "      <td>-1</td>\n",
              "      <td>0</td>\n",
              "      <td>...</td>\n",
              "      <td>20940</td>\n",
              "      <td>19146</td>\n",
              "      <td>19131</td>\n",
              "      <td>2000</td>\n",
              "      <td>36681</td>\n",
              "      <td>10000</td>\n",
              "      <td>9000</td>\n",
              "      <td>689</td>\n",
              "      <td>679</td>\n",
              "      <td>0</td>\n",
              "    </tr>\n",
              "  </tbody>\n",
              "</table>\n",
              "<p>5 rows × 25 columns</p>\n",
              "</div>\n",
              "    <div class=\"colab-df-buttons\">\n",
              "\n",
              "  <div class=\"colab-df-container\">\n",
              "    <button class=\"colab-df-convert\" onclick=\"convertToInteractive('df-db3d2ae9-39a5-40f2-894c-d602f89dcc40')\"\n",
              "            title=\"Convert this dataframe to an interactive table.\"\n",
              "            style=\"display:none;\">\n",
              "\n",
              "  <svg xmlns=\"http://www.w3.org/2000/svg\" height=\"24px\" viewBox=\"0 -960 960 960\">\n",
              "    <path d=\"M120-120v-720h720v720H120Zm60-500h600v-160H180v160Zm220 220h160v-160H400v160Zm0 220h160v-160H400v160ZM180-400h160v-160H180v160Zm440 0h160v-160H620v160ZM180-180h160v-160H180v160Zm440 0h160v-160H620v160Z\"/>\n",
              "  </svg>\n",
              "    </button>\n",
              "\n",
              "  <style>\n",
              "    .colab-df-container {\n",
              "      display:flex;\n",
              "      gap: 12px;\n",
              "    }\n",
              "\n",
              "    .colab-df-convert {\n",
              "      background-color: #E8F0FE;\n",
              "      border: none;\n",
              "      border-radius: 50%;\n",
              "      cursor: pointer;\n",
              "      display: none;\n",
              "      fill: #1967D2;\n",
              "      height: 32px;\n",
              "      padding: 0 0 0 0;\n",
              "      width: 32px;\n",
              "    }\n",
              "\n",
              "    .colab-df-convert:hover {\n",
              "      background-color: #E2EBFA;\n",
              "      box-shadow: 0px 1px 2px rgba(60, 64, 67, 0.3), 0px 1px 3px 1px rgba(60, 64, 67, 0.15);\n",
              "      fill: #174EA6;\n",
              "    }\n",
              "\n",
              "    .colab-df-buttons div {\n",
              "      margin-bottom: 4px;\n",
              "    }\n",
              "\n",
              "    [theme=dark] .colab-df-convert {\n",
              "      background-color: #3B4455;\n",
              "      fill: #D2E3FC;\n",
              "    }\n",
              "\n",
              "    [theme=dark] .colab-df-convert:hover {\n",
              "      background-color: #434B5C;\n",
              "      box-shadow: 0px 1px 3px 1px rgba(0, 0, 0, 0.15);\n",
              "      filter: drop-shadow(0px 1px 2px rgba(0, 0, 0, 0.3));\n",
              "      fill: #FFFFFF;\n",
              "    }\n",
              "  </style>\n",
              "\n",
              "    <script>\n",
              "      const buttonEl =\n",
              "        document.querySelector('#df-db3d2ae9-39a5-40f2-894c-d602f89dcc40 button.colab-df-convert');\n",
              "      buttonEl.style.display =\n",
              "        google.colab.kernel.accessAllowed ? 'block' : 'none';\n",
              "\n",
              "      async function convertToInteractive(key) {\n",
              "        const element = document.querySelector('#df-db3d2ae9-39a5-40f2-894c-d602f89dcc40');\n",
              "        const dataTable =\n",
              "          await google.colab.kernel.invokeFunction('convertToInteractive',\n",
              "                                                    [key], {});\n",
              "        if (!dataTable) return;\n",
              "\n",
              "        const docLinkHtml = 'Like what you see? Visit the ' +\n",
              "          '<a target=\"_blank\" href=https://colab.research.google.com/notebooks/data_table.ipynb>data table notebook</a>'\n",
              "          + ' to learn more about interactive tables.';\n",
              "        element.innerHTML = '';\n",
              "        dataTable['output_type'] = 'display_data';\n",
              "        await google.colab.output.renderOutput(dataTable, element);\n",
              "        const docLink = document.createElement('div');\n",
              "        docLink.innerHTML = docLinkHtml;\n",
              "        element.appendChild(docLink);\n",
              "      }\n",
              "    </script>\n",
              "  </div>\n",
              "\n",
              "\n",
              "<div id=\"df-9b376ce9-5f71-44e8-942c-18b028cdbf78\">\n",
              "  <button class=\"colab-df-quickchart\" onclick=\"quickchart('df-9b376ce9-5f71-44e8-942c-18b028cdbf78')\"\n",
              "            title=\"Suggest charts.\"\n",
              "            style=\"display:none;\">\n",
              "\n",
              "<svg xmlns=\"http://www.w3.org/2000/svg\" height=\"24px\"viewBox=\"0 0 24 24\"\n",
              "     width=\"24px\">\n",
              "    <g>\n",
              "        <path d=\"M19 3H5c-1.1 0-2 .9-2 2v14c0 1.1.9 2 2 2h14c1.1 0 2-.9 2-2V5c0-1.1-.9-2-2-2zM9 17H7v-7h2v7zm4 0h-2V7h2v10zm4 0h-2v-4h2v4z\"/>\n",
              "    </g>\n",
              "</svg>\n",
              "  </button>\n",
              "\n",
              "<style>\n",
              "  .colab-df-quickchart {\n",
              "      --bg-color: #E8F0FE;\n",
              "      --fill-color: #1967D2;\n",
              "      --hover-bg-color: #E2EBFA;\n",
              "      --hover-fill-color: #174EA6;\n",
              "      --disabled-fill-color: #AAA;\n",
              "      --disabled-bg-color: #DDD;\n",
              "  }\n",
              "\n",
              "  [theme=dark] .colab-df-quickchart {\n",
              "      --bg-color: #3B4455;\n",
              "      --fill-color: #D2E3FC;\n",
              "      --hover-bg-color: #434B5C;\n",
              "      --hover-fill-color: #FFFFFF;\n",
              "      --disabled-bg-color: #3B4455;\n",
              "      --disabled-fill-color: #666;\n",
              "  }\n",
              "\n",
              "  .colab-df-quickchart {\n",
              "    background-color: var(--bg-color);\n",
              "    border: none;\n",
              "    border-radius: 50%;\n",
              "    cursor: pointer;\n",
              "    display: none;\n",
              "    fill: var(--fill-color);\n",
              "    height: 32px;\n",
              "    padding: 0;\n",
              "    width: 32px;\n",
              "  }\n",
              "\n",
              "  .colab-df-quickchart:hover {\n",
              "    background-color: var(--hover-bg-color);\n",
              "    box-shadow: 0 1px 2px rgba(60, 64, 67, 0.3), 0 1px 3px 1px rgba(60, 64, 67, 0.15);\n",
              "    fill: var(--button-hover-fill-color);\n",
              "  }\n",
              "\n",
              "  .colab-df-quickchart-complete:disabled,\n",
              "  .colab-df-quickchart-complete:disabled:hover {\n",
              "    background-color: var(--disabled-bg-color);\n",
              "    fill: var(--disabled-fill-color);\n",
              "    box-shadow: none;\n",
              "  }\n",
              "\n",
              "  .colab-df-spinner {\n",
              "    border: 2px solid var(--fill-color);\n",
              "    border-color: transparent;\n",
              "    border-bottom-color: var(--fill-color);\n",
              "    animation:\n",
              "      spin 1s steps(1) infinite;\n",
              "  }\n",
              "\n",
              "  @keyframes spin {\n",
              "    0% {\n",
              "      border-color: transparent;\n",
              "      border-bottom-color: var(--fill-color);\n",
              "      border-left-color: var(--fill-color);\n",
              "    }\n",
              "    20% {\n",
              "      border-color: transparent;\n",
              "      border-left-color: var(--fill-color);\n",
              "      border-top-color: var(--fill-color);\n",
              "    }\n",
              "    30% {\n",
              "      border-color: transparent;\n",
              "      border-left-color: var(--fill-color);\n",
              "      border-top-color: var(--fill-color);\n",
              "      border-right-color: var(--fill-color);\n",
              "    }\n",
              "    40% {\n",
              "      border-color: transparent;\n",
              "      border-right-color: var(--fill-color);\n",
              "      border-top-color: var(--fill-color);\n",
              "    }\n",
              "    60% {\n",
              "      border-color: transparent;\n",
              "      border-right-color: var(--fill-color);\n",
              "    }\n",
              "    80% {\n",
              "      border-color: transparent;\n",
              "      border-right-color: var(--fill-color);\n",
              "      border-bottom-color: var(--fill-color);\n",
              "    }\n",
              "    90% {\n",
              "      border-color: transparent;\n",
              "      border-bottom-color: var(--fill-color);\n",
              "    }\n",
              "  }\n",
              "</style>\n",
              "\n",
              "  <script>\n",
              "    async function quickchart(key) {\n",
              "      const quickchartButtonEl =\n",
              "        document.querySelector('#' + key + ' button');\n",
              "      quickchartButtonEl.disabled = true;  // To prevent multiple clicks.\n",
              "      quickchartButtonEl.classList.add('colab-df-spinner');\n",
              "      try {\n",
              "        const charts = await google.colab.kernel.invokeFunction(\n",
              "            'suggestCharts', [key], {});\n",
              "      } catch (error) {\n",
              "        console.error('Error during call to suggestCharts:', error);\n",
              "      }\n",
              "      quickchartButtonEl.classList.remove('colab-df-spinner');\n",
              "      quickchartButtonEl.classList.add('colab-df-quickchart-complete');\n",
              "    }\n",
              "    (() => {\n",
              "      let quickchartButtonEl =\n",
              "        document.querySelector('#df-9b376ce9-5f71-44e8-942c-18b028cdbf78 button');\n",
              "      quickchartButtonEl.style.display =\n",
              "        google.colab.kernel.accessAllowed ? 'block' : 'none';\n",
              "    })();\n",
              "  </script>\n",
              "</div>\n",
              "    </div>\n",
              "  </div>\n"
            ]
          },
          "metadata": {},
          "execution_count": 1417
        }
      ]
    },
    {
      "cell_type": "code",
      "source": [
        "# Categorical variables values\n",
        "print(credit['SEX'].unique())\n",
        "print(credit['EDUCATION'].unique())\n",
        "print(credit['MARRIAGE'].unique())"
      ],
      "metadata": {
        "id": "_bXoBlmBXPuA",
        "colab": {
          "base_uri": "https://localhost:8080/"
        },
        "outputId": "c56685a4-7dd5-4b82-ee5c-3c1de28bc463"
      },
      "execution_count": 1418,
      "outputs": [
        {
          "output_type": "stream",
          "name": "stdout",
          "text": [
            "[1 2]\n",
            "[2 1 3 5 4 6 0]\n",
            "[1 2 3 0]\n"
          ]
        }
      ]
    },
    {
      "cell_type": "markdown",
      "source": [
        "Since 0 in \"Marriage\" and 0, 5 and 6 in \"Education\" are all undocumented in the data dictionary respectively, we categorize them under \"others\" category.\n"
      ],
      "metadata": {
        "id": "rmpsoLMLfukX"
      }
    },
    {
      "cell_type": "code",
      "source": [
        "credit['MARRIAGE'] = credit['MARRIAGE'].replace(0,3)\n",
        "credit['EDUCATION'] = credit['EDUCATION'].replace([0, 5, 6], 4)"
      ],
      "metadata": {
        "id": "z8BpYXKgnrdw"
      },
      "execution_count": 1419,
      "outputs": []
    },
    {
      "cell_type": "code",
      "source": [
        "# PAY_X values\n",
        "print(credit['PAY_1'].unique())\n",
        "print(credit['PAY_2'].unique())\n",
        "print(credit['PAY_3'].unique())\n",
        "print(credit['PAY_4'].unique())\n",
        "print(credit['PAY_5'].unique())\n",
        "print(credit['PAY_6'].unique())"
      ],
      "metadata": {
        "colab": {
          "base_uri": "https://localhost:8080/"
        },
        "id": "yAgeskDnf4q5",
        "outputId": "ad3ec0c5-7c8e-47e1-abe4-592892101e1a"
      },
      "execution_count": 1420,
      "outputs": [
        {
          "output_type": "stream",
          "name": "stdout",
          "text": [
            "[ 2 -1  0 -2  1  3  4  8  7  5  6]\n",
            "[ 2  0 -1 -2  3  5  7  4  1  6  8]\n",
            "[-1  0  2 -2  3  4  6  7  1  5  8]\n",
            "[-1  0 -2  2  3  4  5  7  6  1  8]\n",
            "[-2  0 -1  2  3  5  4  7  8  6]\n",
            "[-2  2  0 -1  3  6  4  7  8  5]\n"
          ]
        }
      ]
    },
    {
      "cell_type": "markdown",
      "source": [
        "According to the data description, PAY_X indicates the number of months of delay in payment.\n",
        "-1 indicates \"pay duly\", while 1-9 indicates \" payment delay for x months\".\n",
        "\n",
        "However, there are -2 and 0 values which are not documented in the data description.\n",
        "\n",
        "Upon further exploration, the -2 value is associated with non-zero bill amount and 0 value is associated with partial bill payment.\n",
        "\n",
        "Furthermore, these 2 values take up a large proportion of all the values for PAY_X columns. Thus, they should not be overlooked or replaced."
      ],
      "metadata": {
        "id": "EvTF3vgGpYAr"
      }
    },
    {
      "cell_type": "code",
      "source": [
        "# BILL_AMTX description\n",
        "credit[['BILL_AMT1', 'BILL_AMT2', 'BILL_AMT3', 'BILL_AMT4', 'BILL_AMT5', 'BILL_AMT6']].describe()"
      ],
      "metadata": {
        "colab": {
          "base_uri": "https://localhost:8080/",
          "height": 300
        },
        "id": "SwW8AWdOgNaf",
        "outputId": "4096dfd3-1775-491e-d08e-fedcca882be8"
      },
      "execution_count": 1421,
      "outputs": [
        {
          "output_type": "execute_result",
          "data": {
            "text/plain": [
              "           BILL_AMT1      BILL_AMT2     BILL_AMT3      BILL_AMT4  \\\n",
              "count   30000.000000   30000.000000  3.000000e+04   30000.000000   \n",
              "mean    51223.330900   49179.075167  4.701315e+04   43262.948967   \n",
              "std     73635.860576   71173.768783  6.934939e+04   64332.856134   \n",
              "min   -165580.000000  -69777.000000 -1.572640e+05 -170000.000000   \n",
              "25%      3558.750000    2984.750000  2.666250e+03    2326.750000   \n",
              "50%     22381.500000   21200.000000  2.008850e+04   19052.000000   \n",
              "75%     67091.000000   64006.250000  6.016475e+04   54506.000000   \n",
              "max    964511.000000  983931.000000  1.664089e+06  891586.000000   \n",
              "\n",
              "           BILL_AMT5      BILL_AMT6  \n",
              "count   30000.000000   30000.000000  \n",
              "mean    40311.400967   38871.760400  \n",
              "std     60797.155770   59554.107537  \n",
              "min    -81334.000000 -339603.000000  \n",
              "25%      1763.000000    1256.000000  \n",
              "50%     18104.500000   17071.000000  \n",
              "75%     50190.500000   49198.250000  \n",
              "max    927171.000000  961664.000000  "
            ],
            "text/html": [
              "\n",
              "  <div id=\"df-31094b38-5585-4d0b-8b60-8790d0c1525c\" class=\"colab-df-container\">\n",
              "    <div>\n",
              "<style scoped>\n",
              "    .dataframe tbody tr th:only-of-type {\n",
              "        vertical-align: middle;\n",
              "    }\n",
              "\n",
              "    .dataframe tbody tr th {\n",
              "        vertical-align: top;\n",
              "    }\n",
              "\n",
              "    .dataframe thead th {\n",
              "        text-align: right;\n",
              "    }\n",
              "</style>\n",
              "<table border=\"1\" class=\"dataframe\">\n",
              "  <thead>\n",
              "    <tr style=\"text-align: right;\">\n",
              "      <th></th>\n",
              "      <th>BILL_AMT1</th>\n",
              "      <th>BILL_AMT2</th>\n",
              "      <th>BILL_AMT3</th>\n",
              "      <th>BILL_AMT4</th>\n",
              "      <th>BILL_AMT5</th>\n",
              "      <th>BILL_AMT6</th>\n",
              "    </tr>\n",
              "  </thead>\n",
              "  <tbody>\n",
              "    <tr>\n",
              "      <th>count</th>\n",
              "      <td>30000.000000</td>\n",
              "      <td>30000.000000</td>\n",
              "      <td>3.000000e+04</td>\n",
              "      <td>30000.000000</td>\n",
              "      <td>30000.000000</td>\n",
              "      <td>30000.000000</td>\n",
              "    </tr>\n",
              "    <tr>\n",
              "      <th>mean</th>\n",
              "      <td>51223.330900</td>\n",
              "      <td>49179.075167</td>\n",
              "      <td>4.701315e+04</td>\n",
              "      <td>43262.948967</td>\n",
              "      <td>40311.400967</td>\n",
              "      <td>38871.760400</td>\n",
              "    </tr>\n",
              "    <tr>\n",
              "      <th>std</th>\n",
              "      <td>73635.860576</td>\n",
              "      <td>71173.768783</td>\n",
              "      <td>6.934939e+04</td>\n",
              "      <td>64332.856134</td>\n",
              "      <td>60797.155770</td>\n",
              "      <td>59554.107537</td>\n",
              "    </tr>\n",
              "    <tr>\n",
              "      <th>min</th>\n",
              "      <td>-165580.000000</td>\n",
              "      <td>-69777.000000</td>\n",
              "      <td>-1.572640e+05</td>\n",
              "      <td>-170000.000000</td>\n",
              "      <td>-81334.000000</td>\n",
              "      <td>-339603.000000</td>\n",
              "    </tr>\n",
              "    <tr>\n",
              "      <th>25%</th>\n",
              "      <td>3558.750000</td>\n",
              "      <td>2984.750000</td>\n",
              "      <td>2.666250e+03</td>\n",
              "      <td>2326.750000</td>\n",
              "      <td>1763.000000</td>\n",
              "      <td>1256.000000</td>\n",
              "    </tr>\n",
              "    <tr>\n",
              "      <th>50%</th>\n",
              "      <td>22381.500000</td>\n",
              "      <td>21200.000000</td>\n",
              "      <td>2.008850e+04</td>\n",
              "      <td>19052.000000</td>\n",
              "      <td>18104.500000</td>\n",
              "      <td>17071.000000</td>\n",
              "    </tr>\n",
              "    <tr>\n",
              "      <th>75%</th>\n",
              "      <td>67091.000000</td>\n",
              "      <td>64006.250000</td>\n",
              "      <td>6.016475e+04</td>\n",
              "      <td>54506.000000</td>\n",
              "      <td>50190.500000</td>\n",
              "      <td>49198.250000</td>\n",
              "    </tr>\n",
              "    <tr>\n",
              "      <th>max</th>\n",
              "      <td>964511.000000</td>\n",
              "      <td>983931.000000</td>\n",
              "      <td>1.664089e+06</td>\n",
              "      <td>891586.000000</td>\n",
              "      <td>927171.000000</td>\n",
              "      <td>961664.000000</td>\n",
              "    </tr>\n",
              "  </tbody>\n",
              "</table>\n",
              "</div>\n",
              "    <div class=\"colab-df-buttons\">\n",
              "\n",
              "  <div class=\"colab-df-container\">\n",
              "    <button class=\"colab-df-convert\" onclick=\"convertToInteractive('df-31094b38-5585-4d0b-8b60-8790d0c1525c')\"\n",
              "            title=\"Convert this dataframe to an interactive table.\"\n",
              "            style=\"display:none;\">\n",
              "\n",
              "  <svg xmlns=\"http://www.w3.org/2000/svg\" height=\"24px\" viewBox=\"0 -960 960 960\">\n",
              "    <path d=\"M120-120v-720h720v720H120Zm60-500h600v-160H180v160Zm220 220h160v-160H400v160Zm0 220h160v-160H400v160ZM180-400h160v-160H180v160Zm440 0h160v-160H620v160ZM180-180h160v-160H180v160Zm440 0h160v-160H620v160Z\"/>\n",
              "  </svg>\n",
              "    </button>\n",
              "\n",
              "  <style>\n",
              "    .colab-df-container {\n",
              "      display:flex;\n",
              "      gap: 12px;\n",
              "    }\n",
              "\n",
              "    .colab-df-convert {\n",
              "      background-color: #E8F0FE;\n",
              "      border: none;\n",
              "      border-radius: 50%;\n",
              "      cursor: pointer;\n",
              "      display: none;\n",
              "      fill: #1967D2;\n",
              "      height: 32px;\n",
              "      padding: 0 0 0 0;\n",
              "      width: 32px;\n",
              "    }\n",
              "\n",
              "    .colab-df-convert:hover {\n",
              "      background-color: #E2EBFA;\n",
              "      box-shadow: 0px 1px 2px rgba(60, 64, 67, 0.3), 0px 1px 3px 1px rgba(60, 64, 67, 0.15);\n",
              "      fill: #174EA6;\n",
              "    }\n",
              "\n",
              "    .colab-df-buttons div {\n",
              "      margin-bottom: 4px;\n",
              "    }\n",
              "\n",
              "    [theme=dark] .colab-df-convert {\n",
              "      background-color: #3B4455;\n",
              "      fill: #D2E3FC;\n",
              "    }\n",
              "\n",
              "    [theme=dark] .colab-df-convert:hover {\n",
              "      background-color: #434B5C;\n",
              "      box-shadow: 0px 1px 3px 1px rgba(0, 0, 0, 0.15);\n",
              "      filter: drop-shadow(0px 1px 2px rgba(0, 0, 0, 0.3));\n",
              "      fill: #FFFFFF;\n",
              "    }\n",
              "  </style>\n",
              "\n",
              "    <script>\n",
              "      const buttonEl =\n",
              "        document.querySelector('#df-31094b38-5585-4d0b-8b60-8790d0c1525c button.colab-df-convert');\n",
              "      buttonEl.style.display =\n",
              "        google.colab.kernel.accessAllowed ? 'block' : 'none';\n",
              "\n",
              "      async function convertToInteractive(key) {\n",
              "        const element = document.querySelector('#df-31094b38-5585-4d0b-8b60-8790d0c1525c');\n",
              "        const dataTable =\n",
              "          await google.colab.kernel.invokeFunction('convertToInteractive',\n",
              "                                                    [key], {});\n",
              "        if (!dataTable) return;\n",
              "\n",
              "        const docLinkHtml = 'Like what you see? Visit the ' +\n",
              "          '<a target=\"_blank\" href=https://colab.research.google.com/notebooks/data_table.ipynb>data table notebook</a>'\n",
              "          + ' to learn more about interactive tables.';\n",
              "        element.innerHTML = '';\n",
              "        dataTable['output_type'] = 'display_data';\n",
              "        await google.colab.output.renderOutput(dataTable, element);\n",
              "        const docLink = document.createElement('div');\n",
              "        docLink.innerHTML = docLinkHtml;\n",
              "        element.appendChild(docLink);\n",
              "      }\n",
              "    </script>\n",
              "  </div>\n",
              "\n",
              "\n",
              "<div id=\"df-22959286-8ed7-4a1c-bf72-1aa6d837a335\">\n",
              "  <button class=\"colab-df-quickchart\" onclick=\"quickchart('df-22959286-8ed7-4a1c-bf72-1aa6d837a335')\"\n",
              "            title=\"Suggest charts.\"\n",
              "            style=\"display:none;\">\n",
              "\n",
              "<svg xmlns=\"http://www.w3.org/2000/svg\" height=\"24px\"viewBox=\"0 0 24 24\"\n",
              "     width=\"24px\">\n",
              "    <g>\n",
              "        <path d=\"M19 3H5c-1.1 0-2 .9-2 2v14c0 1.1.9 2 2 2h14c1.1 0 2-.9 2-2V5c0-1.1-.9-2-2-2zM9 17H7v-7h2v7zm4 0h-2V7h2v10zm4 0h-2v-4h2v4z\"/>\n",
              "    </g>\n",
              "</svg>\n",
              "  </button>\n",
              "\n",
              "<style>\n",
              "  .colab-df-quickchart {\n",
              "      --bg-color: #E8F0FE;\n",
              "      --fill-color: #1967D2;\n",
              "      --hover-bg-color: #E2EBFA;\n",
              "      --hover-fill-color: #174EA6;\n",
              "      --disabled-fill-color: #AAA;\n",
              "      --disabled-bg-color: #DDD;\n",
              "  }\n",
              "\n",
              "  [theme=dark] .colab-df-quickchart {\n",
              "      --bg-color: #3B4455;\n",
              "      --fill-color: #D2E3FC;\n",
              "      --hover-bg-color: #434B5C;\n",
              "      --hover-fill-color: #FFFFFF;\n",
              "      --disabled-bg-color: #3B4455;\n",
              "      --disabled-fill-color: #666;\n",
              "  }\n",
              "\n",
              "  .colab-df-quickchart {\n",
              "    background-color: var(--bg-color);\n",
              "    border: none;\n",
              "    border-radius: 50%;\n",
              "    cursor: pointer;\n",
              "    display: none;\n",
              "    fill: var(--fill-color);\n",
              "    height: 32px;\n",
              "    padding: 0;\n",
              "    width: 32px;\n",
              "  }\n",
              "\n",
              "  .colab-df-quickchart:hover {\n",
              "    background-color: var(--hover-bg-color);\n",
              "    box-shadow: 0 1px 2px rgba(60, 64, 67, 0.3), 0 1px 3px 1px rgba(60, 64, 67, 0.15);\n",
              "    fill: var(--button-hover-fill-color);\n",
              "  }\n",
              "\n",
              "  .colab-df-quickchart-complete:disabled,\n",
              "  .colab-df-quickchart-complete:disabled:hover {\n",
              "    background-color: var(--disabled-bg-color);\n",
              "    fill: var(--disabled-fill-color);\n",
              "    box-shadow: none;\n",
              "  }\n",
              "\n",
              "  .colab-df-spinner {\n",
              "    border: 2px solid var(--fill-color);\n",
              "    border-color: transparent;\n",
              "    border-bottom-color: var(--fill-color);\n",
              "    animation:\n",
              "      spin 1s steps(1) infinite;\n",
              "  }\n",
              "\n",
              "  @keyframes spin {\n",
              "    0% {\n",
              "      border-color: transparent;\n",
              "      border-bottom-color: var(--fill-color);\n",
              "      border-left-color: var(--fill-color);\n",
              "    }\n",
              "    20% {\n",
              "      border-color: transparent;\n",
              "      border-left-color: var(--fill-color);\n",
              "      border-top-color: var(--fill-color);\n",
              "    }\n",
              "    30% {\n",
              "      border-color: transparent;\n",
              "      border-left-color: var(--fill-color);\n",
              "      border-top-color: var(--fill-color);\n",
              "      border-right-color: var(--fill-color);\n",
              "    }\n",
              "    40% {\n",
              "      border-color: transparent;\n",
              "      border-right-color: var(--fill-color);\n",
              "      border-top-color: var(--fill-color);\n",
              "    }\n",
              "    60% {\n",
              "      border-color: transparent;\n",
              "      border-right-color: var(--fill-color);\n",
              "    }\n",
              "    80% {\n",
              "      border-color: transparent;\n",
              "      border-right-color: var(--fill-color);\n",
              "      border-bottom-color: var(--fill-color);\n",
              "    }\n",
              "    90% {\n",
              "      border-color: transparent;\n",
              "      border-bottom-color: var(--fill-color);\n",
              "    }\n",
              "  }\n",
              "</style>\n",
              "\n",
              "  <script>\n",
              "    async function quickchart(key) {\n",
              "      const quickchartButtonEl =\n",
              "        document.querySelector('#' + key + ' button');\n",
              "      quickchartButtonEl.disabled = true;  // To prevent multiple clicks.\n",
              "      quickchartButtonEl.classList.add('colab-df-spinner');\n",
              "      try {\n",
              "        const charts = await google.colab.kernel.invokeFunction(\n",
              "            'suggestCharts', [key], {});\n",
              "      } catch (error) {\n",
              "        console.error('Error during call to suggestCharts:', error);\n",
              "      }\n",
              "      quickchartButtonEl.classList.remove('colab-df-spinner');\n",
              "      quickchartButtonEl.classList.add('colab-df-quickchart-complete');\n",
              "    }\n",
              "    (() => {\n",
              "      let quickchartButtonEl =\n",
              "        document.querySelector('#df-22959286-8ed7-4a1c-bf72-1aa6d837a335 button');\n",
              "      quickchartButtonEl.style.display =\n",
              "        google.colab.kernel.accessAllowed ? 'block' : 'none';\n",
              "    })();\n",
              "  </script>\n",
              "</div>\n",
              "    </div>\n",
              "  </div>\n"
            ]
          },
          "metadata": {},
          "execution_count": 1421
        }
      ]
    },
    {
      "cell_type": "markdown",
      "source": [
        "Negative values are present, has to be investigated"
      ],
      "metadata": {
        "id": "YplDyw2MgVRg"
      }
    },
    {
      "cell_type": "code",
      "source": [
        "# PAY_AMTX description\n",
        "credit[['PAY_AMT1', 'PAY_AMT2', 'PAY_AMT3', 'PAY_AMT4', 'PAY_AMT5', 'PAY_AMT6']].describe()"
      ],
      "metadata": {
        "colab": {
          "base_uri": "https://localhost:8080/",
          "height": 300
        },
        "id": "-TauBdGegcSP",
        "outputId": "1d950b8f-5779-47e9-9e25-06a6e239a631"
      },
      "execution_count": 1422,
      "outputs": [
        {
          "output_type": "execute_result",
          "data": {
            "text/plain": [
              "            PAY_AMT1      PAY_AMT2      PAY_AMT3       PAY_AMT4  \\\n",
              "count   30000.000000  3.000000e+04   30000.00000   30000.000000   \n",
              "mean     5663.580500  5.921163e+03    5225.68150    4826.076867   \n",
              "std     16563.280354  2.304087e+04   17606.96147   15666.159744   \n",
              "min         0.000000  0.000000e+00       0.00000       0.000000   \n",
              "25%      1000.000000  8.330000e+02     390.00000     296.000000   \n",
              "50%      2100.000000  2.009000e+03    1800.00000    1500.000000   \n",
              "75%      5006.000000  5.000000e+03    4505.00000    4013.250000   \n",
              "max    873552.000000  1.684259e+06  896040.00000  621000.000000   \n",
              "\n",
              "            PAY_AMT5       PAY_AMT6  \n",
              "count   30000.000000   30000.000000  \n",
              "mean     4799.387633    5215.502567  \n",
              "std     15278.305679   17777.465775  \n",
              "min         0.000000       0.000000  \n",
              "25%       252.500000     117.750000  \n",
              "50%      1500.000000    1500.000000  \n",
              "75%      4031.500000    4000.000000  \n",
              "max    426529.000000  528666.000000  "
            ],
            "text/html": [
              "\n",
              "  <div id=\"df-4a0e6134-5272-4921-934a-a20be0973333\" class=\"colab-df-container\">\n",
              "    <div>\n",
              "<style scoped>\n",
              "    .dataframe tbody tr th:only-of-type {\n",
              "        vertical-align: middle;\n",
              "    }\n",
              "\n",
              "    .dataframe tbody tr th {\n",
              "        vertical-align: top;\n",
              "    }\n",
              "\n",
              "    .dataframe thead th {\n",
              "        text-align: right;\n",
              "    }\n",
              "</style>\n",
              "<table border=\"1\" class=\"dataframe\">\n",
              "  <thead>\n",
              "    <tr style=\"text-align: right;\">\n",
              "      <th></th>\n",
              "      <th>PAY_AMT1</th>\n",
              "      <th>PAY_AMT2</th>\n",
              "      <th>PAY_AMT3</th>\n",
              "      <th>PAY_AMT4</th>\n",
              "      <th>PAY_AMT5</th>\n",
              "      <th>PAY_AMT6</th>\n",
              "    </tr>\n",
              "  </thead>\n",
              "  <tbody>\n",
              "    <tr>\n",
              "      <th>count</th>\n",
              "      <td>30000.000000</td>\n",
              "      <td>3.000000e+04</td>\n",
              "      <td>30000.00000</td>\n",
              "      <td>30000.000000</td>\n",
              "      <td>30000.000000</td>\n",
              "      <td>30000.000000</td>\n",
              "    </tr>\n",
              "    <tr>\n",
              "      <th>mean</th>\n",
              "      <td>5663.580500</td>\n",
              "      <td>5.921163e+03</td>\n",
              "      <td>5225.68150</td>\n",
              "      <td>4826.076867</td>\n",
              "      <td>4799.387633</td>\n",
              "      <td>5215.502567</td>\n",
              "    </tr>\n",
              "    <tr>\n",
              "      <th>std</th>\n",
              "      <td>16563.280354</td>\n",
              "      <td>2.304087e+04</td>\n",
              "      <td>17606.96147</td>\n",
              "      <td>15666.159744</td>\n",
              "      <td>15278.305679</td>\n",
              "      <td>17777.465775</td>\n",
              "    </tr>\n",
              "    <tr>\n",
              "      <th>min</th>\n",
              "      <td>0.000000</td>\n",
              "      <td>0.000000e+00</td>\n",
              "      <td>0.00000</td>\n",
              "      <td>0.000000</td>\n",
              "      <td>0.000000</td>\n",
              "      <td>0.000000</td>\n",
              "    </tr>\n",
              "    <tr>\n",
              "      <th>25%</th>\n",
              "      <td>1000.000000</td>\n",
              "      <td>8.330000e+02</td>\n",
              "      <td>390.00000</td>\n",
              "      <td>296.000000</td>\n",
              "      <td>252.500000</td>\n",
              "      <td>117.750000</td>\n",
              "    </tr>\n",
              "    <tr>\n",
              "      <th>50%</th>\n",
              "      <td>2100.000000</td>\n",
              "      <td>2.009000e+03</td>\n",
              "      <td>1800.00000</td>\n",
              "      <td>1500.000000</td>\n",
              "      <td>1500.000000</td>\n",
              "      <td>1500.000000</td>\n",
              "    </tr>\n",
              "    <tr>\n",
              "      <th>75%</th>\n",
              "      <td>5006.000000</td>\n",
              "      <td>5.000000e+03</td>\n",
              "      <td>4505.00000</td>\n",
              "      <td>4013.250000</td>\n",
              "      <td>4031.500000</td>\n",
              "      <td>4000.000000</td>\n",
              "    </tr>\n",
              "    <tr>\n",
              "      <th>max</th>\n",
              "      <td>873552.000000</td>\n",
              "      <td>1.684259e+06</td>\n",
              "      <td>896040.00000</td>\n",
              "      <td>621000.000000</td>\n",
              "      <td>426529.000000</td>\n",
              "      <td>528666.000000</td>\n",
              "    </tr>\n",
              "  </tbody>\n",
              "</table>\n",
              "</div>\n",
              "    <div class=\"colab-df-buttons\">\n",
              "\n",
              "  <div class=\"colab-df-container\">\n",
              "    <button class=\"colab-df-convert\" onclick=\"convertToInteractive('df-4a0e6134-5272-4921-934a-a20be0973333')\"\n",
              "            title=\"Convert this dataframe to an interactive table.\"\n",
              "            style=\"display:none;\">\n",
              "\n",
              "  <svg xmlns=\"http://www.w3.org/2000/svg\" height=\"24px\" viewBox=\"0 -960 960 960\">\n",
              "    <path d=\"M120-120v-720h720v720H120Zm60-500h600v-160H180v160Zm220 220h160v-160H400v160Zm0 220h160v-160H400v160ZM180-400h160v-160H180v160Zm440 0h160v-160H620v160ZM180-180h160v-160H180v160Zm440 0h160v-160H620v160Z\"/>\n",
              "  </svg>\n",
              "    </button>\n",
              "\n",
              "  <style>\n",
              "    .colab-df-container {\n",
              "      display:flex;\n",
              "      gap: 12px;\n",
              "    }\n",
              "\n",
              "    .colab-df-convert {\n",
              "      background-color: #E8F0FE;\n",
              "      border: none;\n",
              "      border-radius: 50%;\n",
              "      cursor: pointer;\n",
              "      display: none;\n",
              "      fill: #1967D2;\n",
              "      height: 32px;\n",
              "      padding: 0 0 0 0;\n",
              "      width: 32px;\n",
              "    }\n",
              "\n",
              "    .colab-df-convert:hover {\n",
              "      background-color: #E2EBFA;\n",
              "      box-shadow: 0px 1px 2px rgba(60, 64, 67, 0.3), 0px 1px 3px 1px rgba(60, 64, 67, 0.15);\n",
              "      fill: #174EA6;\n",
              "    }\n",
              "\n",
              "    .colab-df-buttons div {\n",
              "      margin-bottom: 4px;\n",
              "    }\n",
              "\n",
              "    [theme=dark] .colab-df-convert {\n",
              "      background-color: #3B4455;\n",
              "      fill: #D2E3FC;\n",
              "    }\n",
              "\n",
              "    [theme=dark] .colab-df-convert:hover {\n",
              "      background-color: #434B5C;\n",
              "      box-shadow: 0px 1px 3px 1px rgba(0, 0, 0, 0.15);\n",
              "      filter: drop-shadow(0px 1px 2px rgba(0, 0, 0, 0.3));\n",
              "      fill: #FFFFFF;\n",
              "    }\n",
              "  </style>\n",
              "\n",
              "    <script>\n",
              "      const buttonEl =\n",
              "        document.querySelector('#df-4a0e6134-5272-4921-934a-a20be0973333 button.colab-df-convert');\n",
              "      buttonEl.style.display =\n",
              "        google.colab.kernel.accessAllowed ? 'block' : 'none';\n",
              "\n",
              "      async function convertToInteractive(key) {\n",
              "        const element = document.querySelector('#df-4a0e6134-5272-4921-934a-a20be0973333');\n",
              "        const dataTable =\n",
              "          await google.colab.kernel.invokeFunction('convertToInteractive',\n",
              "                                                    [key], {});\n",
              "        if (!dataTable) return;\n",
              "\n",
              "        const docLinkHtml = 'Like what you see? Visit the ' +\n",
              "          '<a target=\"_blank\" href=https://colab.research.google.com/notebooks/data_table.ipynb>data table notebook</a>'\n",
              "          + ' to learn more about interactive tables.';\n",
              "        element.innerHTML = '';\n",
              "        dataTable['output_type'] = 'display_data';\n",
              "        await google.colab.output.renderOutput(dataTable, element);\n",
              "        const docLink = document.createElement('div');\n",
              "        docLink.innerHTML = docLinkHtml;\n",
              "        element.appendChild(docLink);\n",
              "      }\n",
              "    </script>\n",
              "  </div>\n",
              "\n",
              "\n",
              "<div id=\"df-2e84022c-fc1e-4bbb-afc9-319108801dbc\">\n",
              "  <button class=\"colab-df-quickchart\" onclick=\"quickchart('df-2e84022c-fc1e-4bbb-afc9-319108801dbc')\"\n",
              "            title=\"Suggest charts.\"\n",
              "            style=\"display:none;\">\n",
              "\n",
              "<svg xmlns=\"http://www.w3.org/2000/svg\" height=\"24px\"viewBox=\"0 0 24 24\"\n",
              "     width=\"24px\">\n",
              "    <g>\n",
              "        <path d=\"M19 3H5c-1.1 0-2 .9-2 2v14c0 1.1.9 2 2 2h14c1.1 0 2-.9 2-2V5c0-1.1-.9-2-2-2zM9 17H7v-7h2v7zm4 0h-2V7h2v10zm4 0h-2v-4h2v4z\"/>\n",
              "    </g>\n",
              "</svg>\n",
              "  </button>\n",
              "\n",
              "<style>\n",
              "  .colab-df-quickchart {\n",
              "      --bg-color: #E8F0FE;\n",
              "      --fill-color: #1967D2;\n",
              "      --hover-bg-color: #E2EBFA;\n",
              "      --hover-fill-color: #174EA6;\n",
              "      --disabled-fill-color: #AAA;\n",
              "      --disabled-bg-color: #DDD;\n",
              "  }\n",
              "\n",
              "  [theme=dark] .colab-df-quickchart {\n",
              "      --bg-color: #3B4455;\n",
              "      --fill-color: #D2E3FC;\n",
              "      --hover-bg-color: #434B5C;\n",
              "      --hover-fill-color: #FFFFFF;\n",
              "      --disabled-bg-color: #3B4455;\n",
              "      --disabled-fill-color: #666;\n",
              "  }\n",
              "\n",
              "  .colab-df-quickchart {\n",
              "    background-color: var(--bg-color);\n",
              "    border: none;\n",
              "    border-radius: 50%;\n",
              "    cursor: pointer;\n",
              "    display: none;\n",
              "    fill: var(--fill-color);\n",
              "    height: 32px;\n",
              "    padding: 0;\n",
              "    width: 32px;\n",
              "  }\n",
              "\n",
              "  .colab-df-quickchart:hover {\n",
              "    background-color: var(--hover-bg-color);\n",
              "    box-shadow: 0 1px 2px rgba(60, 64, 67, 0.3), 0 1px 3px 1px rgba(60, 64, 67, 0.15);\n",
              "    fill: var(--button-hover-fill-color);\n",
              "  }\n",
              "\n",
              "  .colab-df-quickchart-complete:disabled,\n",
              "  .colab-df-quickchart-complete:disabled:hover {\n",
              "    background-color: var(--disabled-bg-color);\n",
              "    fill: var(--disabled-fill-color);\n",
              "    box-shadow: none;\n",
              "  }\n",
              "\n",
              "  .colab-df-spinner {\n",
              "    border: 2px solid var(--fill-color);\n",
              "    border-color: transparent;\n",
              "    border-bottom-color: var(--fill-color);\n",
              "    animation:\n",
              "      spin 1s steps(1) infinite;\n",
              "  }\n",
              "\n",
              "  @keyframes spin {\n",
              "    0% {\n",
              "      border-color: transparent;\n",
              "      border-bottom-color: var(--fill-color);\n",
              "      border-left-color: var(--fill-color);\n",
              "    }\n",
              "    20% {\n",
              "      border-color: transparent;\n",
              "      border-left-color: var(--fill-color);\n",
              "      border-top-color: var(--fill-color);\n",
              "    }\n",
              "    30% {\n",
              "      border-color: transparent;\n",
              "      border-left-color: var(--fill-color);\n",
              "      border-top-color: var(--fill-color);\n",
              "      border-right-color: var(--fill-color);\n",
              "    }\n",
              "    40% {\n",
              "      border-color: transparent;\n",
              "      border-right-color: var(--fill-color);\n",
              "      border-top-color: var(--fill-color);\n",
              "    }\n",
              "    60% {\n",
              "      border-color: transparent;\n",
              "      border-right-color: var(--fill-color);\n",
              "    }\n",
              "    80% {\n",
              "      border-color: transparent;\n",
              "      border-right-color: var(--fill-color);\n",
              "      border-bottom-color: var(--fill-color);\n",
              "    }\n",
              "    90% {\n",
              "      border-color: transparent;\n",
              "      border-bottom-color: var(--fill-color);\n",
              "    }\n",
              "  }\n",
              "</style>\n",
              "\n",
              "  <script>\n",
              "    async function quickchart(key) {\n",
              "      const quickchartButtonEl =\n",
              "        document.querySelector('#' + key + ' button');\n",
              "      quickchartButtonEl.disabled = true;  // To prevent multiple clicks.\n",
              "      quickchartButtonEl.classList.add('colab-df-spinner');\n",
              "      try {\n",
              "        const charts = await google.colab.kernel.invokeFunction(\n",
              "            'suggestCharts', [key], {});\n",
              "      } catch (error) {\n",
              "        console.error('Error during call to suggestCharts:', error);\n",
              "      }\n",
              "      quickchartButtonEl.classList.remove('colab-df-spinner');\n",
              "      quickchartButtonEl.classList.add('colab-df-quickchart-complete');\n",
              "    }\n",
              "    (() => {\n",
              "      let quickchartButtonEl =\n",
              "        document.querySelector('#df-2e84022c-fc1e-4bbb-afc9-319108801dbc button');\n",
              "      quickchartButtonEl.style.display =\n",
              "        google.colab.kernel.accessAllowed ? 'block' : 'none';\n",
              "    })();\n",
              "  </script>\n",
              "</div>\n",
              "    </div>\n",
              "  </div>\n"
            ]
          },
          "metadata": {},
          "execution_count": 1422
        }
      ]
    },
    {
      "cell_type": "code",
      "source": [
        "credit[credit.default == 1][['BILL_AMT6', 'PAY_AMT6', 'PAY_6',\n",
        "                             'BILL_AMT5', 'PAY_AMT5', 'PAY_5',\n",
        "                             'BILL_AMT4', 'PAY_AMT4', 'PAY_4',\n",
        "                             'BILL_AMT3', 'PAY_AMT3', 'PAY_3',\n",
        "                             'BILL_AMT2', 'PAY_AMT2', 'PAY_2',\n",
        "                             'BILL_AMT1', 'PAY_AMT1', 'PAY_1']]"
      ],
      "metadata": {
        "colab": {
          "base_uri": "https://localhost:8080/",
          "height": 424
        },
        "id": "u4wUPZX7Z2Qz",
        "outputId": "e216edf8-443d-4fa7-c1c6-c3c465ba2de8"
      },
      "execution_count": 1423,
      "outputs": [
        {
          "output_type": "execute_result",
          "data": {
            "text/plain": [
              "       BILL_AMT6  PAY_AMT6  PAY_6  BILL_AMT5  PAY_AMT5  PAY_5  BILL_AMT4  \\\n",
              "0              0         0     -2          0         0     -2          0   \n",
              "1           3261      2000      2       3455         0      0       3272   \n",
              "13         36894         0      2      36137      1500      0      66782   \n",
              "16         19104         0      2      17905      1650      2      18338   \n",
              "21           316         0     -1        632       316     -1          0   \n",
              "...          ...       ...    ...        ...       ...    ...        ...   \n",
              "29991       2500         0      2       2500         0      2       2500   \n",
              "29994      81158      4000      2      82607         0      2      77519   \n",
              "29997      19357      3100      0      20582      2000      0      20878   \n",
              "29998      48944      1804     -1      11855     52964      0      52774   \n",
              "29999      15313      1000      0      32428      1000      0      36535   \n",
              "\n",
              "       PAY_AMT4  PAY_4  BILL_AMT3  PAY_AMT3  PAY_3  BILL_AMT2  PAY_AMT2  \\\n",
              "0             0     -1        689         0     -1       3102       689   \n",
              "1          1000      0       2682      1000      0       1725      1000   \n",
              "13         3000      0      65701      3000      2      67369         0   \n",
              "16            0      2      17428      1500      2      18010         0   \n",
              "21          632     -1        316         0     -1        316       316   \n",
              "...         ...    ...        ...       ...    ...        ...       ...   \n",
              "29991         0      2       2500         0      2       2500         0   \n",
              "29994      7000      2      79384         0      2      77708      3500   \n",
              "29997      4200     -1       2758     22000      2       3356         0   \n",
              "29998      1926      0      76304      1178      0      78379      3409   \n",
              "29999      1000      0      49764      1430      0      48905      1800   \n",
              "\n",
              "       PAY_2  BILL_AMT1  PAY_AMT1  PAY_1  \n",
              "0          2       3913         0      2  \n",
              "1          2       2682         0     -1  \n",
              "13         2      65802      3200      1  \n",
              "16         0      15376      3200      0  \n",
              "21        -1        316       316     -1  \n",
              "...      ...        ...       ...    ...  \n",
              "29991      2       2500         0      3  \n",
              "29994      2      72557      7000      2  \n",
              "29997      3       3565         0      4  \n",
              "29998     -1      -1645     85900      1  \n",
              "29999      0      47929      2078      0  \n",
              "\n",
              "[6636 rows x 18 columns]"
            ],
            "text/html": [
              "\n",
              "  <div id=\"df-669e5504-ca6c-4923-afcc-78b579edc9e8\" class=\"colab-df-container\">\n",
              "    <div>\n",
              "<style scoped>\n",
              "    .dataframe tbody tr th:only-of-type {\n",
              "        vertical-align: middle;\n",
              "    }\n",
              "\n",
              "    .dataframe tbody tr th {\n",
              "        vertical-align: top;\n",
              "    }\n",
              "\n",
              "    .dataframe thead th {\n",
              "        text-align: right;\n",
              "    }\n",
              "</style>\n",
              "<table border=\"1\" class=\"dataframe\">\n",
              "  <thead>\n",
              "    <tr style=\"text-align: right;\">\n",
              "      <th></th>\n",
              "      <th>BILL_AMT6</th>\n",
              "      <th>PAY_AMT6</th>\n",
              "      <th>PAY_6</th>\n",
              "      <th>BILL_AMT5</th>\n",
              "      <th>PAY_AMT5</th>\n",
              "      <th>PAY_5</th>\n",
              "      <th>BILL_AMT4</th>\n",
              "      <th>PAY_AMT4</th>\n",
              "      <th>PAY_4</th>\n",
              "      <th>BILL_AMT3</th>\n",
              "      <th>PAY_AMT3</th>\n",
              "      <th>PAY_3</th>\n",
              "      <th>BILL_AMT2</th>\n",
              "      <th>PAY_AMT2</th>\n",
              "      <th>PAY_2</th>\n",
              "      <th>BILL_AMT1</th>\n",
              "      <th>PAY_AMT1</th>\n",
              "      <th>PAY_1</th>\n",
              "    </tr>\n",
              "  </thead>\n",
              "  <tbody>\n",
              "    <tr>\n",
              "      <th>0</th>\n",
              "      <td>0</td>\n",
              "      <td>0</td>\n",
              "      <td>-2</td>\n",
              "      <td>0</td>\n",
              "      <td>0</td>\n",
              "      <td>-2</td>\n",
              "      <td>0</td>\n",
              "      <td>0</td>\n",
              "      <td>-1</td>\n",
              "      <td>689</td>\n",
              "      <td>0</td>\n",
              "      <td>-1</td>\n",
              "      <td>3102</td>\n",
              "      <td>689</td>\n",
              "      <td>2</td>\n",
              "      <td>3913</td>\n",
              "      <td>0</td>\n",
              "      <td>2</td>\n",
              "    </tr>\n",
              "    <tr>\n",
              "      <th>1</th>\n",
              "      <td>3261</td>\n",
              "      <td>2000</td>\n",
              "      <td>2</td>\n",
              "      <td>3455</td>\n",
              "      <td>0</td>\n",
              "      <td>0</td>\n",
              "      <td>3272</td>\n",
              "      <td>1000</td>\n",
              "      <td>0</td>\n",
              "      <td>2682</td>\n",
              "      <td>1000</td>\n",
              "      <td>0</td>\n",
              "      <td>1725</td>\n",
              "      <td>1000</td>\n",
              "      <td>2</td>\n",
              "      <td>2682</td>\n",
              "      <td>0</td>\n",
              "      <td>-1</td>\n",
              "    </tr>\n",
              "    <tr>\n",
              "      <th>13</th>\n",
              "      <td>36894</td>\n",
              "      <td>0</td>\n",
              "      <td>2</td>\n",
              "      <td>36137</td>\n",
              "      <td>1500</td>\n",
              "      <td>0</td>\n",
              "      <td>66782</td>\n",
              "      <td>3000</td>\n",
              "      <td>0</td>\n",
              "      <td>65701</td>\n",
              "      <td>3000</td>\n",
              "      <td>2</td>\n",
              "      <td>67369</td>\n",
              "      <td>0</td>\n",
              "      <td>2</td>\n",
              "      <td>65802</td>\n",
              "      <td>3200</td>\n",
              "      <td>1</td>\n",
              "    </tr>\n",
              "    <tr>\n",
              "      <th>16</th>\n",
              "      <td>19104</td>\n",
              "      <td>0</td>\n",
              "      <td>2</td>\n",
              "      <td>17905</td>\n",
              "      <td>1650</td>\n",
              "      <td>2</td>\n",
              "      <td>18338</td>\n",
              "      <td>0</td>\n",
              "      <td>2</td>\n",
              "      <td>17428</td>\n",
              "      <td>1500</td>\n",
              "      <td>2</td>\n",
              "      <td>18010</td>\n",
              "      <td>0</td>\n",
              "      <td>0</td>\n",
              "      <td>15376</td>\n",
              "      <td>3200</td>\n",
              "      <td>0</td>\n",
              "    </tr>\n",
              "    <tr>\n",
              "      <th>21</th>\n",
              "      <td>316</td>\n",
              "      <td>0</td>\n",
              "      <td>-1</td>\n",
              "      <td>632</td>\n",
              "      <td>316</td>\n",
              "      <td>-1</td>\n",
              "      <td>0</td>\n",
              "      <td>632</td>\n",
              "      <td>-1</td>\n",
              "      <td>316</td>\n",
              "      <td>0</td>\n",
              "      <td>-1</td>\n",
              "      <td>316</td>\n",
              "      <td>316</td>\n",
              "      <td>-1</td>\n",
              "      <td>316</td>\n",
              "      <td>316</td>\n",
              "      <td>-1</td>\n",
              "    </tr>\n",
              "    <tr>\n",
              "      <th>...</th>\n",
              "      <td>...</td>\n",
              "      <td>...</td>\n",
              "      <td>...</td>\n",
              "      <td>...</td>\n",
              "      <td>...</td>\n",
              "      <td>...</td>\n",
              "      <td>...</td>\n",
              "      <td>...</td>\n",
              "      <td>...</td>\n",
              "      <td>...</td>\n",
              "      <td>...</td>\n",
              "      <td>...</td>\n",
              "      <td>...</td>\n",
              "      <td>...</td>\n",
              "      <td>...</td>\n",
              "      <td>...</td>\n",
              "      <td>...</td>\n",
              "      <td>...</td>\n",
              "    </tr>\n",
              "    <tr>\n",
              "      <th>29991</th>\n",
              "      <td>2500</td>\n",
              "      <td>0</td>\n",
              "      <td>2</td>\n",
              "      <td>2500</td>\n",
              "      <td>0</td>\n",
              "      <td>2</td>\n",
              "      <td>2500</td>\n",
              "      <td>0</td>\n",
              "      <td>2</td>\n",
              "      <td>2500</td>\n",
              "      <td>0</td>\n",
              "      <td>2</td>\n",
              "      <td>2500</td>\n",
              "      <td>0</td>\n",
              "      <td>2</td>\n",
              "      <td>2500</td>\n",
              "      <td>0</td>\n",
              "      <td>3</td>\n",
              "    </tr>\n",
              "    <tr>\n",
              "      <th>29994</th>\n",
              "      <td>81158</td>\n",
              "      <td>4000</td>\n",
              "      <td>2</td>\n",
              "      <td>82607</td>\n",
              "      <td>0</td>\n",
              "      <td>2</td>\n",
              "      <td>77519</td>\n",
              "      <td>7000</td>\n",
              "      <td>2</td>\n",
              "      <td>79384</td>\n",
              "      <td>0</td>\n",
              "      <td>2</td>\n",
              "      <td>77708</td>\n",
              "      <td>3500</td>\n",
              "      <td>2</td>\n",
              "      <td>72557</td>\n",
              "      <td>7000</td>\n",
              "      <td>2</td>\n",
              "    </tr>\n",
              "    <tr>\n",
              "      <th>29997</th>\n",
              "      <td>19357</td>\n",
              "      <td>3100</td>\n",
              "      <td>0</td>\n",
              "      <td>20582</td>\n",
              "      <td>2000</td>\n",
              "      <td>0</td>\n",
              "      <td>20878</td>\n",
              "      <td>4200</td>\n",
              "      <td>-1</td>\n",
              "      <td>2758</td>\n",
              "      <td>22000</td>\n",
              "      <td>2</td>\n",
              "      <td>3356</td>\n",
              "      <td>0</td>\n",
              "      <td>3</td>\n",
              "      <td>3565</td>\n",
              "      <td>0</td>\n",
              "      <td>4</td>\n",
              "    </tr>\n",
              "    <tr>\n",
              "      <th>29998</th>\n",
              "      <td>48944</td>\n",
              "      <td>1804</td>\n",
              "      <td>-1</td>\n",
              "      <td>11855</td>\n",
              "      <td>52964</td>\n",
              "      <td>0</td>\n",
              "      <td>52774</td>\n",
              "      <td>1926</td>\n",
              "      <td>0</td>\n",
              "      <td>76304</td>\n",
              "      <td>1178</td>\n",
              "      <td>0</td>\n",
              "      <td>78379</td>\n",
              "      <td>3409</td>\n",
              "      <td>-1</td>\n",
              "      <td>-1645</td>\n",
              "      <td>85900</td>\n",
              "      <td>1</td>\n",
              "    </tr>\n",
              "    <tr>\n",
              "      <th>29999</th>\n",
              "      <td>15313</td>\n",
              "      <td>1000</td>\n",
              "      <td>0</td>\n",
              "      <td>32428</td>\n",
              "      <td>1000</td>\n",
              "      <td>0</td>\n",
              "      <td>36535</td>\n",
              "      <td>1000</td>\n",
              "      <td>0</td>\n",
              "      <td>49764</td>\n",
              "      <td>1430</td>\n",
              "      <td>0</td>\n",
              "      <td>48905</td>\n",
              "      <td>1800</td>\n",
              "      <td>0</td>\n",
              "      <td>47929</td>\n",
              "      <td>2078</td>\n",
              "      <td>0</td>\n",
              "    </tr>\n",
              "  </tbody>\n",
              "</table>\n",
              "<p>6636 rows × 18 columns</p>\n",
              "</div>\n",
              "    <div class=\"colab-df-buttons\">\n",
              "\n",
              "  <div class=\"colab-df-container\">\n",
              "    <button class=\"colab-df-convert\" onclick=\"convertToInteractive('df-669e5504-ca6c-4923-afcc-78b579edc9e8')\"\n",
              "            title=\"Convert this dataframe to an interactive table.\"\n",
              "            style=\"display:none;\">\n",
              "\n",
              "  <svg xmlns=\"http://www.w3.org/2000/svg\" height=\"24px\" viewBox=\"0 -960 960 960\">\n",
              "    <path d=\"M120-120v-720h720v720H120Zm60-500h600v-160H180v160Zm220 220h160v-160H400v160Zm0 220h160v-160H400v160ZM180-400h160v-160H180v160Zm440 0h160v-160H620v160ZM180-180h160v-160H180v160Zm440 0h160v-160H620v160Z\"/>\n",
              "  </svg>\n",
              "    </button>\n",
              "\n",
              "  <style>\n",
              "    .colab-df-container {\n",
              "      display:flex;\n",
              "      gap: 12px;\n",
              "    }\n",
              "\n",
              "    .colab-df-convert {\n",
              "      background-color: #E8F0FE;\n",
              "      border: none;\n",
              "      border-radius: 50%;\n",
              "      cursor: pointer;\n",
              "      display: none;\n",
              "      fill: #1967D2;\n",
              "      height: 32px;\n",
              "      padding: 0 0 0 0;\n",
              "      width: 32px;\n",
              "    }\n",
              "\n",
              "    .colab-df-convert:hover {\n",
              "      background-color: #E2EBFA;\n",
              "      box-shadow: 0px 1px 2px rgba(60, 64, 67, 0.3), 0px 1px 3px 1px rgba(60, 64, 67, 0.15);\n",
              "      fill: #174EA6;\n",
              "    }\n",
              "\n",
              "    .colab-df-buttons div {\n",
              "      margin-bottom: 4px;\n",
              "    }\n",
              "\n",
              "    [theme=dark] .colab-df-convert {\n",
              "      background-color: #3B4455;\n",
              "      fill: #D2E3FC;\n",
              "    }\n",
              "\n",
              "    [theme=dark] .colab-df-convert:hover {\n",
              "      background-color: #434B5C;\n",
              "      box-shadow: 0px 1px 3px 1px rgba(0, 0, 0, 0.15);\n",
              "      filter: drop-shadow(0px 1px 2px rgba(0, 0, 0, 0.3));\n",
              "      fill: #FFFFFF;\n",
              "    }\n",
              "  </style>\n",
              "\n",
              "    <script>\n",
              "      const buttonEl =\n",
              "        document.querySelector('#df-669e5504-ca6c-4923-afcc-78b579edc9e8 button.colab-df-convert');\n",
              "      buttonEl.style.display =\n",
              "        google.colab.kernel.accessAllowed ? 'block' : 'none';\n",
              "\n",
              "      async function convertToInteractive(key) {\n",
              "        const element = document.querySelector('#df-669e5504-ca6c-4923-afcc-78b579edc9e8');\n",
              "        const dataTable =\n",
              "          await google.colab.kernel.invokeFunction('convertToInteractive',\n",
              "                                                    [key], {});\n",
              "        if (!dataTable) return;\n",
              "\n",
              "        const docLinkHtml = 'Like what you see? Visit the ' +\n",
              "          '<a target=\"_blank\" href=https://colab.research.google.com/notebooks/data_table.ipynb>data table notebook</a>'\n",
              "          + ' to learn more about interactive tables.';\n",
              "        element.innerHTML = '';\n",
              "        dataTable['output_type'] = 'display_data';\n",
              "        await google.colab.output.renderOutput(dataTable, element);\n",
              "        const docLink = document.createElement('div');\n",
              "        docLink.innerHTML = docLinkHtml;\n",
              "        element.appendChild(docLink);\n",
              "      }\n",
              "    </script>\n",
              "  </div>\n",
              "\n",
              "\n",
              "<div id=\"df-7a649742-2e1e-433c-bd7b-e2a3fa095660\">\n",
              "  <button class=\"colab-df-quickchart\" onclick=\"quickchart('df-7a649742-2e1e-433c-bd7b-e2a3fa095660')\"\n",
              "            title=\"Suggest charts.\"\n",
              "            style=\"display:none;\">\n",
              "\n",
              "<svg xmlns=\"http://www.w3.org/2000/svg\" height=\"24px\"viewBox=\"0 0 24 24\"\n",
              "     width=\"24px\">\n",
              "    <g>\n",
              "        <path d=\"M19 3H5c-1.1 0-2 .9-2 2v14c0 1.1.9 2 2 2h14c1.1 0 2-.9 2-2V5c0-1.1-.9-2-2-2zM9 17H7v-7h2v7zm4 0h-2V7h2v10zm4 0h-2v-4h2v4z\"/>\n",
              "    </g>\n",
              "</svg>\n",
              "  </button>\n",
              "\n",
              "<style>\n",
              "  .colab-df-quickchart {\n",
              "      --bg-color: #E8F0FE;\n",
              "      --fill-color: #1967D2;\n",
              "      --hover-bg-color: #E2EBFA;\n",
              "      --hover-fill-color: #174EA6;\n",
              "      --disabled-fill-color: #AAA;\n",
              "      --disabled-bg-color: #DDD;\n",
              "  }\n",
              "\n",
              "  [theme=dark] .colab-df-quickchart {\n",
              "      --bg-color: #3B4455;\n",
              "      --fill-color: #D2E3FC;\n",
              "      --hover-bg-color: #434B5C;\n",
              "      --hover-fill-color: #FFFFFF;\n",
              "      --disabled-bg-color: #3B4455;\n",
              "      --disabled-fill-color: #666;\n",
              "  }\n",
              "\n",
              "  .colab-df-quickchart {\n",
              "    background-color: var(--bg-color);\n",
              "    border: none;\n",
              "    border-radius: 50%;\n",
              "    cursor: pointer;\n",
              "    display: none;\n",
              "    fill: var(--fill-color);\n",
              "    height: 32px;\n",
              "    padding: 0;\n",
              "    width: 32px;\n",
              "  }\n",
              "\n",
              "  .colab-df-quickchart:hover {\n",
              "    background-color: var(--hover-bg-color);\n",
              "    box-shadow: 0 1px 2px rgba(60, 64, 67, 0.3), 0 1px 3px 1px rgba(60, 64, 67, 0.15);\n",
              "    fill: var(--button-hover-fill-color);\n",
              "  }\n",
              "\n",
              "  .colab-df-quickchart-complete:disabled,\n",
              "  .colab-df-quickchart-complete:disabled:hover {\n",
              "    background-color: var(--disabled-bg-color);\n",
              "    fill: var(--disabled-fill-color);\n",
              "    box-shadow: none;\n",
              "  }\n",
              "\n",
              "  .colab-df-spinner {\n",
              "    border: 2px solid var(--fill-color);\n",
              "    border-color: transparent;\n",
              "    border-bottom-color: var(--fill-color);\n",
              "    animation:\n",
              "      spin 1s steps(1) infinite;\n",
              "  }\n",
              "\n",
              "  @keyframes spin {\n",
              "    0% {\n",
              "      border-color: transparent;\n",
              "      border-bottom-color: var(--fill-color);\n",
              "      border-left-color: var(--fill-color);\n",
              "    }\n",
              "    20% {\n",
              "      border-color: transparent;\n",
              "      border-left-color: var(--fill-color);\n",
              "      border-top-color: var(--fill-color);\n",
              "    }\n",
              "    30% {\n",
              "      border-color: transparent;\n",
              "      border-left-color: var(--fill-color);\n",
              "      border-top-color: var(--fill-color);\n",
              "      border-right-color: var(--fill-color);\n",
              "    }\n",
              "    40% {\n",
              "      border-color: transparent;\n",
              "      border-right-color: var(--fill-color);\n",
              "      border-top-color: var(--fill-color);\n",
              "    }\n",
              "    60% {\n",
              "      border-color: transparent;\n",
              "      border-right-color: var(--fill-color);\n",
              "    }\n",
              "    80% {\n",
              "      border-color: transparent;\n",
              "      border-right-color: var(--fill-color);\n",
              "      border-bottom-color: var(--fill-color);\n",
              "    }\n",
              "    90% {\n",
              "      border-color: transparent;\n",
              "      border-bottom-color: var(--fill-color);\n",
              "    }\n",
              "  }\n",
              "</style>\n",
              "\n",
              "  <script>\n",
              "    async function quickchart(key) {\n",
              "      const quickchartButtonEl =\n",
              "        document.querySelector('#' + key + ' button');\n",
              "      quickchartButtonEl.disabled = true;  // To prevent multiple clicks.\n",
              "      quickchartButtonEl.classList.add('colab-df-spinner');\n",
              "      try {\n",
              "        const charts = await google.colab.kernel.invokeFunction(\n",
              "            'suggestCharts', [key], {});\n",
              "      } catch (error) {\n",
              "        console.error('Error during call to suggestCharts:', error);\n",
              "      }\n",
              "      quickchartButtonEl.classList.remove('colab-df-spinner');\n",
              "      quickchartButtonEl.classList.add('colab-df-quickchart-complete');\n",
              "    }\n",
              "    (() => {\n",
              "      let quickchartButtonEl =\n",
              "        document.querySelector('#df-7a649742-2e1e-433c-bd7b-e2a3fa095660 button');\n",
              "      quickchartButtonEl.style.display =\n",
              "        google.colab.kernel.accessAllowed ? 'block' : 'none';\n",
              "    })();\n",
              "  </script>\n",
              "</div>\n",
              "    </div>\n",
              "  </div>\n"
            ]
          },
          "metadata": {},
          "execution_count": 1423
        }
      ]
    },
    {
      "cell_type": "markdown",
      "source": [
        "Based on my interpretation of the data, in one month, person incurs BILL_AMTX, pays PAY_AMTX. The month after the person has to pay BILL_AMTX - PAY_AMTX + BILL_AMT(X-1). And the person pays PAY_AMT(X-1)."
      ],
      "metadata": {
        "id": "EP1lGXKfeh58"
      }
    },
    {
      "cell_type": "code",
      "source": [
        "#Drop column \"ID\" as\n",
        "credit = credit.drop(columns=\"ID\")"
      ],
      "metadata": {
        "id": "mfyXvva7RW5z"
      },
      "execution_count": 1424,
      "outputs": []
    },
    {
      "cell_type": "markdown",
      "source": [
        "## **Data Visualization**"
      ],
      "metadata": {
        "id": "OV3WZ6KOwL3c"
      }
    },
    {
      "cell_type": "code",
      "source": [
        "import seaborn as sns\n",
        "import matplotlib.pyplot as plt\n",
        "import numpy as np"
      ],
      "metadata": {
        "id": "1kH3zUCy1F9o"
      },
      "execution_count": 1425,
      "outputs": []
    },
    {
      "cell_type": "code",
      "source": [
        "sns.countplot(credit,x=\"default\")"
      ],
      "metadata": {
        "colab": {
          "base_uri": "https://localhost:8080/",
          "height": 466
        },
        "id": "h1yYdmW11P7f",
        "outputId": "41fd24a1-9dc1-40c8-d6a1-7138cc770f45"
      },
      "execution_count": 1426,
      "outputs": [
        {
          "output_type": "execute_result",
          "data": {
            "text/plain": [
              "<Axes: xlabel='default', ylabel='count'>"
            ]
          },
          "metadata": {},
          "execution_count": 1426
        },
        {
          "output_type": "display_data",
          "data": {
            "text/plain": [
              "<Figure size 640x480 with 1 Axes>"
            ],
            "image/png": "[encoded data removed]"
          },
          "metadata": {}
        }
      ]
    },
    {
      "cell_type": "code",
      "source": [
        "default = credit.groupby(['default']).size()\n",
        "default['percentage'] = (default[1]/(default[0] + default[1]))\n",
        "default"
      ],
      "metadata": {
        "colab": {
          "base_uri": "https://localhost:8080/"
        },
        "id": "If0hbSzSfQ_G",
        "outputId": "c338a965-cdd8-4b76-d025-2fb1d28d4717"
      },
      "execution_count": 1427,
      "outputs": [
        {
          "output_type": "execute_result",
          "data": {
            "text/plain": [
              "default\n",
              "0             23364.0000\n",
              "1              6636.0000\n",
              "percentage        0.2212\n",
              "dtype: float64"
            ]
          },
          "metadata": {},
          "execution_count": 1427
        }
      ]
    },
    {
      "cell_type": "markdown",
      "source": [
        "22.1% of the people default payment next month"
      ],
      "metadata": {
        "id": "4EoCKrTNfrYE"
      }
    },
    {
      "cell_type": "code",
      "source": [
        "sex_0 = (credit.SEX[credit['default']==0].value_counts())\n",
        "sex_1 = (credit.SEX[credit['default']==1].value_counts())\n",
        "\n",
        "plt.subplots(figsize=(8,5))\n",
        "plt.bar(sex_0.index, sex_0.values, label = '0')\n",
        "plt.bar(sex_1.index, sex_1.values, label = '1')\n",
        "plt.xticks(np.arange(1,3, step=1))\n",
        "plt.title(\"Number of clients in each sex group\", fontsize=15)\n",
        "plt.legend(loc='upper right', fontsize=15)\n",
        "plt.show()"
      ],
      "metadata": {
        "colab": {
          "base_uri": "https://localhost:8080/",
          "height": 470
        },
        "id": "aljrSAvXR9Jr",
        "outputId": "9d63177a-8b79-487e-9409-6c6307a7d585"
      },
      "execution_count": 1428,
      "outputs": [
        {
          "output_type": "display_data",
          "data": {
            "text/plain": [
              "<Figure size 800x500 with 1 Axes>"
            ],
            "image/png": "[encoded data removed]"
          },
          "metadata": {}
        }
      ]
    },
    {
      "cell_type": "code",
      "source": [
        "gender = credit.groupby(['SEX', 'default']).size().unstack(1)\n",
        "gender['percentage'] = (gender[1]/(gender[0] + gender[1]))\n",
        "gender"
      ],
      "metadata": {
        "colab": {
          "base_uri": "https://localhost:8080/",
          "height": 144
        },
        "id": "sQymtDLhepDV",
        "outputId": "62fe0a71-fb77-4726-dc26-31413249856a"
      },
      "execution_count": 1429,
      "outputs": [
        {
          "output_type": "execute_result",
          "data": {
            "text/plain": [
              "default      0     1  percentage\n",
              "SEX                             \n",
              "1         9015  2874    0.241736\n",
              "2        14349  3762    0.207719"
            ],
            "text/html": [
              "\n",
              "  <div id=\"df-223b6712-507a-4c41-af3d-d60c3122e1d5\" class=\"colab-df-container\">\n",
              "    <div>\n",
              "<style scoped>\n",
              "    .dataframe tbody tr th:only-of-type {\n",
              "        vertical-align: middle;\n",
              "    }\n",
              "\n",
              "    .dataframe tbody tr th {\n",
              "        vertical-align: top;\n",
              "    }\n",
              "\n",
              "    .dataframe thead th {\n",
              "        text-align: right;\n",
              "    }\n",
              "</style>\n",
              "<table border=\"1\" class=\"dataframe\">\n",
              "  <thead>\n",
              "    <tr style=\"text-align: right;\">\n",
              "      <th>default</th>\n",
              "      <th>0</th>\n",
              "      <th>1</th>\n",
              "      <th>percentage</th>\n",
              "    </tr>\n",
              "    <tr>\n",
              "      <th>SEX</th>\n",
              "      <th></th>\n",
              "      <th></th>\n",
              "      <th></th>\n",
              "    </tr>\n",
              "  </thead>\n",
              "  <tbody>\n",
              "    <tr>\n",
              "      <th>1</th>\n",
              "      <td>9015</td>\n",
              "      <td>2874</td>\n",
              "      <td>0.241736</td>\n",
              "    </tr>\n",
              "    <tr>\n",
              "      <th>2</th>\n",
              "      <td>14349</td>\n",
              "      <td>3762</td>\n",
              "      <td>0.207719</td>\n",
              "    </tr>\n",
              "  </tbody>\n",
              "</table>\n",
              "</div>\n",
              "    <div class=\"colab-df-buttons\">\n",
              "\n",
              "  <div class=\"colab-df-container\">\n",
              "    <button class=\"colab-df-convert\" onclick=\"convertToInteractive('df-223b6712-507a-4c41-af3d-d60c3122e1d5')\"\n",
              "            title=\"Convert this dataframe to an interactive table.\"\n",
              "            style=\"display:none;\">\n",
              "\n",
              "  <svg xmlns=\"http://www.w3.org/2000/svg\" height=\"24px\" viewBox=\"0 -960 960 960\">\n",
              "    <path d=\"M120-120v-720h720v720H120Zm60-500h600v-160H180v160Zm220 220h160v-160H400v160Zm0 220h160v-160H400v160ZM180-400h160v-160H180v160Zm440 0h160v-160H620v160ZM180-180h160v-160H180v160Zm440 0h160v-160H620v160Z\"/>\n",
              "  </svg>\n",
              "    </button>\n",
              "\n",
              "  <style>\n",
              "    .colab-df-container {\n",
              "      display:flex;\n",
              "      gap: 12px;\n",
              "    }\n",
              "\n",
              "    .colab-df-convert {\n",
              "      background-color: #E8F0FE;\n",
              "      border: none;\n",
              "      border-radius: 50%;\n",
              "      cursor: pointer;\n",
              "      display: none;\n",
              "      fill: #1967D2;\n",
              "      height: 32px;\n",
              "      padding: 0 0 0 0;\n",
              "      width: 32px;\n",
              "    }\n",
              "\n",
              "    .colab-df-convert:hover {\n",
              "      background-color: #E2EBFA;\n",
              "      box-shadow: 0px 1px 2px rgba(60, 64, 67, 0.3), 0px 1px 3px 1px rgba(60, 64, 67, 0.15);\n",
              "      fill: #174EA6;\n",
              "    }\n",
              "\n",
              "    .colab-df-buttons div {\n",
              "      margin-bottom: 4px;\n",
              "    }\n",
              "\n",
              "    [theme=dark] .colab-df-convert {\n",
              "      background-color: #3B4455;\n",
              "      fill: #D2E3FC;\n",
              "    }\n",
              "\n",
              "    [theme=dark] .colab-df-convert:hover {\n",
              "      background-color: #434B5C;\n",
              "      box-shadow: 0px 1px 3px 1px rgba(0, 0, 0, 0.15);\n",
              "      filter: drop-shadow(0px 1px 2px rgba(0, 0, 0, 0.3));\n",
              "      fill: #FFFFFF;\n",
              "    }\n",
              "  </style>\n",
              "\n",
              "    <script>\n",
              "      const buttonEl =\n",
              "        document.querySelector('#df-223b6712-507a-4c41-af3d-d60c3122e1d5 button.colab-df-convert');\n",
              "      buttonEl.style.display =\n",
              "        google.colab.kernel.accessAllowed ? 'block' : 'none';\n",
              "\n",
              "      async function convertToInteractive(key) {\n",
              "        const element = document.querySelector('#df-223b6712-507a-4c41-af3d-d60c3122e1d5');\n",
              "        const dataTable =\n",
              "          await google.colab.kernel.invokeFunction('convertToInteractive',\n",
              "                                                    [key], {});\n",
              "        if (!dataTable) return;\n",
              "\n",
              "        const docLinkHtml = 'Like what you see? Visit the ' +\n",
              "          '<a target=\"_blank\" href=https://colab.research.google.com/notebooks/data_table.ipynb>data table notebook</a>'\n",
              "          + ' to learn more about interactive tables.';\n",
              "        element.innerHTML = '';\n",
              "        dataTable['output_type'] = 'display_data';\n",
              "        await google.colab.output.renderOutput(dataTable, element);\n",
              "        const docLink = document.createElement('div');\n",
              "        docLink.innerHTML = docLinkHtml;\n",
              "        element.appendChild(docLink);\n",
              "      }\n",
              "    </script>\n",
              "  </div>\n",
              "\n",
              "\n",
              "<div id=\"df-3795c197-a800-4865-81ca-422021cebe54\">\n",
              "  <button class=\"colab-df-quickchart\" onclick=\"quickchart('df-3795c197-a800-4865-81ca-422021cebe54')\"\n",
              "            title=\"Suggest charts.\"\n",
              "            style=\"display:none;\">\n",
              "\n",
              "<svg xmlns=\"http://www.w3.org/2000/svg\" height=\"24px\"viewBox=\"0 0 24 24\"\n",
              "     width=\"24px\">\n",
              "    <g>\n",
              "        <path d=\"M19 3H5c-1.1 0-2 .9-2 2v14c0 1.1.9 2 2 2h14c1.1 0 2-.9 2-2V5c0-1.1-.9-2-2-2zM9 17H7v-7h2v7zm4 0h-2V7h2v10zm4 0h-2v-4h2v4z\"/>\n",
              "    </g>\n",
              "</svg>\n",
              "  </button>\n",
              "\n",
              "<style>\n",
              "  .colab-df-quickchart {\n",
              "      --bg-color: #E8F0FE;\n",
              "      --fill-color: #1967D2;\n",
              "      --hover-bg-color: #E2EBFA;\n",
              "      --hover-fill-color: #174EA6;\n",
              "      --disabled-fill-color: #AAA;\n",
              "      --disabled-bg-color: #DDD;\n",
              "  }\n",
              "\n",
              "  [theme=dark] .colab-df-quickchart {\n",
              "      --bg-color: #3B4455;\n",
              "      --fill-color: #D2E3FC;\n",
              "      --hover-bg-color: #434B5C;\n",
              "      --hover-fill-color: #FFFFFF;\n",
              "      --disabled-bg-color: #3B4455;\n",
              "      --disabled-fill-color: #666;\n",
              "  }\n",
              "\n",
              "  .colab-df-quickchart {\n",
              "    background-color: var(--bg-color);\n",
              "    border: none;\n",
              "    border-radius: 50%;\n",
              "    cursor: pointer;\n",
              "    display: none;\n",
              "    fill: var(--fill-color);\n",
              "    height: 32px;\n",
              "    padding: 0;\n",
              "    width: 32px;\n",
              "  }\n",
              "\n",
              "  .colab-df-quickchart:hover {\n",
              "    background-color: var(--hover-bg-color);\n",
              "    box-shadow: 0 1px 2px rgba(60, 64, 67, 0.3), 0 1px 3px 1px rgba(60, 64, 67, 0.15);\n",
              "    fill: var(--button-hover-fill-color);\n",
              "  }\n",
              "\n",
              "  .colab-df-quickchart-complete:disabled,\n",
              "  .colab-df-quickchart-complete:disabled:hover {\n",
              "    background-color: var(--disabled-bg-color);\n",
              "    fill: var(--disabled-fill-color);\n",
              "    box-shadow: none;\n",
              "  }\n",
              "\n",
              "  .colab-df-spinner {\n",
              "    border: 2px solid var(--fill-color);\n",
              "    border-color: transparent;\n",
              "    border-bottom-color: var(--fill-color);\n",
              "    animation:\n",
              "      spin 1s steps(1) infinite;\n",
              "  }\n",
              "\n",
              "  @keyframes spin {\n",
              "    0% {\n",
              "      border-color: transparent;\n",
              "      border-bottom-color: var(--fill-color);\n",
              "      border-left-color: var(--fill-color);\n",
              "    }\n",
              "    20% {\n",
              "      border-color: transparent;\n",
              "      border-left-color: var(--fill-color);\n",
              "      border-top-color: var(--fill-color);\n",
              "    }\n",
              "    30% {\n",
              "      border-color: transparent;\n",
              "      border-left-color: var(--fill-color);\n",
              "      border-top-color: var(--fill-color);\n",
              "      border-right-color: var(--fill-color);\n",
              "    }\n",
              "    40% {\n",
              "      border-color: transparent;\n",
              "      border-right-color: var(--fill-color);\n",
              "      border-top-color: var(--fill-color);\n",
              "    }\n",
              "    60% {\n",
              "      border-color: transparent;\n",
              "      border-right-color: var(--fill-color);\n",
              "    }\n",
              "    80% {\n",
              "      border-color: transparent;\n",
              "      border-right-color: var(--fill-color);\n",
              "      border-bottom-color: var(--fill-color);\n",
              "    }\n",
              "    90% {\n",
              "      border-color: transparent;\n",
              "      border-bottom-color: var(--fill-color);\n",
              "    }\n",
              "  }\n",
              "</style>\n",
              "\n",
              "  <script>\n",
              "    async function quickchart(key) {\n",
              "      const quickchartButtonEl =\n",
              "        document.querySelector('#' + key + ' button');\n",
              "      quickchartButtonEl.disabled = true;  // To prevent multiple clicks.\n",
              "      quickchartButtonEl.classList.add('colab-df-spinner');\n",
              "      try {\n",
              "        const charts = await google.colab.kernel.invokeFunction(\n",
              "            'suggestCharts', [key], {});\n",
              "      } catch (error) {\n",
              "        console.error('Error during call to suggestCharts:', error);\n",
              "      }\n",
              "      quickchartButtonEl.classList.remove('colab-df-spinner');\n",
              "      quickchartButtonEl.classList.add('colab-df-quickchart-complete');\n",
              "    }\n",
              "    (() => {\n",
              "      let quickchartButtonEl =\n",
              "        document.querySelector('#df-3795c197-a800-4865-81ca-422021cebe54 button');\n",
              "      quickchartButtonEl.style.display =\n",
              "        google.colab.kernel.accessAllowed ? 'block' : 'none';\n",
              "    })();\n",
              "  </script>\n",
              "</div>\n",
              "    </div>\n",
              "  </div>\n"
            ]
          },
          "metadata": {},
          "execution_count": 1429
        }
      ]
    },
    {
      "cell_type": "markdown",
      "source": [
        "24.2% of males default payment next month, which is higher than 20.8% of females who default payment next month. From this, we can deduce that males have a higher probability of defaulting, however we need to do further analysis to confirm this."
      ],
      "metadata": {
        "id": "NehlCLsHfwX0"
      }
    },
    {
      "cell_type": "code",
      "source": [
        "edu_0 = (credit.EDUCATION[credit['default']==0].value_counts())\n",
        "edu_1 = (credit.EDUCATION[credit['default']==1].value_counts())\n",
        "\n",
        "plt.subplots(figsize=(8,5))\n",
        "plt.bar(edu_0.index, edu_0.values, label = '0')\n",
        "plt.bar(edu_1.index, edu_1.values, label = '1')\n",
        "plt.xticks(np.arange(1,5, step=1))\n",
        "plt.title(\"Number of clients in each education group\", fontsize=15)\n",
        "plt.legend(loc='upper right', fontsize=15)\n",
        "plt.show()"
      ],
      "metadata": {
        "colab": {
          "base_uri": "https://localhost:8080/",
          "height": 470
        },
        "id": "NAbbonwBVNFy",
        "outputId": "ca51a981-9163-44aa-e9a8-bd19a4f65844"
      },
      "execution_count": 1430,
      "outputs": [
        {
          "output_type": "display_data",
          "data": {
            "text/plain": [
              "<Figure size 800x500 with 1 Axes>"
            ],
            "image/png": "[encoded data removed]"
          },
          "metadata": {}
        }
      ]
    },
    {
      "cell_type": "code",
      "source": [
        "education = credit.groupby(['EDUCATION', 'default']).size().unstack(1)\n",
        "education['percentage'] = (education[1]/(education[0] + education[1]))\n",
        "education"
      ],
      "metadata": {
        "colab": {
          "base_uri": "https://localhost:8080/",
          "height": 206
        },
        "id": "nN5oXKANgpJo",
        "outputId": "2853b739-47b1-49c4-e8bc-1c2611d4b156"
      },
      "execution_count": 1431,
      "outputs": [
        {
          "output_type": "execute_result",
          "data": {
            "text/plain": [
              "default        0     1  percentage\n",
              "EDUCATION                         \n",
              "1           8549  2036    0.192348\n",
              "2          10700  3330    0.237349\n",
              "3           3680  1237    0.251576\n",
              "4            435    33    0.070513"
            ],
            "text/html": [
              "\n",
              "  <div id=\"df-6bb230fd-c213-4ed1-b24c-a6a1c9e10751\" class=\"colab-df-container\">\n",
              "    <div>\n",
              "<style scoped>\n",
              "    .dataframe tbody tr th:only-of-type {\n",
              "        vertical-align: middle;\n",
              "    }\n",
              "\n",
              "    .dataframe tbody tr th {\n",
              "        vertical-align: top;\n",
              "    }\n",
              "\n",
              "    .dataframe thead th {\n",
              "        text-align: right;\n",
              "    }\n",
              "</style>\n",
              "<table border=\"1\" class=\"dataframe\">\n",
              "  <thead>\n",
              "    <tr style=\"text-align: right;\">\n",
              "      <th>default</th>\n",
              "      <th>0</th>\n",
              "      <th>1</th>\n",
              "      <th>percentage</th>\n",
              "    </tr>\n",
              "    <tr>\n",
              "      <th>EDUCATION</th>\n",
              "      <th></th>\n",
              "      <th></th>\n",
              "      <th></th>\n",
              "    </tr>\n",
              "  </thead>\n",
              "  <tbody>\n",
              "    <tr>\n",
              "      <th>1</th>\n",
              "      <td>8549</td>\n",
              "      <td>2036</td>\n",
              "      <td>0.192348</td>\n",
              "    </tr>\n",
              "    <tr>\n",
              "      <th>2</th>\n",
              "      <td>10700</td>\n",
              "      <td>3330</td>\n",
              "      <td>0.237349</td>\n",
              "    </tr>\n",
              "    <tr>\n",
              "      <th>3</th>\n",
              "      <td>3680</td>\n",
              "      <td>1237</td>\n",
              "      <td>0.251576</td>\n",
              "    </tr>\n",
              "    <tr>\n",
              "      <th>4</th>\n",
              "      <td>435</td>\n",
              "      <td>33</td>\n",
              "      <td>0.070513</td>\n",
              "    </tr>\n",
              "  </tbody>\n",
              "</table>\n",
              "</div>\n",
              "    <div class=\"colab-df-buttons\">\n",
              "\n",
              "  <div class=\"colab-df-container\">\n",
              "    <button class=\"colab-df-convert\" onclick=\"convertToInteractive('df-6bb230fd-c213-4ed1-b24c-a6a1c9e10751')\"\n",
              "            title=\"Convert this dataframe to an interactive table.\"\n",
              "            style=\"display:none;\">\n",
              "\n",
              "  <svg xmlns=\"http://www.w3.org/2000/svg\" height=\"24px\" viewBox=\"0 -960 960 960\">\n",
              "    <path d=\"M120-120v-720h720v720H120Zm60-500h600v-160H180v160Zm220 220h160v-160H400v160Zm0 220h160v-160H400v160ZM180-400h160v-160H180v160Zm440 0h160v-160H620v160ZM180-180h160v-160H180v160Zm440 0h160v-160H620v160Z\"/>\n",
              "  </svg>\n",
              "    </button>\n",
              "\n",
              "  <style>\n",
              "    .colab-df-container {\n",
              "      display:flex;\n",
              "      gap: 12px;\n",
              "    }\n",
              "\n",
              "    .colab-df-convert {\n",
              "      background-color: #E8F0FE;\n",
              "      border: none;\n",
              "      border-radius: 50%;\n",
              "      cursor: pointer;\n",
              "      display: none;\n",
              "      fill: #1967D2;\n",
              "      height: 32px;\n",
              "      padding: 0 0 0 0;\n",
              "      width: 32px;\n",
              "    }\n",
              "\n",
              "    .colab-df-convert:hover {\n",
              "      background-color: #E2EBFA;\n",
              "      box-shadow: 0px 1px 2px rgba(60, 64, 67, 0.3), 0px 1px 3px 1px rgba(60, 64, 67, 0.15);\n",
              "      fill: #174EA6;\n",
              "    }\n",
              "\n",
              "    .colab-df-buttons div {\n",
              "      margin-bottom: 4px;\n",
              "    }\n",
              "\n",
              "    [theme=dark] .colab-df-convert {\n",
              "      background-color: #3B4455;\n",
              "      fill: #D2E3FC;\n",
              "    }\n",
              "\n",
              "    [theme=dark] .colab-df-convert:hover {\n",
              "      background-color: #434B5C;\n",
              "      box-shadow: 0px 1px 3px 1px rgba(0, 0, 0, 0.15);\n",
              "      filter: drop-shadow(0px 1px 2px rgba(0, 0, 0, 0.3));\n",
              "      fill: #FFFFFF;\n",
              "    }\n",
              "  </style>\n",
              "\n",
              "    <script>\n",
              "      const buttonEl =\n",
              "        document.querySelector('#df-6bb230fd-c213-4ed1-b24c-a6a1c9e10751 button.colab-df-convert');\n",
              "      buttonEl.style.display =\n",
              "        google.colab.kernel.accessAllowed ? 'block' : 'none';\n",
              "\n",
              "      async function convertToInteractive(key) {\n",
              "        const element = document.querySelector('#df-6bb230fd-c213-4ed1-b24c-a6a1c9e10751');\n",
              "        const dataTable =\n",
              "          await google.colab.kernel.invokeFunction('convertToInteractive',\n",
              "                                                    [key], {});\n",
              "        if (!dataTable) return;\n",
              "\n",
              "        const docLinkHtml = 'Like what you see? Visit the ' +\n",
              "          '<a target=\"_blank\" href=https://colab.research.google.com/notebooks/data_table.ipynb>data table notebook</a>'\n",
              "          + ' to learn more about interactive tables.';\n",
              "        element.innerHTML = '';\n",
              "        dataTable['output_type'] = 'display_data';\n",
              "        await google.colab.output.renderOutput(dataTable, element);\n",
              "        const docLink = document.createElement('div');\n",
              "        docLink.innerHTML = docLinkHtml;\n",
              "        element.appendChild(docLink);\n",
              "      }\n",
              "    </script>\n",
              "  </div>\n",
              "\n",
              "\n",
              "<div id=\"df-f31ce5ab-7722-4dab-b20f-9a58247eea03\">\n",
              "  <button class=\"colab-df-quickchart\" onclick=\"quickchart('df-f31ce5ab-7722-4dab-b20f-9a58247eea03')\"\n",
              "            title=\"Suggest charts.\"\n",
              "            style=\"display:none;\">\n",
              "\n",
              "<svg xmlns=\"http://www.w3.org/2000/svg\" height=\"24px\"viewBox=\"0 0 24 24\"\n",
              "     width=\"24px\">\n",
              "    <g>\n",
              "        <path d=\"M19 3H5c-1.1 0-2 .9-2 2v14c0 1.1.9 2 2 2h14c1.1 0 2-.9 2-2V5c0-1.1-.9-2-2-2zM9 17H7v-7h2v7zm4 0h-2V7h2v10zm4 0h-2v-4h2v4z\"/>\n",
              "    </g>\n",
              "</svg>\n",
              "  </button>\n",
              "\n",
              "<style>\n",
              "  .colab-df-quickchart {\n",
              "      --bg-color: #E8F0FE;\n",
              "      --fill-color: #1967D2;\n",
              "      --hover-bg-color: #E2EBFA;\n",
              "      --hover-fill-color: #174EA6;\n",
              "      --disabled-fill-color: #AAA;\n",
              "      --disabled-bg-color: #DDD;\n",
              "  }\n",
              "\n",
              "  [theme=dark] .colab-df-quickchart {\n",
              "      --bg-color: #3B4455;\n",
              "      --fill-color: #D2E3FC;\n",
              "      --hover-bg-color: #434B5C;\n",
              "      --hover-fill-color: #FFFFFF;\n",
              "      --disabled-bg-color: #3B4455;\n",
              "      --disabled-fill-color: #666;\n",
              "  }\n",
              "\n",
              "  .colab-df-quickchart {\n",
              "    background-color: var(--bg-color);\n",
              "    border: none;\n",
              "    border-radius: 50%;\n",
              "    cursor: pointer;\n",
              "    display: none;\n",
              "    fill: var(--fill-color);\n",
              "    height: 32px;\n",
              "    padding: 0;\n",
              "    width: 32px;\n",
              "  }\n",
              "\n",
              "  .colab-df-quickchart:hover {\n",
              "    background-color: var(--hover-bg-color);\n",
              "    box-shadow: 0 1px 2px rgba(60, 64, 67, 0.3), 0 1px 3px 1px rgba(60, 64, 67, 0.15);\n",
              "    fill: var(--button-hover-fill-color);\n",
              "  }\n",
              "\n",
              "  .colab-df-quickchart-complete:disabled,\n",
              "  .colab-df-quickchart-complete:disabled:hover {\n",
              "    background-color: var(--disabled-bg-color);\n",
              "    fill: var(--disabled-fill-color);\n",
              "    box-shadow: none;\n",
              "  }\n",
              "\n",
              "  .colab-df-spinner {\n",
              "    border: 2px solid var(--fill-color);\n",
              "    border-color: transparent;\n",
              "    border-bottom-color: var(--fill-color);\n",
              "    animation:\n",
              "      spin 1s steps(1) infinite;\n",
              "  }\n",
              "\n",
              "  @keyframes spin {\n",
              "    0% {\n",
              "      border-color: transparent;\n",
              "      border-bottom-color: var(--fill-color);\n",
              "      border-left-color: var(--fill-color);\n",
              "    }\n",
              "    20% {\n",
              "      border-color: transparent;\n",
              "      border-left-color: var(--fill-color);\n",
              "      border-top-color: var(--fill-color);\n",
              "    }\n",
              "    30% {\n",
              "      border-color: transparent;\n",
              "      border-left-color: var(--fill-color);\n",
              "      border-top-color: var(--fill-color);\n",
              "      border-right-color: var(--fill-color);\n",
              "    }\n",
              "    40% {\n",
              "      border-color: transparent;\n",
              "      border-right-color: var(--fill-color);\n",
              "      border-top-color: var(--fill-color);\n",
              "    }\n",
              "    60% {\n",
              "      border-color: transparent;\n",
              "      border-right-color: var(--fill-color);\n",
              "    }\n",
              "    80% {\n",
              "      border-color: transparent;\n",
              "      border-right-color: var(--fill-color);\n",
              "      border-bottom-color: var(--fill-color);\n",
              "    }\n",
              "    90% {\n",
              "      border-color: transparent;\n",
              "      border-bottom-color: var(--fill-color);\n",
              "    }\n",
              "  }\n",
              "</style>\n",
              "\n",
              "  <script>\n",
              "    async function quickchart(key) {\n",
              "      const quickchartButtonEl =\n",
              "        document.querySelector('#' + key + ' button');\n",
              "      quickchartButtonEl.disabled = true;  // To prevent multiple clicks.\n",
              "      quickchartButtonEl.classList.add('colab-df-spinner');\n",
              "      try {\n",
              "        const charts = await google.colab.kernel.invokeFunction(\n",
              "            'suggestCharts', [key], {});\n",
              "      } catch (error) {\n",
              "        console.error('Error during call to suggestCharts:', error);\n",
              "      }\n",
              "      quickchartButtonEl.classList.remove('colab-df-spinner');\n",
              "      quickchartButtonEl.classList.add('colab-df-quickchart-complete');\n",
              "    }\n",
              "    (() => {\n",
              "      let quickchartButtonEl =\n",
              "        document.querySelector('#df-f31ce5ab-7722-4dab-b20f-9a58247eea03 button');\n",
              "      quickchartButtonEl.style.display =\n",
              "        google.colab.kernel.accessAllowed ? 'block' : 'none';\n",
              "    })();\n",
              "  </script>\n",
              "</div>\n",
              "    </div>\n",
              "  </div>\n"
            ]
          },
          "metadata": {},
          "execution_count": 1431
        }
      ]
    },
    {
      "cell_type": "markdown",
      "source": [
        "In general, people with more education are less likely to default on their loans next month. However, there is an exception for the category labeled \"Other,\" which according to the further research, is at a lower level than high school. However, this category is relatively small and will not have a significant impact on the overall results."
      ],
      "metadata": {
        "id": "Vc4c5gh0g-QM"
      }
    },
    {
      "cell_type": "code",
      "source": [
        "mar_0 = (credit.MARRIAGE[credit['default']==0].value_counts())\n",
        "mar_1 = (credit.MARRIAGE[credit['default']==1].value_counts())\n",
        "\n",
        "plt.subplots(figsize=(8,5))\n",
        "plt.bar(mar_0.index, mar_0.values, label = '0')\n",
        "plt.bar(mar_1.index, mar_1.values, label = '1')\n",
        "plt.xticks(np.arange(1,4, step=1))\n",
        "plt.title(\"Number of clients in each marriage status group\", fontsize=15)\n",
        "plt.legend(loc='upper right', fontsize=15)\n",
        "plt.show()"
      ],
      "metadata": {
        "colab": {
          "base_uri": "https://localhost:8080/",
          "height": 470
        },
        "id": "I9hFAjcfVqeJ",
        "outputId": "f7c41e8e-81c7-4cfc-e0d0-e3633d9e8380"
      },
      "execution_count": 1432,
      "outputs": [
        {
          "output_type": "display_data",
          "data": {
            "text/plain": [
              "<Figure size 800x500 with 1 Axes>"
            ],
            "image/png": "[encoded data removed]"
          },
          "metadata": {}
        }
      ]
    },
    {
      "cell_type": "code",
      "source": [
        "marriage = credit.groupby(['MARRIAGE', 'default']).size().unstack(1)\n",
        "marriage['percentage'] = (marriage[1]/(marriage[0] + marriage[1]))\n",
        "marriage"
      ],
      "metadata": {
        "colab": {
          "base_uri": "https://localhost:8080/",
          "height": 175
        },
        "id": "edw_qyQ4k1-I",
        "outputId": "781c0e3c-ef8a-4b2b-95a5-4766ad6f6f68"
      },
      "execution_count": 1433,
      "outputs": [
        {
          "output_type": "execute_result",
          "data": {
            "text/plain": [
              "default       0     1  percentage\n",
              "MARRIAGE                         \n",
              "1         10453  3206    0.234717\n",
              "2         12623  3341    0.209283\n",
              "3           288    89    0.236074"
            ],
            "text/html": [
              "\n",
              "  <div id=\"df-d1d0c277-a08e-4d13-b80b-d6f09af9ab04\" class=\"colab-df-container\">\n",
              "    <div>\n",
              "<style scoped>\n",
              "    .dataframe tbody tr th:only-of-type {\n",
              "        vertical-align: middle;\n",
              "    }\n",
              "\n",
              "    .dataframe tbody tr th {\n",
              "        vertical-align: top;\n",
              "    }\n",
              "\n",
              "    .dataframe thead th {\n",
              "        text-align: right;\n",
              "    }\n",
              "</style>\n",
              "<table border=\"1\" class=\"dataframe\">\n",
              "  <thead>\n",
              "    <tr style=\"text-align: right;\">\n",
              "      <th>default</th>\n",
              "      <th>0</th>\n",
              "      <th>1</th>\n",
              "      <th>percentage</th>\n",
              "    </tr>\n",
              "    <tr>\n",
              "      <th>MARRIAGE</th>\n",
              "      <th></th>\n",
              "      <th></th>\n",
              "      <th></th>\n",
              "    </tr>\n",
              "  </thead>\n",
              "  <tbody>\n",
              "    <tr>\n",
              "      <th>1</th>\n",
              "      <td>10453</td>\n",
              "      <td>3206</td>\n",
              "      <td>0.234717</td>\n",
              "    </tr>\n",
              "    <tr>\n",
              "      <th>2</th>\n",
              "      <td>12623</td>\n",
              "      <td>3341</td>\n",
              "      <td>0.209283</td>\n",
              "    </tr>\n",
              "    <tr>\n",
              "      <th>3</th>\n",
              "      <td>288</td>\n",
              "      <td>89</td>\n",
              "      <td>0.236074</td>\n",
              "    </tr>\n",
              "  </tbody>\n",
              "</table>\n",
              "</div>\n",
              "    <div class=\"colab-df-buttons\">\n",
              "\n",
              "  <div class=\"colab-df-container\">\n",
              "    <button class=\"colab-df-convert\" onclick=\"convertToInteractive('df-d1d0c277-a08e-4d13-b80b-d6f09af9ab04')\"\n",
              "            title=\"Convert this dataframe to an interactive table.\"\n",
              "            style=\"display:none;\">\n",
              "\n",
              "  <svg xmlns=\"http://www.w3.org/2000/svg\" height=\"24px\" viewBox=\"0 -960 960 960\">\n",
              "    <path d=\"M120-120v-720h720v720H120Zm60-500h600v-160H180v160Zm220 220h160v-160H400v160Zm0 220h160v-160H400v160ZM180-400h160v-160H180v160Zm440 0h160v-160H620v160ZM180-180h160v-160H180v160Zm440 0h160v-160H620v160Z\"/>\n",
              "  </svg>\n",
              "    </button>\n",
              "\n",
              "  <style>\n",
              "    .colab-df-container {\n",
              "      display:flex;\n",
              "      gap: 12px;\n",
              "    }\n",
              "\n",
              "    .colab-df-convert {\n",
              "      background-color: #E8F0FE;\n",
              "      border: none;\n",
              "      border-radius: 50%;\n",
              "      cursor: pointer;\n",
              "      display: none;\n",
              "      fill: #1967D2;\n",
              "      height: 32px;\n",
              "      padding: 0 0 0 0;\n",
              "      width: 32px;\n",
              "    }\n",
              "\n",
              "    .colab-df-convert:hover {\n",
              "      background-color: #E2EBFA;\n",
              "      box-shadow: 0px 1px 2px rgba(60, 64, 67, 0.3), 0px 1px 3px 1px rgba(60, 64, 67, 0.15);\n",
              "      fill: #174EA6;\n",
              "    }\n",
              "\n",
              "    .colab-df-buttons div {\n",
              "      margin-bottom: 4px;\n",
              "    }\n",
              "\n",
              "    [theme=dark] .colab-df-convert {\n",
              "      background-color: #3B4455;\n",
              "      fill: #D2E3FC;\n",
              "    }\n",
              "\n",
              "    [theme=dark] .colab-df-convert:hover {\n",
              "      background-color: #434B5C;\n",
              "      box-shadow: 0px 1px 3px 1px rgba(0, 0, 0, 0.15);\n",
              "      filter: drop-shadow(0px 1px 2px rgba(0, 0, 0, 0.3));\n",
              "      fill: #FFFFFF;\n",
              "    }\n",
              "  </style>\n",
              "\n",
              "    <script>\n",
              "      const buttonEl =\n",
              "        document.querySelector('#df-d1d0c277-a08e-4d13-b80b-d6f09af9ab04 button.colab-df-convert');\n",
              "      buttonEl.style.display =\n",
              "        google.colab.kernel.accessAllowed ? 'block' : 'none';\n",
              "\n",
              "      async function convertToInteractive(key) {\n",
              "        const element = document.querySelector('#df-d1d0c277-a08e-4d13-b80b-d6f09af9ab04');\n",
              "        const dataTable =\n",
              "          await google.colab.kernel.invokeFunction('convertToInteractive',\n",
              "                                                    [key], {});\n",
              "        if (!dataTable) return;\n",
              "\n",
              "        const docLinkHtml = 'Like what you see? Visit the ' +\n",
              "          '<a target=\"_blank\" href=https://colab.research.google.com/notebooks/data_table.ipynb>data table notebook</a>'\n",
              "          + ' to learn more about interactive tables.';\n",
              "        element.innerHTML = '';\n",
              "        dataTable['output_type'] = 'display_data';\n",
              "        await google.colab.output.renderOutput(dataTable, element);\n",
              "        const docLink = document.createElement('div');\n",
              "        docLink.innerHTML = docLinkHtml;\n",
              "        element.appendChild(docLink);\n",
              "      }\n",
              "    </script>\n",
              "  </div>\n",
              "\n",
              "\n",
              "<div id=\"df-5fb05943-2b3d-40db-acf1-a4955aa5dd63\">\n",
              "  <button class=\"colab-df-quickchart\" onclick=\"quickchart('df-5fb05943-2b3d-40db-acf1-a4955aa5dd63')\"\n",
              "            title=\"Suggest charts.\"\n",
              "            style=\"display:none;\">\n",
              "\n",
              "<svg xmlns=\"http://www.w3.org/2000/svg\" height=\"24px\"viewBox=\"0 0 24 24\"\n",
              "     width=\"24px\">\n",
              "    <g>\n",
              "        <path d=\"M19 3H5c-1.1 0-2 .9-2 2v14c0 1.1.9 2 2 2h14c1.1 0 2-.9 2-2V5c0-1.1-.9-2-2-2zM9 17H7v-7h2v7zm4 0h-2V7h2v10zm4 0h-2v-4h2v4z\"/>\n",
              "    </g>\n",
              "</svg>\n",
              "  </button>\n",
              "\n",
              "<style>\n",
              "  .colab-df-quickchart {\n",
              "      --bg-color: #E8F0FE;\n",
              "      --fill-color: #1967D2;\n",
              "      --hover-bg-color: #E2EBFA;\n",
              "      --hover-fill-color: #174EA6;\n",
              "      --disabled-fill-color: #AAA;\n",
              "      --disabled-bg-color: #DDD;\n",
              "  }\n",
              "\n",
              "  [theme=dark] .colab-df-quickchart {\n",
              "      --bg-color: #3B4455;\n",
              "      --fill-color: #D2E3FC;\n",
              "      --hover-bg-color: #434B5C;\n",
              "      --hover-fill-color: #FFFFFF;\n",
              "      --disabled-bg-color: #3B4455;\n",
              "      --disabled-fill-color: #666;\n",
              "  }\n",
              "\n",
              "  .colab-df-quickchart {\n",
              "    background-color: var(--bg-color);\n",
              "    border: none;\n",
              "    border-radius: 50%;\n",
              "    cursor: pointer;\n",
              "    display: none;\n",
              "    fill: var(--fill-color);\n",
              "    height: 32px;\n",
              "    padding: 0;\n",
              "    width: 32px;\n",
              "  }\n",
              "\n",
              "  .colab-df-quickchart:hover {\n",
              "    background-color: var(--hover-bg-color);\n",
              "    box-shadow: 0 1px 2px rgba(60, 64, 67, 0.3), 0 1px 3px 1px rgba(60, 64, 67, 0.15);\n",
              "    fill: var(--button-hover-fill-color);\n",
              "  }\n",
              "\n",
              "  .colab-df-quickchart-complete:disabled,\n",
              "  .colab-df-quickchart-complete:disabled:hover {\n",
              "    background-color: var(--disabled-bg-color);\n",
              "    fill: var(--disabled-fill-color);\n",
              "    box-shadow: none;\n",
              "  }\n",
              "\n",
              "  .colab-df-spinner {\n",
              "    border: 2px solid var(--fill-color);\n",
              "    border-color: transparent;\n",
              "    border-bottom-color: var(--fill-color);\n",
              "    animation:\n",
              "      spin 1s steps(1) infinite;\n",
              "  }\n",
              "\n",
              "  @keyframes spin {\n",
              "    0% {\n",
              "      border-color: transparent;\n",
              "      border-bottom-color: var(--fill-color);\n",
              "      border-left-color: var(--fill-color);\n",
              "    }\n",
              "    20% {\n",
              "      border-color: transparent;\n",
              "      border-left-color: var(--fill-color);\n",
              "      border-top-color: var(--fill-color);\n",
              "    }\n",
              "    30% {\n",
              "      border-color: transparent;\n",
              "      border-left-color: var(--fill-color);\n",
              "      border-top-color: var(--fill-color);\n",
              "      border-right-color: var(--fill-color);\n",
              "    }\n",
              "    40% {\n",
              "      border-color: transparent;\n",
              "      border-right-color: var(--fill-color);\n",
              "      border-top-color: var(--fill-color);\n",
              "    }\n",
              "    60% {\n",
              "      border-color: transparent;\n",
              "      border-right-color: var(--fill-color);\n",
              "    }\n",
              "    80% {\n",
              "      border-color: transparent;\n",
              "      border-right-color: var(--fill-color);\n",
              "      border-bottom-color: var(--fill-color);\n",
              "    }\n",
              "    90% {\n",
              "      border-color: transparent;\n",
              "      border-bottom-color: var(--fill-color);\n",
              "    }\n",
              "  }\n",
              "</style>\n",
              "\n",
              "  <script>\n",
              "    async function quickchart(key) {\n",
              "      const quickchartButtonEl =\n",
              "        document.querySelector('#' + key + ' button');\n",
              "      quickchartButtonEl.disabled = true;  // To prevent multiple clicks.\n",
              "      quickchartButtonEl.classList.add('colab-df-spinner');\n",
              "      try {\n",
              "        const charts = await google.colab.kernel.invokeFunction(\n",
              "            'suggestCharts', [key], {});\n",
              "      } catch (error) {\n",
              "        console.error('Error during call to suggestCharts:', error);\n",
              "      }\n",
              "      quickchartButtonEl.classList.remove('colab-df-spinner');\n",
              "      quickchartButtonEl.classList.add('colab-df-quickchart-complete');\n",
              "    }\n",
              "    (() => {\n",
              "      let quickchartButtonEl =\n",
              "        document.querySelector('#df-5fb05943-2b3d-40db-acf1-a4955aa5dd63 button');\n",
              "      quickchartButtonEl.style.display =\n",
              "        google.colab.kernel.accessAllowed ? 'block' : 'none';\n",
              "    })();\n",
              "  </script>\n",
              "</div>\n",
              "    </div>\n",
              "  </div>\n"
            ]
          },
          "metadata": {},
          "execution_count": 1433
        }
      ]
    },
    {
      "cell_type": "markdown",
      "source": [
        "Married people and 'Other' group are most likely to default."
      ],
      "metadata": {
        "id": "EVOdpY84lGIC"
      }
    },
    {
      "cell_type": "code",
      "source": [
        "sns.boxplot(data=credit, x=\"default\", y=\"LIMIT_BAL\")"
      ],
      "metadata": {
        "colab": {
          "base_uri": "https://localhost:8080/",
          "height": 482
        },
        "id": "-MPMS_ipxC-A",
        "outputId": "093db462-23e4-4162-9255-a6dfb113c1aa"
      },
      "execution_count": 1434,
      "outputs": [
        {
          "output_type": "execute_result",
          "data": {
            "text/plain": [
              "<Axes: xlabel='default', ylabel='LIMIT_BAL'>"
            ]
          },
          "metadata": {},
          "execution_count": 1434
        },
        {
          "output_type": "display_data",
          "data": {
            "text/plain": [
              "<Figure size 640x480 with 1 Axes>"
            ],
            "image/png": "[encoded data removed]"
          },
          "metadata": {}
        }
      ]
    },
    {
      "cell_type": "markdown",
      "source": [
        "From the graph, it seems like people with a lower limit balance are more likely to default. Hence, limit balance affects probability of default."
      ],
      "metadata": {
        "id": "bIvtCoaFx3CF"
      }
    },
    {
      "cell_type": "code",
      "source": [
        "sns.boxplot(data=credit, x=\"default\", y=\"AGE\")"
      ],
      "metadata": {
        "colab": {
          "base_uri": "https://localhost:8080/",
          "height": 466
        },
        "id": "59y01fdLxY3A",
        "outputId": "56897f8b-d23f-4ab4-b761-6ce2b5e20200"
      },
      "execution_count": 1435,
      "outputs": [
        {
          "output_type": "execute_result",
          "data": {
            "text/plain": [
              "<Axes: xlabel='default', ylabel='AGE'>"
            ]
          },
          "metadata": {},
          "execution_count": 1435
        },
        {
          "output_type": "display_data",
          "data": {
            "text/plain": [
              "<Figure size 640x480 with 1 Axes>"
            ],
            "image/png": "[encoded data removed]"
          },
          "metadata": {}
        }
      ]
    },
    {
      "cell_type": "markdown",
      "source": [
        "Similary, from the graph, it seems like there is no correlation between age and default next month."
      ],
      "metadata": {
        "id": "g54NJ1bXyBwe"
      }
    },
    {
      "cell_type": "code",
      "source": [
        "sns.boxplot(data=credit, x=\"default\", y=\"PAY_1\")"
      ],
      "metadata": {
        "colab": {
          "base_uri": "https://localhost:8080/",
          "height": 466
        },
        "id": "fUI5gK30LN_O",
        "outputId": "83e5a851-005b-4e0d-e46b-715da837d414"
      },
      "execution_count": 1436,
      "outputs": [
        {
          "output_type": "execute_result",
          "data": {
            "text/plain": [
              "<Axes: xlabel='default', ylabel='PAY_1'>"
            ]
          },
          "metadata": {},
          "execution_count": 1436
        },
        {
          "output_type": "display_data",
          "data": {
            "text/plain": [
              "<Figure size 640x480 with 1 Axes>"
            ],
            "image/png": "[encoded data removed]"
          },
          "metadata": {}
        }
      ]
    },
    {
      "cell_type": "code",
      "source": [
        "sns.boxplot(data=credit, x=\"default\", y=\"PAY_2\")"
      ],
      "metadata": {
        "colab": {
          "base_uri": "https://localhost:8080/",
          "height": 466
        },
        "id": "3IuB_copNywW",
        "outputId": "a7fe91d5-8649-4886-d051-b5e1a7152ee1"
      },
      "execution_count": 1437,
      "outputs": [
        {
          "output_type": "execute_result",
          "data": {
            "text/plain": [
              "<Axes: xlabel='default', ylabel='PAY_2'>"
            ]
          },
          "metadata": {},
          "execution_count": 1437
        },
        {
          "output_type": "display_data",
          "data": {
            "text/plain": [
              "<Figure size 640x480 with 1 Axes>"
            ],
            "image/png": "[encoded data removed]"
          },
          "metadata": {}
        }
      ]
    },
    {
      "cell_type": "code",
      "source": [
        "sns.boxplot(data=credit, x=\"default\", y=\"PAY_3\")"
      ],
      "metadata": {
        "colab": {
          "base_uri": "https://localhost:8080/",
          "height": 466
        },
        "id": "-mIXm4S9N1D-",
        "outputId": "23ec3601-8746-4c8e-86f4-386d0f2aa029"
      },
      "execution_count": 1438,
      "outputs": [
        {
          "output_type": "execute_result",
          "data": {
            "text/plain": [
              "<Axes: xlabel='default', ylabel='PAY_3'>"
            ]
          },
          "metadata": {},
          "execution_count": 1438
        },
        {
          "output_type": "display_data",
          "data": {
            "text/plain": [
              "<Figure size 640x480 with 1 Axes>"
            ],
            "image/png": "[encoded data removed]"
          },
          "metadata": {}
        }
      ]
    },
    {
      "cell_type": "code",
      "source": [
        "sns.boxplot(data=credit, x=\"default\", y=\"PAY_4\")"
      ],
      "metadata": {
        "colab": {
          "base_uri": "https://localhost:8080/",
          "height": 466
        },
        "id": "R-B-O4wdN4KZ",
        "outputId": "555b9605-50ee-423a-e448-81879b0fbee5"
      },
      "execution_count": 1439,
      "outputs": [
        {
          "output_type": "execute_result",
          "data": {
            "text/plain": [
              "<Axes: xlabel='default', ylabel='PAY_4'>"
            ]
          },
          "metadata": {},
          "execution_count": 1439
        },
        {
          "output_type": "display_data",
          "data": {
            "text/plain": [
              "<Figure size 640x480 with 1 Axes>"
            ],
            "image/png": "[encoded data removed]"
          },
          "metadata": {}
        }
      ]
    },
    {
      "cell_type": "code",
      "source": [
        "sns.boxplot(data=credit, x=\"default\", y=\"PAY_5\")"
      ],
      "metadata": {
        "colab": {
          "base_uri": "https://localhost:8080/",
          "height": 466
        },
        "id": "nL6eOygIN51P",
        "outputId": "1731f93b-79d6-482f-dcf5-f8ac5b16d679"
      },
      "execution_count": 1440,
      "outputs": [
        {
          "output_type": "execute_result",
          "data": {
            "text/plain": [
              "<Axes: xlabel='default', ylabel='PAY_5'>"
            ]
          },
          "metadata": {},
          "execution_count": 1440
        },
        {
          "output_type": "display_data",
          "data": {
            "text/plain": [
              "<Figure size 640x480 with 1 Axes>"
            ],
            "image/png": "[encoded data removed]"
          },
          "metadata": {}
        }
      ]
    },
    {
      "cell_type": "code",
      "source": [
        "sns.boxplot(data=credit, x=\"default\", y=\"PAY_6\")"
      ],
      "metadata": {
        "colab": {
          "base_uri": "https://localhost:8080/",
          "height": 466
        },
        "id": "BFXBj3BxN8ZO",
        "outputId": "31351c60-f437-4ecd-83bb-0896fd896017"
      },
      "execution_count": 1441,
      "outputs": [
        {
          "output_type": "execute_result",
          "data": {
            "text/plain": [
              "<Axes: xlabel='default', ylabel='PAY_6'>"
            ]
          },
          "metadata": {},
          "execution_count": 1441
        },
        {
          "output_type": "display_data",
          "data": {
            "text/plain": [
              "<Figure size 640x480 with 1 Axes>"
            ],
            "image/png": "[encoded data removed]"
          },
          "metadata": {}
        }
      ]
    },
    {
      "cell_type": "markdown",
      "source": [
        "In general, we can see that the mean and interquartile range of PAY_X columns for people who are defaulting is higher than for people who do not default. Therefore, PAY_X columns do have an impact on whether a person defaults or not."
      ],
      "metadata": {
        "id": "PUqLkaK-OAX2"
      }
    },
    {
      "cell_type": "code",
      "source": [
        "sns.heatmap(credit.corr())"
      ],
      "metadata": {
        "colab": {
          "base_uri": "https://localhost:8080/",
          "height": 520
        },
        "id": "Qy4jZT9HxoMX",
        "outputId": "ceafa719-be4c-4e87-93b6-9a47bf8c4548"
      },
      "execution_count": 1442,
      "outputs": [
        {
          "output_type": "execute_result",
          "data": {
            "text/plain": [
              "<Axes: >"
            ]
          },
          "metadata": {},
          "execution_count": 1442
        },
        {
          "output_type": "display_data",
          "data": {
            "text/plain": [
              "<Figure size 640x480 with 2 Axes>"
            ],
            "image/png": "[encoded data removed]"
          },
          "metadata": {}
        }
      ]
    },
    {
      "cell_type": "markdown",
      "source": [
        "From the correlation matrix, we can see that indeed LIMIT_BAL has very low correlation to whether the person defaults or not with a correlation very close to 0.\n",
        "\n",
        "Similarly, SEX, MARRIAGE and AGE have a correlation very close to 0.\n",
        "\n",
        "However, the PAY_X columns seem to have the highest correlation with defaulting of around 0.2."
      ],
      "metadata": {
        "id": "byqE0vVdySEG"
      }
    },
    {
      "cell_type": "code",
      "source": [
        "credit_billpay = credit[['BILL_AMT1', 'BILL_AMT2', 'BILL_AMT3', 'BILL_AMT4', 'BILL_AMT5', 'BILL_AMT6',\n",
        "                         'PAY_AMT1', 'PAY_AMT2', 'PAY_AMT3', 'PAY_AMT4', 'PAY_AMT5', 'PAY_AMT6']]"
      ],
      "metadata": {
        "id": "AIhno9y9JUYk"
      },
      "execution_count": 1443,
      "outputs": []
    },
    {
      "cell_type": "code",
      "source": [
        "sns.heatmap(credit_billpay.corr())"
      ],
      "metadata": {
        "colab": {
          "base_uri": "https://localhost:8080/",
          "height": 513
        },
        "id": "Xz1zXjMxJ8xb",
        "outputId": "a6bd0a7b-e68a-41d9-98d1-bf88cf6ff47e"
      },
      "execution_count": 1444,
      "outputs": [
        {
          "output_type": "execute_result",
          "data": {
            "text/plain": [
              "<Axes: >"
            ]
          },
          "metadata": {},
          "execution_count": 1444
        },
        {
          "output_type": "display_data",
          "data": {
            "text/plain": [
              "<Figure size 640x480 with 2 Axes>"
            ],
            "image/png": "[encoded data removed]"
          },
          "metadata": {}
        }
      ]
    },
    {
      "cell_type": "markdown",
      "source": [
        "If we zoom into the correlation matrix, we can see that BILL_AMTX and PAY_AMTX are correlated, as each BILL_AMT(x) has a correlation of around 0.38 to 0.42 with each PAY_AMT(X-1).\n",
        "\n",
        "Therefore, we can deduce that with each BILL_AMTX, this bill amount is paid by PAY_AMT(X-1) and PAY_AMT(X-1) is dependent on BILL_AMTX.\n",
        "\n",
        "This means that if the bill is incurred in April (BILL_AMT6), the majority of payment for this bill is made in May (PAY_AMT5).\n",
        "\n",
        "Let's take a look at the BILL_AMT and PAY_AMT for one person as an example."
      ],
      "metadata": {
        "id": "HQ0Mg8FAKTjU"
      }
    },
    {
      "cell_type": "code",
      "source": [
        "credit_billpay_bill = pd.DataFrame(credit_billpay[['BILL_AMT6', 'BILL_AMT5', 'BILL_AMT4', 'BILL_AMT3', 'BILL_AMT2', 'BILL_AMT1']].iloc[0].reset_index(drop=True))\n",
        "credit_billpay_pay = pd.DataFrame(credit_billpay[['PAY_AMT6', 'PAY_AMT5', 'PAY_AMT4', 'PAY_AMT3', 'PAY_AMT2', 'PAY_AMT1']].iloc[0].reset_index(drop=True))\n",
        "credit_billpay_month = pd.DataFrame(['Apr', 'May', 'Jun', 'Jul', 'Aug', 'Sep'])\n",
        "credit_billpay_0 = pd.merge(credit_billpay_bill, credit_billpay_pay, left_index=True, right_index=True)\n",
        "credit_billpay_0 = pd.merge(credit_billpay_0, credit_billpay_month, left_index=True, right_index=True)\n",
        "credit_billpay_0 = credit_billpay_0.rename(columns = {\n",
        "    '0_x' : 'BILL_AMT',\n",
        "    '0_y' : 'PAY_AMT',\n",
        "    0 : 'Month'\n",
        "})\n",
        "credit_billpay_0"
      ],
      "metadata": {
        "colab": {
          "base_uri": "https://localhost:8080/",
          "height": 238
        },
        "id": "BWLZNSNVYPS5",
        "outputId": "94ee4a9a-8a6e-4b05-809c-65dddf06050a"
      },
      "execution_count": 1445,
      "outputs": [
        {
          "output_type": "execute_result",
          "data": {
            "text/plain": [
              "   BILL_AMT  PAY_AMT Month\n",
              "0         0        0   Apr\n",
              "1         0        0   May\n",
              "2         0        0   Jun\n",
              "3       689        0   Jul\n",
              "4      3102      689   Aug\n",
              "5      3913        0   Sep"
            ],
            "text/html": [
              "\n",
              "  <div id=\"df-7548ad36-b0d6-49eb-80a7-b4f1ce5472ff\" class=\"colab-df-container\">\n",
              "    <div>\n",
              "<style scoped>\n",
              "    .dataframe tbody tr th:only-of-type {\n",
              "        vertical-align: middle;\n",
              "    }\n",
              "\n",
              "    .dataframe tbody tr th {\n",
              "        vertical-align: top;\n",
              "    }\n",
              "\n",
              "    .dataframe thead th {\n",
              "        text-align: right;\n",
              "    }\n",
              "</style>\n",
              "<table border=\"1\" class=\"dataframe\">\n",
              "  <thead>\n",
              "    <tr style=\"text-align: right;\">\n",
              "      <th></th>\n",
              "      <th>BILL_AMT</th>\n",
              "      <th>PAY_AMT</th>\n",
              "      <th>Month</th>\n",
              "    </tr>\n",
              "  </thead>\n",
              "  <tbody>\n",
              "    <tr>\n",
              "      <th>0</th>\n",
              "      <td>0</td>\n",
              "      <td>0</td>\n",
              "      <td>Apr</td>\n",
              "    </tr>\n",
              "    <tr>\n",
              "      <th>1</th>\n",
              "      <td>0</td>\n",
              "      <td>0</td>\n",
              "      <td>May</td>\n",
              "    </tr>\n",
              "    <tr>\n",
              "      <th>2</th>\n",
              "      <td>0</td>\n",
              "      <td>0</td>\n",
              "      <td>Jun</td>\n",
              "    </tr>\n",
              "    <tr>\n",
              "      <th>3</th>\n",
              "      <td>689</td>\n",
              "      <td>0</td>\n",
              "      <td>Jul</td>\n",
              "    </tr>\n",
              "    <tr>\n",
              "      <th>4</th>\n",
              "      <td>3102</td>\n",
              "      <td>689</td>\n",
              "      <td>Aug</td>\n",
              "    </tr>\n",
              "    <tr>\n",
              "      <th>5</th>\n",
              "      <td>3913</td>\n",
              "      <td>0</td>\n",
              "      <td>Sep</td>\n",
              "    </tr>\n",
              "  </tbody>\n",
              "</table>\n",
              "</div>\n",
              "    <div class=\"colab-df-buttons\">\n",
              "\n",
              "  <div class=\"colab-df-container\">\n",
              "    <button class=\"colab-df-convert\" onclick=\"convertToInteractive('df-7548ad36-b0d6-49eb-80a7-b4f1ce5472ff')\"\n",
              "            title=\"Convert this dataframe to an interactive table.\"\n",
              "            style=\"display:none;\">\n",
              "\n",
              "  <svg xmlns=\"http://www.w3.org/2000/svg\" height=\"24px\" viewBox=\"0 -960 960 960\">\n",
              "    <path d=\"M120-120v-720h720v720H120Zm60-500h600v-160H180v160Zm220 220h160v-160H400v160Zm0 220h160v-160H400v160ZM180-400h160v-160H180v160Zm440 0h160v-160H620v160ZM180-180h160v-160H180v160Zm440 0h160v-160H620v160Z\"/>\n",
              "  </svg>\n",
              "    </button>\n",
              "\n",
              "  <style>\n",
              "    .colab-df-container {\n",
              "      display:flex;\n",
              "      gap: 12px;\n",
              "    }\n",
              "\n",
              "    .colab-df-convert {\n",
              "      background-color: #E8F0FE;\n",
              "      border: none;\n",
              "      border-radius: 50%;\n",
              "      cursor: pointer;\n",
              "      display: none;\n",
              "      fill: #1967D2;\n",
              "      height: 32px;\n",
              "      padding: 0 0 0 0;\n",
              "      width: 32px;\n",
              "    }\n",
              "\n",
              "    .colab-df-convert:hover {\n",
              "      background-color: #E2EBFA;\n",
              "      box-shadow: 0px 1px 2px rgba(60, 64, 67, 0.3), 0px 1px 3px 1px rgba(60, 64, 67, 0.15);\n",
              "      fill: #174EA6;\n",
              "    }\n",
              "\n",
              "    .colab-df-buttons div {\n",
              "      margin-bottom: 4px;\n",
              "    }\n",
              "\n",
              "    [theme=dark] .colab-df-convert {\n",
              "      background-color: #3B4455;\n",
              "      fill: #D2E3FC;\n",
              "    }\n",
              "\n",
              "    [theme=dark] .colab-df-convert:hover {\n",
              "      background-color: #434B5C;\n",
              "      box-shadow: 0px 1px 3px 1px rgba(0, 0, 0, 0.15);\n",
              "      filter: drop-shadow(0px 1px 2px rgba(0, 0, 0, 0.3));\n",
              "      fill: #FFFFFF;\n",
              "    }\n",
              "  </style>\n",
              "\n",
              "    <script>\n",
              "      const buttonEl =\n",
              "        document.querySelector('#df-7548ad36-b0d6-49eb-80a7-b4f1ce5472ff button.colab-df-convert');\n",
              "      buttonEl.style.display =\n",
              "        google.colab.kernel.accessAllowed ? 'block' : 'none';\n",
              "\n",
              "      async function convertToInteractive(key) {\n",
              "        const element = document.querySelector('#df-7548ad36-b0d6-49eb-80a7-b4f1ce5472ff');\n",
              "        const dataTable =\n",
              "          await google.colab.kernel.invokeFunction('convertToInteractive',\n",
              "                                                    [key], {});\n",
              "        if (!dataTable) return;\n",
              "\n",
              "        const docLinkHtml = 'Like what you see? Visit the ' +\n",
              "          '<a target=\"_blank\" href=https://colab.research.google.com/notebooks/data_table.ipynb>data table notebook</a>'\n",
              "          + ' to learn more about interactive tables.';\n",
              "        element.innerHTML = '';\n",
              "        dataTable['output_type'] = 'display_data';\n",
              "        await google.colab.output.renderOutput(dataTable, element);\n",
              "        const docLink = document.createElement('div');\n",
              "        docLink.innerHTML = docLinkHtml;\n",
              "        element.appendChild(docLink);\n",
              "      }\n",
              "    </script>\n",
              "  </div>\n",
              "\n",
              "\n",
              "<div id=\"df-2622e820-ab67-408b-9e74-933bc878dbf3\">\n",
              "  <button class=\"colab-df-quickchart\" onclick=\"quickchart('df-2622e820-ab67-408b-9e74-933bc878dbf3')\"\n",
              "            title=\"Suggest charts.\"\n",
              "            style=\"display:none;\">\n",
              "\n",
              "<svg xmlns=\"http://www.w3.org/2000/svg\" height=\"24px\"viewBox=\"0 0 24 24\"\n",
              "     width=\"24px\">\n",
              "    <g>\n",
              "        <path d=\"M19 3H5c-1.1 0-2 .9-2 2v14c0 1.1.9 2 2 2h14c1.1 0 2-.9 2-2V5c0-1.1-.9-2-2-2zM9 17H7v-7h2v7zm4 0h-2V7h2v10zm4 0h-2v-4h2v4z\"/>\n",
              "    </g>\n",
              "</svg>\n",
              "  </button>\n",
              "\n",
              "<style>\n",
              "  .colab-df-quickchart {\n",
              "      --bg-color: #E8F0FE;\n",
              "      --fill-color: #1967D2;\n",
              "      --hover-bg-color: #E2EBFA;\n",
              "      --hover-fill-color: #174EA6;\n",
              "      --disabled-fill-color: #AAA;\n",
              "      --disabled-bg-color: #DDD;\n",
              "  }\n",
              "\n",
              "  [theme=dark] .colab-df-quickchart {\n",
              "      --bg-color: #3B4455;\n",
              "      --fill-color: #D2E3FC;\n",
              "      --hover-bg-color: #434B5C;\n",
              "      --hover-fill-color: #FFFFFF;\n",
              "      --disabled-bg-color: #3B4455;\n",
              "      --disabled-fill-color: #666;\n",
              "  }\n",
              "\n",
              "  .colab-df-quickchart {\n",
              "    background-color: var(--bg-color);\n",
              "    border: none;\n",
              "    border-radius: 50%;\n",
              "    cursor: pointer;\n",
              "    display: none;\n",
              "    fill: var(--fill-color);\n",
              "    height: 32px;\n",
              "    padding: 0;\n",
              "    width: 32px;\n",
              "  }\n",
              "\n",
              "  .colab-df-quickchart:hover {\n",
              "    background-color: var(--hover-bg-color);\n",
              "    box-shadow: 0 1px 2px rgba(60, 64, 67, 0.3), 0 1px 3px 1px rgba(60, 64, 67, 0.15);\n",
              "    fill: var(--button-hover-fill-color);\n",
              "  }\n",
              "\n",
              "  .colab-df-quickchart-complete:disabled,\n",
              "  .colab-df-quickchart-complete:disabled:hover {\n",
              "    background-color: var(--disabled-bg-color);\n",
              "    fill: var(--disabled-fill-color);\n",
              "    box-shadow: none;\n",
              "  }\n",
              "\n",
              "  .colab-df-spinner {\n",
              "    border: 2px solid var(--fill-color);\n",
              "    border-color: transparent;\n",
              "    border-bottom-color: var(--fill-color);\n",
              "    animation:\n",
              "      spin 1s steps(1) infinite;\n",
              "  }\n",
              "\n",
              "  @keyframes spin {\n",
              "    0% {\n",
              "      border-color: transparent;\n",
              "      border-bottom-color: var(--fill-color);\n",
              "      border-left-color: var(--fill-color);\n",
              "    }\n",
              "    20% {\n",
              "      border-color: transparent;\n",
              "      border-left-color: var(--fill-color);\n",
              "      border-top-color: var(--fill-color);\n",
              "    }\n",
              "    30% {\n",
              "      border-color: transparent;\n",
              "      border-left-color: var(--fill-color);\n",
              "      border-top-color: var(--fill-color);\n",
              "      border-right-color: var(--fill-color);\n",
              "    }\n",
              "    40% {\n",
              "      border-color: transparent;\n",
              "      border-right-color: var(--fill-color);\n",
              "      border-top-color: var(--fill-color);\n",
              "    }\n",
              "    60% {\n",
              "      border-color: transparent;\n",
              "      border-right-color: var(--fill-color);\n",
              "    }\n",
              "    80% {\n",
              "      border-color: transparent;\n",
              "      border-right-color: var(--fill-color);\n",
              "      border-bottom-color: var(--fill-color);\n",
              "    }\n",
              "    90% {\n",
              "      border-color: transparent;\n",
              "      border-bottom-color: var(--fill-color);\n",
              "    }\n",
              "  }\n",
              "</style>\n",
              "\n",
              "  <script>\n",
              "    async function quickchart(key) {\n",
              "      const quickchartButtonEl =\n",
              "        document.querySelector('#' + key + ' button');\n",
              "      quickchartButtonEl.disabled = true;  // To prevent multiple clicks.\n",
              "      quickchartButtonEl.classList.add('colab-df-spinner');\n",
              "      try {\n",
              "        const charts = await google.colab.kernel.invokeFunction(\n",
              "            'suggestCharts', [key], {});\n",
              "      } catch (error) {\n",
              "        console.error('Error during call to suggestCharts:', error);\n",
              "      }\n",
              "      quickchartButtonEl.classList.remove('colab-df-spinner');\n",
              "      quickchartButtonEl.classList.add('colab-df-quickchart-complete');\n",
              "    }\n",
              "    (() => {\n",
              "      let quickchartButtonEl =\n",
              "        document.querySelector('#df-2622e820-ab67-408b-9e74-933bc878dbf3 button');\n",
              "      quickchartButtonEl.style.display =\n",
              "        google.colab.kernel.accessAllowed ? 'block' : 'none';\n",
              "    })();\n",
              "  </script>\n",
              "</div>\n",
              "    </div>\n",
              "  </div>\n"
            ]
          },
          "metadata": {},
          "execution_count": 1445
        }
      ]
    },
    {
      "cell_type": "code",
      "source": [
        "sns.lineplot(data=credit_billpay_0, x='Month', y='BILL_AMT')\n",
        "sns.lineplot(data=credit_billpay_0, x='Month', y='PAY_AMT')"
      ],
      "metadata": {
        "colab": {
          "base_uri": "https://localhost:8080/",
          "height": 466
        },
        "id": "dK4LeIJ7ZMeY",
        "outputId": "5ec18407-1fbb-434f-e7fd-c6deaf3b1ead"
      },
      "execution_count": 1446,
      "outputs": [
        {
          "output_type": "execute_result",
          "data": {
            "text/plain": [
              "<Axes: xlabel='Month', ylabel='BILL_AMT'>"
            ]
          },
          "metadata": {},
          "execution_count": 1446
        },
        {
          "output_type": "display_data",
          "data": {
            "text/plain": [
              "<Figure size 640x480 with 1 Axes>"
            ],
            "image/png": "[encoded data removed]"
          },
          "metadata": {}
        }
      ]
    },
    {
      "cell_type": "markdown",
      "source": [
        "As shown, we can see that there is a correlation between BILL_AMT and PAY_AMT, as each bill amount would be paid in the following month."
      ],
      "metadata": {
        "id": "ayaU86GkgV_S"
      }
    },
    {
      "cell_type": "code",
      "source": [
        "credit_paystatus = credit[['PAY_1', 'PAY_2', 'PAY_3', 'PAY_4', 'PAY_5', 'PAY_6']]"
      ],
      "metadata": {
        "id": "uGs_r0W7aloN"
      },
      "execution_count": 1447,
      "outputs": []
    },
    {
      "cell_type": "code",
      "source": [
        "sns.heatmap(credit_paystatus.corr())"
      ],
      "metadata": {
        "colab": {
          "base_uri": "https://localhost:8080/",
          "height": 452
        },
        "id": "DMA7kuZRMOgX",
        "outputId": "ea7ce870-8476-4897-e590-148b42bf8077"
      },
      "execution_count": 1448,
      "outputs": [
        {
          "output_type": "execute_result",
          "data": {
            "text/plain": [
              "<Axes: >"
            ]
          },
          "metadata": {},
          "execution_count": 1448
        },
        {
          "output_type": "display_data",
          "data": {
            "text/plain": [
              "<Figure size 640x480 with 2 Axes>"
            ],
            "image/png": "[encoded data removed]"
          },
          "metadata": {}
        }
      ]
    },
    {
      "cell_type": "markdown",
      "source": [
        "Similarly, if we zoom in even smaller, we can see that PAY_(X) is dependent on PAY_(X-1) with a correlation of about 0.7 to 0.85.\n",
        "\n",
        "This makes sense because each PAY_X is cumulative and dependent on the previous month's PAY_X (PAY_(x+1))."
      ],
      "metadata": {
        "id": "AwGkr6loMXp9"
      }
    },
    {
      "cell_type": "code",
      "source": [
        "credit2 = credit.copy()"
      ],
      "metadata": {
        "id": "TPMw_oL4pjgj"
      },
      "execution_count": 1449,
      "outputs": []
    },
    {
      "cell_type": "markdown",
      "source": [],
      "metadata": {
        "id": "xNBWYV03rlkE"
      }
    },
    {
      "cell_type": "code",
      "source": [
        "credit2['UNPAID_1'] = (credit2.BILL_AMT2 - credit2.PAY_AMT1)\n",
        "credit2['UNPAID_2'] = (credit2.BILL_AMT3 - credit2.PAY_AMT2)\n",
        "credit2['UNPAID_3'] = (credit2.BILL_AMT4 - credit2.PAY_AMT3)\n",
        "credit2['UNPAID_4'] = (credit2.BILL_AMT5 - credit2.PAY_AMT4)\n",
        "credit2['UNPAID_5'] = (credit2.BILL_AMT6 - credit2.PAY_AMT5)\n",
        "\n",
        "credit2['UNPAID_1'] = credit2['UNPAID_1'].fillna(0)\n",
        "credit2['UNPAID_2'] = credit2['UNPAID_2'].fillna(0)\n",
        "credit2['UNPAID_3'] = credit2['UNPAID_3'].fillna(0)\n",
        "credit2['UNPAID_4'] = credit2['UNPAID_4'].fillna(0)\n",
        "credit2['UNPAID_5'] = credit2['UNPAID_5'].fillna(0)"
      ],
      "metadata": {
        "id": "s0LMrLoQK-R7"
      },
      "execution_count": 1450,
      "outputs": []
    },
    {
      "cell_type": "code",
      "source": [
        "credit2['GAP_1'] = (credit2.LIMIT_BAL - credit2.BILL_AMT1) / credit2.LIMIT_BAL\n",
        "credit2['GAP_2'] = (credit2.LIMIT_BAL - credit2.BILL_AMT2) / credit2.LIMIT_BAL\n",
        "credit2['GAP_3'] = (credit2.LIMIT_BAL - credit2.BILL_AMT3) / credit2.LIMIT_BAL\n",
        "credit2['GAP_4'] = (credit2.LIMIT_BAL - credit2.BILL_AMT4) / credit2.LIMIT_BAL\n",
        "credit2['GAP_5'] = (credit2.LIMIT_BAL - credit2.BILL_AMT5) / credit2.LIMIT_BAL\n",
        "credit2['GAP_6'] = (credit2.LIMIT_BAL - credit2.BILL_AMT6) / credit2.LIMIT_BAL"
      ],
      "metadata": {
        "id": "yPm1ZGqoh9WA"
      },
      "execution_count": 1451,
      "outputs": []
    },
    {
      "cell_type": "code",
      "source": [
        "sns.boxplot(data=credit2, x='default', y=\"GAP_1\")"
      ],
      "metadata": {
        "colab": {
          "base_uri": "https://localhost:8080/",
          "height": 466
        },
        "id": "V9Y4kgCKqyU9",
        "outputId": "0d08404e-5b3e-4808-d26b-e0d5468763f9"
      },
      "execution_count": 1452,
      "outputs": [
        {
          "output_type": "execute_result",
          "data": {
            "text/plain": [
              "<Axes: xlabel='default', ylabel='GAP_1'>"
            ]
          },
          "metadata": {},
          "execution_count": 1452
        },
        {
          "output_type": "display_data",
          "data": {
            "text/plain": [
              "<Figure size 640x480 with 1 Axes>"
            ],
            "image/png": "[encoded data removed]"
          },
          "metadata": {}
        }
      ]
    },
    {
      "cell_type": "code",
      "source": [
        "sns.boxplot(data=credit2, x='default', y=\"GAP_2\")"
      ],
      "metadata": {
        "colab": {
          "base_uri": "https://localhost:8080/",
          "height": 466
        },
        "id": "osCqHMlhq5Tk",
        "outputId": "04e89c81-a5c3-495e-9d7f-d7cc19688398"
      },
      "execution_count": 1453,
      "outputs": [
        {
          "output_type": "execute_result",
          "data": {
            "text/plain": [
              "<Axes: xlabel='default', ylabel='GAP_2'>"
            ]
          },
          "metadata": {},
          "execution_count": 1453
        },
        {
          "output_type": "display_data",
          "data": {
            "text/plain": [
              "<Figure size 640x480 with 1 Axes>"
            ],
            "image/png": "[encoded data removed]"
          },
          "metadata": {}
        }
      ]
    },
    {
      "cell_type": "code",
      "source": [
        "sns.boxplot(data=credit2, x='default', y=\"GAP_3\")"
      ],
      "metadata": {
        "colab": {
          "base_uri": "https://localhost:8080/",
          "height": 466
        },
        "id": "8FylnIG4q5aa",
        "outputId": "fd55d285-a67a-4390-c2d6-66252be15c86"
      },
      "execution_count": 1454,
      "outputs": [
        {
          "output_type": "execute_result",
          "data": {
            "text/plain": [
              "<Axes: xlabel='default', ylabel='GAP_3'>"
            ]
          },
          "metadata": {},
          "execution_count": 1454
        },
        {
          "output_type": "display_data",
          "data": {
            "text/plain": [
              "<Figure size 640x480 with 1 Axes>"
            ],
            "image/png": "[encoded data removed]"
          },
          "metadata": {}
        }
      ]
    },
    {
      "cell_type": "code",
      "source": [
        "sns.boxplot(data=credit2, x='default', y=\"GAP_4\")"
      ],
      "metadata": {
        "colab": {
          "base_uri": "https://localhost:8080/",
          "height": 466
        },
        "id": "AGsdkLTMq5f0",
        "outputId": "0cf63c6c-e65b-4927-80e1-14fe48f39254"
      },
      "execution_count": 1455,
      "outputs": [
        {
          "output_type": "execute_result",
          "data": {
            "text/plain": [
              "<Axes: xlabel='default', ylabel='GAP_4'>"
            ]
          },
          "metadata": {},
          "execution_count": 1455
        },
        {
          "output_type": "display_data",
          "data": {
            "text/plain": [
              "<Figure size 640x480 with 1 Axes>"
            ],
            "image/png": "[encoded data removed]"
          },
          "metadata": {}
        }
      ]
    },
    {
      "cell_type": "code",
      "source": [
        "sns.boxplot(data=credit2, x='default', y=\"GAP_5\")"
      ],
      "metadata": {
        "colab": {
          "base_uri": "https://localhost:8080/",
          "height": 466
        },
        "id": "fPNa2nq2q5mP",
        "outputId": "3ca4ca86-a2b1-417b-f65d-66e83e027beb"
      },
      "execution_count": 1456,
      "outputs": [
        {
          "output_type": "execute_result",
          "data": {
            "text/plain": [
              "<Axes: xlabel='default', ylabel='GAP_5'>"
            ]
          },
          "metadata": {},
          "execution_count": 1456
        },
        {
          "output_type": "display_data",
          "data": {
            "text/plain": [
              "<Figure size 640x480 with 1 Axes>"
            ],
            "image/png": "[encoded data removed]"
          },
          "metadata": {}
        }
      ]
    },
    {
      "cell_type": "code",
      "source": [
        "sns.boxplot(data=credit2, x='default', y=\"GAP_6\")"
      ],
      "metadata": {
        "colab": {
          "base_uri": "https://localhost:8080/",
          "height": 466
        },
        "id": "RvzdgW_hq5tM",
        "outputId": "99f7009e-f88a-4611-cc7a-6d18bf2be87d"
      },
      "execution_count": 1457,
      "outputs": [
        {
          "output_type": "execute_result",
          "data": {
            "text/plain": [
              "<Axes: xlabel='default', ylabel='GAP_6'>"
            ]
          },
          "metadata": {},
          "execution_count": 1457
        },
        {
          "output_type": "display_data",
          "data": {
            "text/plain": [
              "<Figure size 640x480 with 1 Axes>"
            ],
            "image/png": "[encoded data removed]"
          },
          "metadata": {}
        }
      ]
    },
    {
      "cell_type": "markdown",
      "source": [
        "As seen from the graphs above, we can see that people who default have a lower gap between the bill amount and limit balance every month, with a lower mean, 25th percentile and 75th percentile.\n",
        "\n",
        "This means that people who spend very close to their limit balance every month are more likely to default."
      ],
      "metadata": {
        "id": "5frfR13hq3nv"
      }
    },
    {
      "cell_type": "code",
      "source": [
        "credit2.info()"
      ],
      "metadata": {
        "colab": {
          "base_uri": "https://localhost:8080/"
        },
        "id": "RXWwhF1I_6bt",
        "outputId": "00c8057e-7997-4e4a-9bf6-6c07da0e4cf8"
      },
      "execution_count": 1458,
      "outputs": [
        {
          "output_type": "stream",
          "name": "stdout",
          "text": [
            "<class 'pandas.core.frame.DataFrame'>\n",
            "RangeIndex: 30000 entries, 0 to 29999\n",
            "Data columns (total 35 columns):\n",
            " #   Column     Non-Null Count  Dtype  \n",
            "---  ------     --------------  -----  \n",
            " 0   LIMIT_BAL  30000 non-null  int64  \n",
            " 1   SEX        30000 non-null  int64  \n",
            " 2   EDUCATION  30000 non-null  int64  \n",
            " 3   MARRIAGE   30000 non-null  int64  \n",
            " 4   AGE        30000 non-null  int64  \n",
            " 5   PAY_1      30000 non-null  int64  \n",
            " 6   PAY_2      30000 non-null  int64  \n",
            " 7   PAY_3      30000 non-null  int64  \n",
            " 8   PAY_4      30000 non-null  int64  \n",
            " 9   PAY_5      30000 non-null  int64  \n",
            " 10  PAY_6      30000 non-null  int64  \n",
            " 11  BILL_AMT1  30000 non-null  int64  \n",
            " 12  BILL_AMT2  30000 non-null  int64  \n",
            " 13  BILL_AMT3  30000 non-null  int64  \n",
            " 14  BILL_AMT4  30000 non-null  int64  \n",
            " 15  BILL_AMT5  30000 non-null  int64  \n",
            " 16  BILL_AMT6  30000 non-null  int64  \n",
            " 17  PAY_AMT1   30000 non-null  int64  \n",
            " 18  PAY_AMT2   30000 non-null  int64  \n",
            " 19  PAY_AMT3   30000 non-null  int64  \n",
            " 20  PAY_AMT4   30000 non-null  int64  \n",
            " 21  PAY_AMT5   30000 non-null  int64  \n",
            " 22  PAY_AMT6   30000 non-null  int64  \n",
            " 23  default    30000 non-null  int64  \n",
            " 24  UNPAID_1   30000 non-null  int64  \n",
            " 25  UNPAID_2   30000 non-null  int64  \n",
            " 26  UNPAID_3   30000 non-null  int64  \n",
            " 27  UNPAID_4   30000 non-null  int64  \n",
            " 28  UNPAID_5   30000 non-null  int64  \n",
            " 29  GAP_1      30000 non-null  float64\n",
            " 30  GAP_2      30000 non-null  float64\n",
            " 31  GAP_3      30000 non-null  float64\n",
            " 32  GAP_4      30000 non-null  float64\n",
            " 33  GAP_5      30000 non-null  float64\n",
            " 34  GAP_6      30000 non-null  float64\n",
            "dtypes: float64(6), int64(29)\n",
            "memory usage: 8.0 MB\n"
          ]
        }
      ]
    },
    {
      "cell_type": "markdown",
      "source": [
        "## **Creating Dummy Variables**"
      ],
      "metadata": {
        "id": "QUjgu0MVxMoj"
      }
    },
    {
      "cell_type": "code",
      "source": [
        "credit.info()"
      ],
      "metadata": {
        "colab": {
          "base_uri": "https://localhost:8080/"
        },
        "id": "hT0jn6YH2hMX",
        "outputId": "82aaeab4-9965-4565-fc5c-f626f5f397bf"
      },
      "execution_count": 1459,
      "outputs": [
        {
          "output_type": "stream",
          "name": "stdout",
          "text": [
            "<class 'pandas.core.frame.DataFrame'>\n",
            "RangeIndex: 30000 entries, 0 to 29999\n",
            "Data columns (total 24 columns):\n",
            " #   Column     Non-Null Count  Dtype\n",
            "---  ------     --------------  -----\n",
            " 0   LIMIT_BAL  30000 non-null  int64\n",
            " 1   SEX        30000 non-null  int64\n",
            " 2   EDUCATION  30000 non-null  int64\n",
            " 3   MARRIAGE   30000 non-null  int64\n",
            " 4   AGE        30000 non-null  int64\n",
            " 5   PAY_1      30000 non-null  int64\n",
            " 6   PAY_2      30000 non-null  int64\n",
            " 7   PAY_3      30000 non-null  int64\n",
            " 8   PAY_4      30000 non-null  int64\n",
            " 9   PAY_5      30000 non-null  int64\n",
            " 10  PAY_6      30000 non-null  int64\n",
            " 11  BILL_AMT1  30000 non-null  int64\n",
            " 12  BILL_AMT2  30000 non-null  int64\n",
            " 13  BILL_AMT3  30000 non-null  int64\n",
            " 14  BILL_AMT4  30000 non-null  int64\n",
            " 15  BILL_AMT5  30000 non-null  int64\n",
            " 16  BILL_AMT6  30000 non-null  int64\n",
            " 17  PAY_AMT1   30000 non-null  int64\n",
            " 18  PAY_AMT2   30000 non-null  int64\n",
            " 19  PAY_AMT3   30000 non-null  int64\n",
            " 20  PAY_AMT4   30000 non-null  int64\n",
            " 21  PAY_AMT5   30000 non-null  int64\n",
            " 22  PAY_AMT6   30000 non-null  int64\n",
            " 23  default    30000 non-null  int64\n",
            "dtypes: int64(24)\n",
            "memory usage: 5.5 MB\n"
          ]
        }
      ]
    },
    {
      "cell_type": "code",
      "source": [
        "# Create Dummy Variables for \"SEX\", \"EDUCATION\", \"MARRIAGE\" and PAY_X variables\n",
        "pay = [\"PAY_\" + str(i) for i in range(1, 7)]\n",
        "dummy_list = [\"SEX\", \"EDUCATION\", \"MARRIAGE\"]\n",
        "\n",
        "for col in pay + dummy_list:\n",
        "    credit = pd.get_dummies(credit, columns=[col])\n",
        "\n",
        "credit.head()"
      ],
      "metadata": {
        "colab": {
          "base_uri": "https://localhost:8080/",
          "height": 236
        },
        "id": "0mbOPhGPwijm",
        "outputId": "acd0ad94-ef2f-44d9-ebe3-7b8882e48196"
      },
      "execution_count": 1460,
      "outputs": [
        {
          "output_type": "execute_result",
          "data": {
            "text/plain": [
              "   LIMIT_BAL  AGE  BILL_AMT1  BILL_AMT2  BILL_AMT3  BILL_AMT4  BILL_AMT5  \\\n",
              "0      20000   24       3913       3102        689          0          0   \n",
              "1     120000   26       2682       1725       2682       3272       3455   \n",
              "2      90000   34      29239      14027      13559      14331      14948   \n",
              "3      50000   37      46990      48233      49291      28314      28959   \n",
              "4      50000   57       8617       5670      35835      20940      19146   \n",
              "\n",
              "   BILL_AMT6  PAY_AMT1  PAY_AMT2  ...  PAY_6_8  SEX_1  SEX_2  EDUCATION_1  \\\n",
              "0          0         0       689  ...        0      1      0            0   \n",
              "1       3261         0      1000  ...        0      0      1            0   \n",
              "2      15549      1518      1500  ...        0      0      1            0   \n",
              "3      29547      2000      2019  ...        0      0      1            0   \n",
              "4      19131      2000     36681  ...        0      1      0            0   \n",
              "\n",
              "   EDUCATION_2  EDUCATION_3  EDUCATION_4  MARRIAGE_1  MARRIAGE_2  MARRIAGE_3  \n",
              "0            1            0            0           1           0           0  \n",
              "1            1            0            0           0           1           0  \n",
              "2            1            0            0           0           1           0  \n",
              "3            1            0            0           1           0           0  \n",
              "4            1            0            0           1           0           0  \n",
              "\n",
              "[5 rows x 88 columns]"
            ],
            "text/html": [
              "\n",
              "  <div id=\"df-6fc9428b-3f07-49af-b063-759c56046718\" class=\"colab-df-container\">\n",
              "    <div>\n",
              "<style scoped>\n",
              "    .dataframe tbody tr th:only-of-type {\n",
              "        vertical-align: middle;\n",
              "    }\n",
              "\n",
              "    .dataframe tbody tr th {\n",
              "        vertical-align: top;\n",
              "    }\n",
              "\n",
              "    .dataframe thead th {\n",
              "        text-align: right;\n",
              "    }\n",
              "</style>\n",
              "<table border=\"1\" class=\"dataframe\">\n",
              "  <thead>\n",
              "    <tr style=\"text-align: right;\">\n",
              "      <th></th>\n",
              "      <th>LIMIT_BAL</th>\n",
              "      <th>AGE</th>\n",
              "      <th>BILL_AMT1</th>\n",
              "      <th>BILL_AMT2</th>\n",
              "      <th>BILL_AMT3</th>\n",
              "      <th>BILL_AMT4</th>\n",
              "      <th>BILL_AMT5</th>\n",
              "      <th>BILL_AMT6</th>\n",
              "      <th>PAY_AMT1</th>\n",
              "      <th>PAY_AMT2</th>\n",
              "      <th>...</th>\n",
              "      <th>PAY_6_8</th>\n",
              "      <th>SEX_1</th>\n",
              "      <th>SEX_2</th>\n",
              "      <th>EDUCATION_1</th>\n",
              "      <th>EDUCATION_2</th>\n",
              "      <th>EDUCATION_3</th>\n",
              "      <th>EDUCATION_4</th>\n",
              "      <th>MARRIAGE_1</th>\n",
              "      <th>MARRIAGE_2</th>\n",
              "      <th>MARRIAGE_3</th>\n",
              "    </tr>\n",
              "  </thead>\n",
              "  <tbody>\n",
              "    <tr>\n",
              "      <th>0</th>\n",
              "      <td>20000</td>\n",
              "      <td>24</td>\n",
              "      <td>3913</td>\n",
              "      <td>3102</td>\n",
              "      <td>689</td>\n",
              "      <td>0</td>\n",
              "      <td>0</td>\n",
              "      <td>0</td>\n",
              "      <td>0</td>\n",
              "      <td>689</td>\n",
              "      <td>...</td>\n",
              "      <td>0</td>\n",
              "      <td>1</td>\n",
              "      <td>0</td>\n",
              "      <td>0</td>\n",
              "      <td>1</td>\n",
              "      <td>0</td>\n",
              "      <td>0</td>\n",
              "      <td>1</td>\n",
              "      <td>0</td>\n",
              "      <td>0</td>\n",
              "    </tr>\n",
              "    <tr>\n",
              "      <th>1</th>\n",
              "      <td>120000</td>\n",
              "      <td>26</td>\n",
              "      <td>2682</td>\n",
              "      <td>1725</td>\n",
              "      <td>2682</td>\n",
              "      <td>3272</td>\n",
              "      <td>3455</td>\n",
              "      <td>3261</td>\n",
              "      <td>0</td>\n",
              "      <td>1000</td>\n",
              "      <td>...</td>\n",
              "      <td>0</td>\n",
              "      <td>0</td>\n",
              "      <td>1</td>\n",
              "      <td>0</td>\n",
              "      <td>1</td>\n",
              "      <td>0</td>\n",
              "      <td>0</td>\n",
              "      <td>0</td>\n",
              "      <td>1</td>\n",
              "      <td>0</td>\n",
              "    </tr>\n",
              "    <tr>\n",
              "      <th>2</th>\n",
              "      <td>90000</td>\n",
              "      <td>34</td>\n",
              "      <td>29239</td>\n",
              "      <td>14027</td>\n",
              "      <td>13559</td>\n",
              "      <td>14331</td>\n",
              "      <td>14948</td>\n",
              "      <td>15549</td>\n",
              "      <td>1518</td>\n",
              "      <td>1500</td>\n",
              "      <td>...</td>\n",
              "      <td>0</td>\n",
              "      <td>0</td>\n",
              "      <td>1</td>\n",
              "      <td>0</td>\n",
              "      <td>1</td>\n",
              "      <td>0</td>\n",
              "      <td>0</td>\n",
              "      <td>0</td>\n",
              "      <td>1</td>\n",
              "      <td>0</td>\n",
              "    </tr>\n",
              "    <tr>\n",
              "      <th>3</th>\n",
              "      <td>50000</td>\n",
              "      <td>37</td>\n",
              "      <td>46990</td>\n",
              "      <td>48233</td>\n",
              "      <td>49291</td>\n",
              "      <td>28314</td>\n",
              "      <td>28959</td>\n",
              "      <td>29547</td>\n",
              "      <td>2000</td>\n",
              "      <td>2019</td>\n",
              "      <td>...</td>\n",
              "      <td>0</td>\n",
              "      <td>0</td>\n",
              "      <td>1</td>\n",
              "      <td>0</td>\n",
              "      <td>1</td>\n",
              "      <td>0</td>\n",
              "      <td>0</td>\n",
              "      <td>1</td>\n",
              "      <td>0</td>\n",
              "      <td>0</td>\n",
              "    </tr>\n",
              "    <tr>\n",
              "      <th>4</th>\n",
              "      <td>50000</td>\n",
              "      <td>57</td>\n",
              "      <td>8617</td>\n",
              "      <td>5670</td>\n",
              "      <td>35835</td>\n",
              "      <td>20940</td>\n",
              "      <td>19146</td>\n",
              "      <td>19131</td>\n",
              "      <td>2000</td>\n",
              "      <td>36681</td>\n",
              "      <td>...</td>\n",
              "      <td>0</td>\n",
              "      <td>1</td>\n",
              "      <td>0</td>\n",
              "      <td>0</td>\n",
              "      <td>1</td>\n",
              "      <td>0</td>\n",
              "      <td>0</td>\n",
              "      <td>1</td>\n",
              "      <td>0</td>\n",
              "      <td>0</td>\n",
              "    </tr>\n",
              "  </tbody>\n",
              "</table>\n",
              "<p>5 rows × 88 columns</p>\n",
              "</div>\n",
              "    <div class=\"colab-df-buttons\">\n",
              "\n",
              "  <div class=\"colab-df-container\">\n",
              "    <button class=\"colab-df-convert\" onclick=\"convertToInteractive('df-6fc9428b-3f07-49af-b063-759c56046718')\"\n",
              "            title=\"Convert this dataframe to an interactive table.\"\n",
              "            style=\"display:none;\">\n",
              "\n",
              "  <svg xmlns=\"http://www.w3.org/2000/svg\" height=\"24px\" viewBox=\"0 -960 960 960\">\n",
              "    <path d=\"M120-120v-720h720v720H120Zm60-500h600v-160H180v160Zm220 220h160v-160H400v160Zm0 220h160v-160H400v160ZM180-400h160v-160H180v160Zm440 0h160v-160H620v160ZM180-180h160v-160H180v160Zm440 0h160v-160H620v160Z\"/>\n",
              "  </svg>\n",
              "    </button>\n",
              "\n",
              "  <style>\n",
              "    .colab-df-container {\n",
              "      display:flex;\n",
              "      gap: 12px;\n",
              "    }\n",
              "\n",
              "    .colab-df-convert {\n",
              "      background-color: #E8F0FE;\n",
              "      border: none;\n",
              "      border-radius: 50%;\n",
              "      cursor: pointer;\n",
              "      display: none;\n",
              "      fill: #1967D2;\n",
              "      height: 32px;\n",
              "      padding: 0 0 0 0;\n",
              "      width: 32px;\n",
              "    }\n",
              "\n",
              "    .colab-df-convert:hover {\n",
              "      background-color: #E2EBFA;\n",
              "      box-shadow: 0px 1px 2px rgba(60, 64, 67, 0.3), 0px 1px 3px 1px rgba(60, 64, 67, 0.15);\n",
              "      fill: #174EA6;\n",
              "    }\n",
              "\n",
              "    .colab-df-buttons div {\n",
              "      margin-bottom: 4px;\n",
              "    }\n",
              "\n",
              "    [theme=dark] .colab-df-convert {\n",
              "      background-color: #3B4455;\n",
              "      fill: #D2E3FC;\n",
              "    }\n",
              "\n",
              "    [theme=dark] .colab-df-convert:hover {\n",
              "      background-color: #434B5C;\n",
              "      box-shadow: 0px 1px 3px 1px rgba(0, 0, 0, 0.15);\n",
              "      filter: drop-shadow(0px 1px 2px rgba(0, 0, 0, 0.3));\n",
              "      fill: #FFFFFF;\n",
              "    }\n",
              "  </style>\n",
              "\n",
              "    <script>\n",
              "      const buttonEl =\n",
              "        document.querySelector('#df-6fc9428b-3f07-49af-b063-759c56046718 button.colab-df-convert');\n",
              "      buttonEl.style.display =\n",
              "        google.colab.kernel.accessAllowed ? 'block' : 'none';\n",
              "\n",
              "      async function convertToInteractive(key) {\n",
              "        const element = document.querySelector('#df-6fc9428b-3f07-49af-b063-759c56046718');\n",
              "        const dataTable =\n",
              "          await google.colab.kernel.invokeFunction('convertToInteractive',\n",
              "                                                    [key], {});\n",
              "        if (!dataTable) return;\n",
              "\n",
              "        const docLinkHtml = 'Like what you see? Visit the ' +\n",
              "          '<a target=\"_blank\" href=https://colab.research.google.com/notebooks/data_table.ipynb>data table notebook</a>'\n",
              "          + ' to learn more about interactive tables.';\n",
              "        element.innerHTML = '';\n",
              "        dataTable['output_type'] = 'display_data';\n",
              "        await google.colab.output.renderOutput(dataTable, element);\n",
              "        const docLink = document.createElement('div');\n",
              "        docLink.innerHTML = docLinkHtml;\n",
              "        element.appendChild(docLink);\n",
              "      }\n",
              "    </script>\n",
              "  </div>\n",
              "\n",
              "\n",
              "<div id=\"df-fe64211e-82ea-4bf9-b1f3-e8cecc58c475\">\n",
              "  <button class=\"colab-df-quickchart\" onclick=\"quickchart('df-fe64211e-82ea-4bf9-b1f3-e8cecc58c475')\"\n",
              "            title=\"Suggest charts.\"\n",
              "            style=\"display:none;\">\n",
              "\n",
              "<svg xmlns=\"http://www.w3.org/2000/svg\" height=\"24px\"viewBox=\"0 0 24 24\"\n",
              "     width=\"24px\">\n",
              "    <g>\n",
              "        <path d=\"M19 3H5c-1.1 0-2 .9-2 2v14c0 1.1.9 2 2 2h14c1.1 0 2-.9 2-2V5c0-1.1-.9-2-2-2zM9 17H7v-7h2v7zm4 0h-2V7h2v10zm4 0h-2v-4h2v4z\"/>\n",
              "    </g>\n",
              "</svg>\n",
              "  </button>\n",
              "\n",
              "<style>\n",
              "  .colab-df-quickchart {\n",
              "      --bg-color: #E8F0FE;\n",
              "      --fill-color: #1967D2;\n",
              "      --hover-bg-color: #E2EBFA;\n",
              "      --hover-fill-color: #174EA6;\n",
              "      --disabled-fill-color: #AAA;\n",
              "      --disabled-bg-color: #DDD;\n",
              "  }\n",
              "\n",
              "  [theme=dark] .colab-df-quickchart {\n",
              "      --bg-color: #3B4455;\n",
              "      --fill-color: #D2E3FC;\n",
              "      --hover-bg-color: #434B5C;\n",
              "      --hover-fill-color: #FFFFFF;\n",
              "      --disabled-bg-color: #3B4455;\n",
              "      --disabled-fill-color: #666;\n",
              "  }\n",
              "\n",
              "  .colab-df-quickchart {\n",
              "    background-color: var(--bg-color);\n",
              "    border: none;\n",
              "    border-radius: 50%;\n",
              "    cursor: pointer;\n",
              "    display: none;\n",
              "    fill: var(--fill-color);\n",
              "    height: 32px;\n",
              "    padding: 0;\n",
              "    width: 32px;\n",
              "  }\n",
              "\n",
              "  .colab-df-quickchart:hover {\n",
              "    background-color: var(--hover-bg-color);\n",
              "    box-shadow: 0 1px 2px rgba(60, 64, 67, 0.3), 0 1px 3px 1px rgba(60, 64, 67, 0.15);\n",
              "    fill: var(--button-hover-fill-color);\n",
              "  }\n",
              "\n",
              "  .colab-df-quickchart-complete:disabled,\n",
              "  .colab-df-quickchart-complete:disabled:hover {\n",
              "    background-color: var(--disabled-bg-color);\n",
              "    fill: var(--disabled-fill-color);\n",
              "    box-shadow: none;\n",
              "  }\n",
              "\n",
              "  .colab-df-spinner {\n",
              "    border: 2px solid var(--fill-color);\n",
              "    border-color: transparent;\n",
              "    border-bottom-color: var(--fill-color);\n",
              "    animation:\n",
              "      spin 1s steps(1) infinite;\n",
              "  }\n",
              "\n",
              "  @keyframes spin {\n",
              "    0% {\n",
              "      border-color: transparent;\n",
              "      border-bottom-color: var(--fill-color);\n",
              "      border-left-color: var(--fill-color);\n",
              "    }\n",
              "    20% {\n",
              "      border-color: transparent;\n",
              "      border-left-color: var(--fill-color);\n",
              "      border-top-color: var(--fill-color);\n",
              "    }\n",
              "    30% {\n",
              "      border-color: transparent;\n",
              "      border-left-color: var(--fill-color);\n",
              "      border-top-color: var(--fill-color);\n",
              "      border-right-color: var(--fill-color);\n",
              "    }\n",
              "    40% {\n",
              "      border-color: transparent;\n",
              "      border-right-color: var(--fill-color);\n",
              "      border-top-color: var(--fill-color);\n",
              "    }\n",
              "    60% {\n",
              "      border-color: transparent;\n",
              "      border-right-color: var(--fill-color);\n",
              "    }\n",
              "    80% {\n",
              "      border-color: transparent;\n",
              "      border-right-color: var(--fill-color);\n",
              "      border-bottom-color: var(--fill-color);\n",
              "    }\n",
              "    90% {\n",
              "      border-color: transparent;\n",
              "      border-bottom-color: var(--fill-color);\n",
              "    }\n",
              "  }\n",
              "</style>\n",
              "\n",
              "  <script>\n",
              "    async function quickchart(key) {\n",
              "      const quickchartButtonEl =\n",
              "        document.querySelector('#' + key + ' button');\n",
              "      quickchartButtonEl.disabled = true;  // To prevent multiple clicks.\n",
              "      quickchartButtonEl.classList.add('colab-df-spinner');\n",
              "      try {\n",
              "        const charts = await google.colab.kernel.invokeFunction(\n",
              "            'suggestCharts', [key], {});\n",
              "      } catch (error) {\n",
              "        console.error('Error during call to suggestCharts:', error);\n",
              "      }\n",
              "      quickchartButtonEl.classList.remove('colab-df-spinner');\n",
              "      quickchartButtonEl.classList.add('colab-df-quickchart-complete');\n",
              "    }\n",
              "    (() => {\n",
              "      let quickchartButtonEl =\n",
              "        document.querySelector('#df-fe64211e-82ea-4bf9-b1f3-e8cecc58c475 button');\n",
              "      quickchartButtonEl.style.display =\n",
              "        google.colab.kernel.accessAllowed ? 'block' : 'none';\n",
              "    })();\n",
              "  </script>\n",
              "</div>\n",
              "    </div>\n",
              "  </div>\n"
            ]
          },
          "metadata": {},
          "execution_count": 1460
        }
      ]
    },
    {
      "cell_type": "code",
      "source": [
        "credit.head()"
      ],
      "metadata": {
        "colab": {
          "base_uri": "https://localhost:8080/",
          "height": 236
        },
        "id": "pfZlJrc6NR9E",
        "outputId": "34cbfaeb-889c-4c05-8af5-a19d95aa18e1"
      },
      "execution_count": 1386,
      "outputs": [
        {
          "output_type": "execute_result",
          "data": {
            "text/plain": [
              "   LIMIT_BAL  AGE  BILL_AMT1  BILL_AMT2  BILL_AMT3  BILL_AMT4  BILL_AMT5  \\\n",
              "0      20000   24       3913       3102        689          0          0   \n",
              "1     120000   26       2682       1725       2682       3272       3455   \n",
              "2      90000   34      29239      14027      13559      14331      14948   \n",
              "3      50000   37      46990      48233      49291      28314      28959   \n",
              "4      50000   57       8617       5670      35835      20940      19146   \n",
              "\n",
              "   BILL_AMT6  PAY_AMT1  PAY_AMT2  ...  PAY_6_8  SEX_1  SEX_2  EDUCATION_1  \\\n",
              "0          0         0       689  ...        0      1      0            0   \n",
              "1       3261         0      1000  ...        0      0      1            0   \n",
              "2      15549      1518      1500  ...        0      0      1            0   \n",
              "3      29547      2000      2019  ...        0      0      1            0   \n",
              "4      19131      2000     36681  ...        0      1      0            0   \n",
              "\n",
              "   EDUCATION_2  EDUCATION_3  EDUCATION_4  MARRIAGE_1  MARRIAGE_2  MARRIAGE_3  \n",
              "0            1            0            0           1           0           0  \n",
              "1            1            0            0           0           1           0  \n",
              "2            1            0            0           0           1           0  \n",
              "3            1            0            0           1           0           0  \n",
              "4            1            0            0           1           0           0  \n",
              "\n",
              "[5 rows x 88 columns]"
            ],
            "text/html": [
              "\n",
              "  <div id=\"df-fc556b38-b54a-4f17-8d92-14163706ac34\" class=\"colab-df-container\">\n",
              "    <div>\n",
              "<style scoped>\n",
              "    .dataframe tbody tr th:only-of-type {\n",
              "        vertical-align: middle;\n",
              "    }\n",
              "\n",
              "    .dataframe tbody tr th {\n",
              "        vertical-align: top;\n",
              "    }\n",
              "\n",
              "    .dataframe thead th {\n",
              "        text-align: right;\n",
              "    }\n",
              "</style>\n",
              "<table border=\"1\" class=\"dataframe\">\n",
              "  <thead>\n",
              "    <tr style=\"text-align: right;\">\n",
              "      <th></th>\n",
              "      <th>LIMIT_BAL</th>\n",
              "      <th>AGE</th>\n",
              "      <th>BILL_AMT1</th>\n",
              "      <th>BILL_AMT2</th>\n",
              "      <th>BILL_AMT3</th>\n",
              "      <th>BILL_AMT4</th>\n",
              "      <th>BILL_AMT5</th>\n",
              "      <th>BILL_AMT6</th>\n",
              "      <th>PAY_AMT1</th>\n",
              "      <th>PAY_AMT2</th>\n",
              "      <th>...</th>\n",
              "      <th>PAY_6_8</th>\n",
              "      <th>SEX_1</th>\n",
              "      <th>SEX_2</th>\n",
              "      <th>EDUCATION_1</th>\n",
              "      <th>EDUCATION_2</th>\n",
              "      <th>EDUCATION_3</th>\n",
              "      <th>EDUCATION_4</th>\n",
              "      <th>MARRIAGE_1</th>\n",
              "      <th>MARRIAGE_2</th>\n",
              "      <th>MARRIAGE_3</th>\n",
              "    </tr>\n",
              "  </thead>\n",
              "  <tbody>\n",
              "    <tr>\n",
              "      <th>0</th>\n",
              "      <td>20000</td>\n",
              "      <td>24</td>\n",
              "      <td>3913</td>\n",
              "      <td>3102</td>\n",
              "      <td>689</td>\n",
              "      <td>0</td>\n",
              "      <td>0</td>\n",
              "      <td>0</td>\n",
              "      <td>0</td>\n",
              "      <td>689</td>\n",
              "      <td>...</td>\n",
              "      <td>0</td>\n",
              "      <td>1</td>\n",
              "      <td>0</td>\n",
              "      <td>0</td>\n",
              "      <td>1</td>\n",
              "      <td>0</td>\n",
              "      <td>0</td>\n",
              "      <td>1</td>\n",
              "      <td>0</td>\n",
              "      <td>0</td>\n",
              "    </tr>\n",
              "    <tr>\n",
              "      <th>1</th>\n",
              "      <td>120000</td>\n",
              "      <td>26</td>\n",
              "      <td>2682</td>\n",
              "      <td>1725</td>\n",
              "      <td>2682</td>\n",
              "      <td>3272</td>\n",
              "      <td>3455</td>\n",
              "      <td>3261</td>\n",
              "      <td>0</td>\n",
              "      <td>1000</td>\n",
              "      <td>...</td>\n",
              "      <td>0</td>\n",
              "      <td>0</td>\n",
              "      <td>1</td>\n",
              "      <td>0</td>\n",
              "      <td>1</td>\n",
              "      <td>0</td>\n",
              "      <td>0</td>\n",
              "      <td>0</td>\n",
              "      <td>1</td>\n",
              "      <td>0</td>\n",
              "    </tr>\n",
              "    <tr>\n",
              "      <th>2</th>\n",
              "      <td>90000</td>\n",
              "      <td>34</td>\n",
              "      <td>29239</td>\n",
              "      <td>14027</td>\n",
              "      <td>13559</td>\n",
              "      <td>14331</td>\n",
              "      <td>14948</td>\n",
              "      <td>15549</td>\n",
              "      <td>1518</td>\n",
              "      <td>1500</td>\n",
              "      <td>...</td>\n",
              "      <td>0</td>\n",
              "      <td>0</td>\n",
              "      <td>1</td>\n",
              "      <td>0</td>\n",
              "      <td>1</td>\n",
              "      <td>0</td>\n",
              "      <td>0</td>\n",
              "      <td>0</td>\n",
              "      <td>1</td>\n",
              "      <td>0</td>\n",
              "    </tr>\n",
              "    <tr>\n",
              "      <th>3</th>\n",
              "      <td>50000</td>\n",
              "      <td>37</td>\n",
              "      <td>46990</td>\n",
              "      <td>48233</td>\n",
              "      <td>49291</td>\n",
              "      <td>28314</td>\n",
              "      <td>28959</td>\n",
              "      <td>29547</td>\n",
              "      <td>2000</td>\n",
              "      <td>2019</td>\n",
              "      <td>...</td>\n",
              "      <td>0</td>\n",
              "      <td>0</td>\n",
              "      <td>1</td>\n",
              "      <td>0</td>\n",
              "      <td>1</td>\n",
              "      <td>0</td>\n",
              "      <td>0</td>\n",
              "      <td>1</td>\n",
              "      <td>0</td>\n",
              "      <td>0</td>\n",
              "    </tr>\n",
              "    <tr>\n",
              "      <th>4</th>\n",
              "      <td>50000</td>\n",
              "      <td>57</td>\n",
              "      <td>8617</td>\n",
              "      <td>5670</td>\n",
              "      <td>35835</td>\n",
              "      <td>20940</td>\n",
              "      <td>19146</td>\n",
              "      <td>19131</td>\n",
              "      <td>2000</td>\n",
              "      <td>36681</td>\n",
              "      <td>...</td>\n",
              "      <td>0</td>\n",
              "      <td>1</td>\n",
              "      <td>0</td>\n",
              "      <td>0</td>\n",
              "      <td>1</td>\n",
              "      <td>0</td>\n",
              "      <td>0</td>\n",
              "      <td>1</td>\n",
              "      <td>0</td>\n",
              "      <td>0</td>\n",
              "    </tr>\n",
              "  </tbody>\n",
              "</table>\n",
              "<p>5 rows × 88 columns</p>\n",
              "</div>\n",
              "    <div class=\"colab-df-buttons\">\n",
              "\n",
              "  <div class=\"colab-df-container\">\n",
              "    <button class=\"colab-df-convert\" onclick=\"convertToInteractive('df-fc556b38-b54a-4f17-8d92-14163706ac34')\"\n",
              "            title=\"Convert this dataframe to an interactive table.\"\n",
              "            style=\"display:none;\">\n",
              "\n",
              "  <svg xmlns=\"http://www.w3.org/2000/svg\" height=\"24px\" viewBox=\"0 -960 960 960\">\n",
              "    <path d=\"M120-120v-720h720v720H120Zm60-500h600v-160H180v160Zm220 220h160v-160H400v160Zm0 220h160v-160H400v160ZM180-400h160v-160H180v160Zm440 0h160v-160H620v160ZM180-180h160v-160H180v160Zm440 0h160v-160H620v160Z\"/>\n",
              "  </svg>\n",
              "    </button>\n",
              "\n",
              "  <style>\n",
              "    .colab-df-container {\n",
              "      display:flex;\n",
              "      gap: 12px;\n",
              "    }\n",
              "\n",
              "    .colab-df-convert {\n",
              "      background-color: #E8F0FE;\n",
              "      border: none;\n",
              "      border-radius: 50%;\n",
              "      cursor: pointer;\n",
              "      display: none;\n",
              "      fill: #1967D2;\n",
              "      height: 32px;\n",
              "      padding: 0 0 0 0;\n",
              "      width: 32px;\n",
              "    }\n",
              "\n",
              "    .colab-df-convert:hover {\n",
              "      background-color: #E2EBFA;\n",
              "      box-shadow: 0px 1px 2px rgba(60, 64, 67, 0.3), 0px 1px 3px 1px rgba(60, 64, 67, 0.15);\n",
              "      fill: #174EA6;\n",
              "    }\n",
              "\n",
              "    .colab-df-buttons div {\n",
              "      margin-bottom: 4px;\n",
              "    }\n",
              "\n",
              "    [theme=dark] .colab-df-convert {\n",
              "      background-color: #3B4455;\n",
              "      fill: #D2E3FC;\n",
              "    }\n",
              "\n",
              "    [theme=dark] .colab-df-convert:hover {\n",
              "      background-color: #434B5C;\n",
              "      box-shadow: 0px 1px 3px 1px rgba(0, 0, 0, 0.15);\n",
              "      filter: drop-shadow(0px 1px 2px rgba(0, 0, 0, 0.3));\n",
              "      fill: #FFFFFF;\n",
              "    }\n",
              "  </style>\n",
              "\n",
              "    <script>\n",
              "      const buttonEl =\n",
              "        document.querySelector('#df-fc556b38-b54a-4f17-8d92-14163706ac34 button.colab-df-convert');\n",
              "      buttonEl.style.display =\n",
              "        google.colab.kernel.accessAllowed ? 'block' : 'none';\n",
              "\n",
              "      async function convertToInteractive(key) {\n",
              "        const element = document.querySelector('#df-fc556b38-b54a-4f17-8d92-14163706ac34');\n",
              "        const dataTable =\n",
              "          await google.colab.kernel.invokeFunction('convertToInteractive',\n",
              "                                                    [key], {});\n",
              "        if (!dataTable) return;\n",
              "\n",
              "        const docLinkHtml = 'Like what you see? Visit the ' +\n",
              "          '<a target=\"_blank\" href=https://colab.research.google.com/notebooks/data_table.ipynb>data table notebook</a>'\n",
              "          + ' to learn more about interactive tables.';\n",
              "        element.innerHTML = '';\n",
              "        dataTable['output_type'] = 'display_data';\n",
              "        await google.colab.output.renderOutput(dataTable, element);\n",
              "        const docLink = document.createElement('div');\n",
              "        docLink.innerHTML = docLinkHtml;\n",
              "        element.appendChild(docLink);\n",
              "      }\n",
              "    </script>\n",
              "  </div>\n",
              "\n",
              "\n",
              "<div id=\"df-d871d355-a3b3-4ae2-b3e5-d15fbb27b5fd\">\n",
              "  <button class=\"colab-df-quickchart\" onclick=\"quickchart('df-d871d355-a3b3-4ae2-b3e5-d15fbb27b5fd')\"\n",
              "            title=\"Suggest charts.\"\n",
              "            style=\"display:none;\">\n",
              "\n",
              "<svg xmlns=\"http://www.w3.org/2000/svg\" height=\"24px\"viewBox=\"0 0 24 24\"\n",
              "     width=\"24px\">\n",
              "    <g>\n",
              "        <path d=\"M19 3H5c-1.1 0-2 .9-2 2v14c0 1.1.9 2 2 2h14c1.1 0 2-.9 2-2V5c0-1.1-.9-2-2-2zM9 17H7v-7h2v7zm4 0h-2V7h2v10zm4 0h-2v-4h2v4z\"/>\n",
              "    </g>\n",
              "</svg>\n",
              "  </button>\n",
              "\n",
              "<style>\n",
              "  .colab-df-quickchart {\n",
              "      --bg-color: #E8F0FE;\n",
              "      --fill-color: #1967D2;\n",
              "      --hover-bg-color: #E2EBFA;\n",
              "      --hover-fill-color: #174EA6;\n",
              "      --disabled-fill-color: #AAA;\n",
              "      --disabled-bg-color: #DDD;\n",
              "  }\n",
              "\n",
              "  [theme=dark] .colab-df-quickchart {\n",
              "      --bg-color: #3B4455;\n",
              "      --fill-color: #D2E3FC;\n",
              "      --hover-bg-color: #434B5C;\n",
              "      --hover-fill-color: #FFFFFF;\n",
              "      --disabled-bg-color: #3B4455;\n",
              "      --disabled-fill-color: #666;\n",
              "  }\n",
              "\n",
              "  .colab-df-quickchart {\n",
              "    background-color: var(--bg-color);\n",
              "    border: none;\n",
              "    border-radius: 50%;\n",
              "    cursor: pointer;\n",
              "    display: none;\n",
              "    fill: var(--fill-color);\n",
              "    height: 32px;\n",
              "    padding: 0;\n",
              "    width: 32px;\n",
              "  }\n",
              "\n",
              "  .colab-df-quickchart:hover {\n",
              "    background-color: var(--hover-bg-color);\n",
              "    box-shadow: 0 1px 2px rgba(60, 64, 67, 0.3), 0 1px 3px 1px rgba(60, 64, 67, 0.15);\n",
              "    fill: var(--button-hover-fill-color);\n",
              "  }\n",
              "\n",
              "  .colab-df-quickchart-complete:disabled,\n",
              "  .colab-df-quickchart-complete:disabled:hover {\n",
              "    background-color: var(--disabled-bg-color);\n",
              "    fill: var(--disabled-fill-color);\n",
              "    box-shadow: none;\n",
              "  }\n",
              "\n",
              "  .colab-df-spinner {\n",
              "    border: 2px solid var(--fill-color);\n",
              "    border-color: transparent;\n",
              "    border-bottom-color: var(--fill-color);\n",
              "    animation:\n",
              "      spin 1s steps(1) infinite;\n",
              "  }\n",
              "\n",
              "  @keyframes spin {\n",
              "    0% {\n",
              "      border-color: transparent;\n",
              "      border-bottom-color: var(--fill-color);\n",
              "      border-left-color: var(--fill-color);\n",
              "    }\n",
              "    20% {\n",
              "      border-color: transparent;\n",
              "      border-left-color: var(--fill-color);\n",
              "      border-top-color: var(--fill-color);\n",
              "    }\n",
              "    30% {\n",
              "      border-color: transparent;\n",
              "      border-left-color: var(--fill-color);\n",
              "      border-top-color: var(--fill-color);\n",
              "      border-right-color: var(--fill-color);\n",
              "    }\n",
              "    40% {\n",
              "      border-color: transparent;\n",
              "      border-right-color: var(--fill-color);\n",
              "      border-top-color: var(--fill-color);\n",
              "    }\n",
              "    60% {\n",
              "      border-color: transparent;\n",
              "      border-right-color: var(--fill-color);\n",
              "    }\n",
              "    80% {\n",
              "      border-color: transparent;\n",
              "      border-right-color: var(--fill-color);\n",
              "      border-bottom-color: var(--fill-color);\n",
              "    }\n",
              "    90% {\n",
              "      border-color: transparent;\n",
              "      border-bottom-color: var(--fill-color);\n",
              "    }\n",
              "  }\n",
              "</style>\n",
              "\n",
              "  <script>\n",
              "    async function quickchart(key) {\n",
              "      const quickchartButtonEl =\n",
              "        document.querySelector('#' + key + ' button');\n",
              "      quickchartButtonEl.disabled = true;  // To prevent multiple clicks.\n",
              "      quickchartButtonEl.classList.add('colab-df-spinner');\n",
              "      try {\n",
              "        const charts = await google.colab.kernel.invokeFunction(\n",
              "            'suggestCharts', [key], {});\n",
              "      } catch (error) {\n",
              "        console.error('Error during call to suggestCharts:', error);\n",
              "      }\n",
              "      quickchartButtonEl.classList.remove('colab-df-spinner');\n",
              "      quickchartButtonEl.classList.add('colab-df-quickchart-complete');\n",
              "    }\n",
              "    (() => {\n",
              "      let quickchartButtonEl =\n",
              "        document.querySelector('#df-d871d355-a3b3-4ae2-b3e5-d15fbb27b5fd button');\n",
              "      quickchartButtonEl.style.display =\n",
              "        google.colab.kernel.accessAllowed ? 'block' : 'none';\n",
              "    })();\n",
              "  </script>\n",
              "</div>\n",
              "    </div>\n",
              "  </div>\n"
            ]
          },
          "metadata": {},
          "execution_count": 1386
        }
      ]
    },
    {
      "cell_type": "code",
      "source": [
        "Y = credit['default']\n",
        "X = credit.drop(columns=['default'])"
      ],
      "metadata": {
        "id": "N9ezMkOJx4Ms"
      },
      "execution_count": 1387,
      "outputs": []
    },
    {
      "cell_type": "markdown",
      "source": [
        "## **Train Test Split**"
      ],
      "metadata": {
        "id": "uIOid7LYyI2g"
      }
    },
    {
      "cell_type": "code",
      "source": [
        "from sklearn.model_selection import train_test_split"
      ],
      "metadata": {
        "id": "EM0Oci8Syd4n"
      },
      "execution_count": 1388,
      "outputs": []
    },
    {
      "cell_type": "code",
      "source": [
        "#Split Train Test\n",
        "X_train, X_test, Y_train, Y_test = train_test_split(X, Y, test_size=0.2, random_state=123)"
      ],
      "metadata": {
        "id": "6l6E-sjXe5OW"
      },
      "execution_count": 1389,
      "outputs": []
    },
    {
      "cell_type": "markdown",
      "source": [
        "## **Oversample minority**"
      ],
      "metadata": {
        "id": "rVIO9RIcyMsH"
      }
    },
    {
      "cell_type": "code",
      "source": [
        "from imblearn.over_sampling import SMOTE"
      ],
      "metadata": {
        "id": "U1er0PF9gJ_6"
      },
      "execution_count": 1390,
      "outputs": []
    },
    {
      "cell_type": "code",
      "source": [
        "Y_train.value_counts()"
      ],
      "metadata": {
        "colab": {
          "base_uri": "https://localhost:8080/"
        },
        "id": "T5dHqfDwgRAp",
        "outputId": "34ef7024-0447-4faf-f61f-96dcbd68780d"
      },
      "execution_count": 1391,
      "outputs": [
        {
          "output_type": "execute_result",
          "data": {
            "text/plain": [
              "0    18668\n",
              "1     5332\n",
              "Name: default, dtype: int64"
            ]
          },
          "metadata": {},
          "execution_count": 1391
        }
      ]
    },
    {
      "cell_type": "markdown",
      "source": [
        "'0' is the majority class, while '1' is the minority class. We want to remove this class imbalance."
      ],
      "metadata": {
        "id": "qyYUnt86Oe2g"
      }
    },
    {
      "cell_type": "code",
      "source": [
        "#Oversample minority\n",
        "X_train, Y_train = SMOTE().fit_resample(X_train, Y_train)"
      ],
      "metadata": {
        "id": "B1T7fyNBgSic"
      },
      "execution_count": 1392,
      "outputs": []
    },
    {
      "cell_type": "markdown",
      "source": [
        " SMOTE is an oversampling technique that generates synthetic samples from the minority class instead of duplicating them. It does this by selecting two or more similar data points from the minority class and randomly perturbing their features to create a new synthetic data point. SMOTE is supposed to avoid overfitting problems, but it does risk adding noise to the model."
      ],
      "metadata": {
        "id": "9lp5UD_fN9jx"
      }
    },
    {
      "cell_type": "code",
      "source": [
        "Y_train.value_counts()"
      ],
      "metadata": {
        "colab": {
          "base_uri": "https://localhost:8080/"
        },
        "id": "a4pe0wXjJ2zi",
        "outputId": "d48954f8-8007-46e0-c4a7-a7d4859a7303"
      },
      "execution_count": 1393,
      "outputs": [
        {
          "output_type": "execute_result",
          "data": {
            "text/plain": [
              "0    18668\n",
              "1    18668\n",
              "Name: default, dtype: int64"
            ]
          },
          "metadata": {},
          "execution_count": 1393
        }
      ]
    },
    {
      "cell_type": "markdown",
      "source": [
        "## **Normalization**"
      ],
      "metadata": {
        "id": "k7aDparuyPgK"
      }
    },
    {
      "cell_type": "code",
      "source": [
        "#Normalize BILL_AMTX & PAY_AMTX Columns\n",
        "from scipy import stats\n",
        "normalize = [\"BILL_AMT\" + str(i) for i in range(1, 7)]\n",
        "normalize2 = [\"PAY_AMT\" + str(i) for i in range(1, 7)]\n",
        "\n",
        "for col in normalize + normalize2:\n",
        "    X_train[col] = stats.zscore(X_train[col])\n",
        "    X_test[col] = stats.zscore(X_test[col])"
      ],
      "metadata": {
        "id": "jEu60j-oguVN"
      },
      "execution_count": 1394,
      "outputs": []
    },
    {
      "cell_type": "markdown",
      "source": [
        "Normalization is done by transforming the values of each feature to a range of 0 to 1, or to a standard normal distribution with a mean of 0 and a standard deviation of 1. This is done to facilitate data analysis and modeling, and to reduce the impact of different scales on the accuracy of machine learning models."
      ],
      "metadata": {
        "id": "wiBubF9JOtPS"
      }
    },
    {
      "cell_type": "markdown",
      "source": [
        "## **Model Training**"
      ],
      "metadata": {
        "id": "vyLp9onHyTs4"
      }
    },
    {
      "cell_type": "code",
      "source": [
        "from sklearn import linear_model, tree, ensemble, neural_network\n",
        "from sklearn.metrics import confusion_matrix\n",
        "from sklearn.metrics import ConfusionMatrixDisplay\n",
        "import matplotlib.pyplot as plt\n",
        "from sklearn.metrics import classification_report"
      ],
      "metadata": {
        "id": "nRoF3Essg-D5"
      },
      "execution_count": null,
      "outputs": []
    },
    {
      "cell_type": "code",
      "source": [
        "# Logistic Regression\n",
        "model1 = linear_model.LogisticRegression(max_iter=2000, random_state=288)\n",
        "model1.fit(X_train, Y_train)\n",
        "pred1 = model1.predict(X_test)\n",
        "\n",
        "cm1 = confusion_matrix(Y_test, pred1)\n",
        "print(classification_report(Y_test, pred1))\n",
        "print(\"Accuracy is \", (cm1[0,0]+cm1[1,1])/sum(sum(cm1)))"
      ],
      "metadata": {
        "colab": {
          "base_uri": "https://localhost:8080/"
        },
        "id": "3hEeZ_MshEqc",
        "outputId": "22019731-ca8d-4403-aabd-ab6012814038"
      },
      "execution_count": null,
      "outputs": [
        {
          "output_type": "stream",
          "name": "stdout",
          "text": [
            "              precision    recall  f1-score   support\n",
            "\n",
            "           0       0.78      1.00      0.88      4696\n",
            "           1       0.00      0.00      0.00      1304\n",
            "\n",
            "    accuracy                           0.78      6000\n",
            "   macro avg       0.39      0.50      0.44      6000\n",
            "weighted avg       0.61      0.78      0.69      6000\n",
            "\n",
            "Accuracy is  0.7826666666666666\n"
          ]
        },
        {
          "output_type": "stream",
          "name": "stderr",
          "text": [
            "/usr/local/lib/python3.10/dist-packages/sklearn/metrics/_classification.py:1344: UndefinedMetricWarning: Precision and F-score are ill-defined and being set to 0.0 in labels with no predicted samples. Use `zero_division` parameter to control this behavior.\n",
            "  _warn_prf(average, modifier, msg_start, len(result))\n",
            "/usr/local/lib/python3.10/dist-packages/sklearn/metrics/_classification.py:1344: UndefinedMetricWarning: Precision and F-score are ill-defined and being set to 0.0 in labels with no predicted samples. Use `zero_division` parameter to control this behavior.\n",
            "  _warn_prf(average, modifier, msg_start, len(result))\n",
            "/usr/local/lib/python3.10/dist-packages/sklearn/metrics/_classification.py:1344: UndefinedMetricWarning: Precision and F-score are ill-defined and being set to 0.0 in labels with no predicted samples. Use `zero_division` parameter to control this behavior.\n",
            "  _warn_prf(average, modifier, msg_start, len(result))\n"
          ]
        }
      ]
    },
    {
      "cell_type": "code",
      "source": [
        "matrix1 = plt.subplot()\n",
        "\n",
        "sns.heatmap(cm1, annot=True, fmt='g')\n",
        "matrix1.set_xlabel('Predicted labels')\n",
        "matrix1.set_ylabel('True labels')\n",
        "matrix1.set_title('Logistic Regression Confusion Matrix')"
      ],
      "metadata": {
        "colab": {
          "base_uri": "https://localhost:8080/",
          "height": 489
        },
        "id": "Y-NcZAPVE_co",
        "outputId": "3aa502c0-5503-4103-d024-b966bfcc6d75"
      },
      "execution_count": null,
      "outputs": [
        {
          "output_type": "execute_result",
          "data": {
            "text/plain": [
              "Text(0.5, 1.0, 'Logistic Regression Confusion Matrix')"
            ]
          },
          "metadata": {},
          "execution_count": 1048
        },
        {
          "output_type": "display_data",
          "data": {
            "text/plain": [
              "<Figure size 640x480 with 2 Axes>"
            ],
            "image/png": "[encoded data removed]"
          },
          "metadata": {}
        }
      ]
    },
    {
      "cell_type": "code",
      "source": [
        "# Decision Tree\n",
        "model2 = tree.DecisionTreeClassifier(random_state=288)\n",
        "model2.fit(X_train, Y_train)\n",
        "pred2 = model2.predict(X_test)\n",
        "\n",
        "cm2 = confusion_matrix(Y_test, pred2)\n",
        "print(classification_report(Y_test, pred2))\n",
        "print(\"Accuracy is \", (cm2[0,0]+cm2[1,1])/sum(sum(cm2)))"
      ],
      "metadata": {
        "colab": {
          "base_uri": "https://localhost:8080/"
        },
        "id": "x2QnqNqAxidg",
        "outputId": "cc138d8a-ee4a-459c-9f51-a715a1bcf7fe"
      },
      "execution_count": null,
      "outputs": [
        {
          "output_type": "stream",
          "name": "stdout",
          "text": [
            "              precision    recall  f1-score   support\n",
            "\n",
            "           0       0.83      0.75      0.79      4696\n",
            "           1       0.33      0.45      0.38      1304\n",
            "\n",
            "    accuracy                           0.68      6000\n",
            "   macro avg       0.58      0.60      0.58      6000\n",
            "weighted avg       0.72      0.68      0.70      6000\n",
            "\n",
            "Accuracy is  0.6835\n"
          ]
        }
      ]
    },
    {
      "cell_type": "code",
      "source": [
        "matrix2 = plt.subplot()\n",
        "\n",
        "sns.heatmap(cm2, annot=True, fmt='g')\n",
        "matrix2.set_xlabel('Predicted labels')\n",
        "matrix2.set_ylabel('True labels')\n",
        "matrix2.set_title('Decision Tree Confusion Matrix')"
      ],
      "metadata": {
        "colab": {
          "base_uri": "https://localhost:8080/",
          "height": 489
        },
        "id": "NNT8DXY0K4dR",
        "outputId": "5db31ba3-5f2a-424f-801d-67dc862bf262"
      },
      "execution_count": null,
      "outputs": [
        {
          "output_type": "execute_result",
          "data": {
            "text/plain": [
              "Text(0.5, 1.0, 'Decision Tree Confusion Matrix')"
            ]
          },
          "metadata": {},
          "execution_count": 1050
        },
        {
          "output_type": "display_data",
          "data": {
            "text/plain": [
              "<Figure size 640x480 with 2 Axes>"
            ],
            "image/png": "[encoded data removed]"
          },
          "metadata": {}
        }
      ]
    },
    {
      "cell_type": "code",
      "source": [
        "# Random Forest\n",
        "model3 = ensemble.RandomForestClassifier(random_state=288)\n",
        "model3.fit(X_train, Y_train)\n",
        "pred3 = model3.predict(X_test)\n",
        "\n",
        "cm3 = confusion_matrix(Y_test, pred3)\n",
        "print(classification_report(Y_test, pred3))\n",
        "print(\"Accuracy is \", (cm3[0,0]+cm3[1,1])/sum(sum(cm3)))"
      ],
      "metadata": {
        "colab": {
          "base_uri": "https://localhost:8080/"
        },
        "id": "xzPG4wleyekq",
        "outputId": "9dcf3e9c-7c53-4ac2-c9bc-5d284fdf0822"
      },
      "execution_count": null,
      "outputs": [
        {
          "output_type": "stream",
          "name": "stdout",
          "text": [
            "              precision    recall  f1-score   support\n",
            "\n",
            "           0       0.85      0.93      0.89      4696\n",
            "           1       0.61      0.41      0.49      1304\n",
            "\n",
            "    accuracy                           0.81      6000\n",
            "   macro avg       0.73      0.67      0.69      6000\n",
            "weighted avg       0.80      0.81      0.80      6000\n",
            "\n",
            "Accuracy is  0.8138333333333333\n"
          ]
        }
      ]
    },
    {
      "cell_type": "code",
      "source": [
        "matrix3 = plt.subplot()\n",
        "\n",
        "sns.heatmap(cm2, annot=True, fmt='g')\n",
        "matrix3.set_xlabel('Predicted labels')\n",
        "matrix3.set_ylabel('True labels')\n",
        "matrix3.set_title('Random Forest Confusion Matrix')"
      ],
      "metadata": {
        "colab": {
          "base_uri": "https://localhost:8080/",
          "height": 489
        },
        "id": "QDckAby0LkTP",
        "outputId": "f9f94e05-ccc3-4de0-fd8a-bff6f80358a3"
      },
      "execution_count": null,
      "outputs": [
        {
          "output_type": "execute_result",
          "data": {
            "text/plain": [
              "Text(0.5, 1.0, 'Random Forest Confusion Matrix')"
            ]
          },
          "metadata": {},
          "execution_count": 1052
        },
        {
          "output_type": "display_data",
          "data": {
            "text/plain": [
              "<Figure size 640x480 with 2 Axes>"
            ],
            "image/png": "[encoded data removed]"
          },
          "metadata": {}
        }
      ]
    },
    {
      "cell_type": "code",
      "source": [
        "# Gradient Boosting\n",
        "model4 = ensemble.GradientBoostingClassifier(random_state=288)\n",
        "model4.fit(X_train, Y_train)\n",
        "pred4 = model4.predict(X_test)\n",
        "\n",
        "cm4 = confusion_matrix(Y_test, pred4)\n",
        "print(classification_report(Y_test, pred4))\n",
        "print(\"Accuracy is \", (cm4[0,0]+cm4[1,1])/sum(sum(cm4)))"
      ],
      "metadata": {
        "colab": {
          "base_uri": "https://localhost:8080/"
        },
        "id": "ybeWvnhuyrP9",
        "outputId": "7b90eb90-36e7-4664-aa7a-d06a6ebc2010"
      },
      "execution_count": null,
      "outputs": [
        {
          "output_type": "stream",
          "name": "stdout",
          "text": [
            "              precision    recall  f1-score   support\n",
            "\n",
            "           0       0.85      0.94      0.89      4696\n",
            "           1       0.65      0.41      0.50      1304\n",
            "\n",
            "    accuracy                           0.82      6000\n",
            "   macro avg       0.75      0.67      0.70      6000\n",
            "weighted avg       0.81      0.82      0.81      6000\n",
            "\n",
            "Accuracy is  0.8236666666666667\n"
          ]
        }
      ]
    },
    {
      "cell_type": "code",
      "source": [
        "matrix4 = plt.subplot()\n",
        "\n",
        "sns.heatmap(cm2, annot=True, fmt='g')\n",
        "matrix4.set_xlabel('Predicted labels')\n",
        "matrix4.set_ylabel('True labels')\n",
        "matrix4.set_title('Gradient Boosting Confusion Matrix')"
      ],
      "metadata": {
        "colab": {
          "base_uri": "https://localhost:8080/",
          "height": 489
        },
        "id": "wG7Fqk1PLvL5",
        "outputId": "6d9fa2cc-23a4-4c42-8d86-c398e987f079"
      },
      "execution_count": null,
      "outputs": [
        {
          "output_type": "execute_result",
          "data": {
            "text/plain": [
              "Text(0.5, 1.0, 'XGBoost Confusion Matrix')"
            ]
          },
          "metadata": {},
          "execution_count": 1054
        },
        {
          "output_type": "display_data",
          "data": {
            "text/plain": [
              "<Figure size 640x480 with 2 Axes>"
            ],
            "image/png": "[encoded data removed]"
          },
          "metadata": {}
        }
      ]
    },
    {
      "cell_type": "code",
      "source": [
        "# Neural Network (sklearn)\n",
        "model5 = neural_network.MLPClassifier(random_state=288)\n",
        "model5.fit(X_train, Y_train)\n",
        "pred5 = model5.predict(X_test)\n",
        "\n",
        "cm5 = confusion_matrix(Y_test, pred5)\n",
        "print(classification_report(Y_test, pred5))\n",
        "print(\"Accuracy is \", (cm5[0,0]+cm5[1,1])/sum(sum(cm5)))"
      ],
      "metadata": {
        "colab": {
          "base_uri": "https://localhost:8080/"
        },
        "id": "27wpqdj3yw-y",
        "outputId": "fea0c8c5-f55a-48d1-93a5-4e999c854a2b"
      },
      "execution_count": null,
      "outputs": [
        {
          "output_type": "stream",
          "name": "stdout",
          "text": [
            "              precision    recall  f1-score   support\n",
            "\n",
            "           0       0.88      0.60      0.71      4696\n",
            "           1       0.33      0.71      0.45      1304\n",
            "\n",
            "    accuracy                           0.62      6000\n",
            "   macro avg       0.60      0.65      0.58      6000\n",
            "weighted avg       0.76      0.62      0.65      6000\n",
            "\n",
            "Accuracy is  0.6213333333333333\n"
          ]
        }
      ]
    },
    {
      "cell_type": "code",
      "source": [
        "matrix5 = plt.subplot()\n",
        "\n",
        "sns.heatmap(cm5, annot=True, fmt='g')\n",
        "matrix5.set_xlabel('Predicted labels')\n",
        "matrix5.set_ylabel('True labels')\n",
        "matrix5.set_title('Gradient Boosting Confusion Matrix')"
      ],
      "metadata": {
        "colab": {
          "base_uri": "https://localhost:8080/",
          "height": 489
        },
        "id": "bPswazmmlBLo",
        "outputId": "fac169fd-8c41-4460-8f9e-8a5e02a0f923"
      },
      "execution_count": null,
      "outputs": [
        {
          "output_type": "execute_result",
          "data": {
            "text/plain": [
              "Text(0.5, 1.0, 'XGBoost Confusion Matrix')"
            ]
          },
          "metadata": {},
          "execution_count": 1056
        },
        {
          "output_type": "display_data",
          "data": {
            "text/plain": [
              "<Figure size 640x480 with 2 Axes>"
            ],
            "image/png": "[encoded data removed]"
          },
          "metadata": {}
        }
      ]
    },
    {
      "cell_type": "code",
      "source": [
        "# To compute f1 score for Keras Neural Network\n",
        "\n",
        "from keras import backend as K\n",
        "\n",
        "def f1_score(y_true, y_pred):\n",
        "    true_positives = K.sum(K.round(K.clip(y_true * y_pred, 0, 1)))\n",
        "    possible_positives = K.sum(K.round(K.clip(y_true, 0, 1)))\n",
        "    predicted_positives = K.sum(K.round(K.clip(y_pred, 0, 1)))\n",
        "    precision = true_positives / (predicted_positives + K.epsilon())\n",
        "    recall = true_positives / (possible_positives + K.epsilon())\n",
        "    f1_val = 2*(precision*recall)/(precision+recall+K.epsilon())\n",
        "    return f1_val"
      ],
      "metadata": {
        "id": "CC1xE_VRE4QG"
      },
      "execution_count": 1396,
      "outputs": []
    },
    {
      "cell_type": "code",
      "source": [
        "# Neural Network (Keras)\n",
        "\n",
        "from sklearn.preprocessing import StandardScaler\n",
        "from keras.models import Sequential\n",
        "from keras.layers import Dense\n",
        "\n",
        "# Standardize the features (optional but recommended)\n",
        "scaler = StandardScaler()\n",
        "X_train = scaler.fit_transform(X_train)\n",
        "X_test = scaler.transform(X_test)\n",
        "\n",
        "model6 = Sequential()\n",
        "\n",
        "# Add the input layer with the correct number of neurons\n",
        "input_neurons = X_train.shape[1]\n",
        "model6.add(Dense(units=input_neurons, input_dim=input_neurons, activation='relu'))\n",
        "\n",
        "# Add the first hidden layer (similar neurons to the input layer)\n",
        "model6.add(Dense(units=input_neurons, activation='relu'))\n",
        "\n",
        "# Add the output layer\n",
        "model6.add(Dense(units=1, activation='sigmoid'))\n",
        "\n",
        "# Compile the model\n",
        "model6.compile(optimizer='adam', loss='binary_crossentropy', metrics=['accuracy', f1_score])\n",
        "\n",
        "# Print a summary of the model's architecture\n",
        "model6.summary()\n",
        "\n",
        "# Train the model\n",
        "trained = model6.fit(X_train, Y_train, epochs=10, batch_size=32)"
      ],
      "metadata": {
        "id": "MCkFTBO5k0ym",
        "colab": {
          "base_uri": "https://localhost:8080/"
        },
        "outputId": "1f1ccce2-ccfe-431e-f9b6-8e34e5451044"
      },
      "execution_count": 1398,
      "outputs": [
        {
          "output_type": "stream",
          "name": "stdout",
          "text": [
            "Model: \"sequential_704\"\n",
            "_________________________________________________________________\n",
            " Layer (type)                Output Shape              Param #   \n",
            "=================================================================\n",
            " dense_1685 (Dense)          (None, 87)                7656      \n",
            "                                                                 \n",
            " dense_1686 (Dense)          (None, 87)                7656      \n",
            "                                                                 \n",
            " dense_1687 (Dense)          (None, 1)                 88        \n",
            "                                                                 \n",
            "=================================================================\n",
            "Total params: 15400 (60.16 KB)\n",
            "Trainable params: 15400 (60.16 KB)\n",
            "Non-trainable params: 0 (0.00 Byte)\n",
            "_________________________________________________________________\n",
            "Epoch 1/10\n",
            "1167/1167 [==============================] - 4s 3ms/step - loss: 0.3342 - accuracy: 0.8639 - f1_score: 0.8494\n",
            "Epoch 2/10\n",
            "1167/1167 [==============================] - 3s 2ms/step - loss: 0.2942 - accuracy: 0.8786 - f1_score: 0.8664\n",
            "Epoch 3/10\n",
            "1167/1167 [==============================] - 2s 1ms/step - loss: 0.2876 - accuracy: 0.8802 - f1_score: 0.8671\n",
            "Epoch 4/10\n",
            "1167/1167 [==============================] - 2s 2ms/step - loss: 0.2841 - accuracy: 0.8814 - f1_score: 0.8686\n",
            "Epoch 5/10\n",
            "1167/1167 [==============================] - 2s 2ms/step - loss: 0.2818 - accuracy: 0.8823 - f1_score: 0.8710\n",
            "Epoch 6/10\n",
            "1167/1167 [==============================] - 2s 1ms/step - loss: 0.2799 - accuracy: 0.8832 - f1_score: 0.8713\n",
            "Epoch 7/10\n",
            "1167/1167 [==============================] - 2s 2ms/step - loss: 0.2779 - accuracy: 0.8837 - f1_score: 0.8718\n",
            "Epoch 8/10\n",
            "1167/1167 [==============================] - 2s 1ms/step - loss: 0.2753 - accuracy: 0.8843 - f1_score: 0.8721\n",
            "Epoch 9/10\n",
            "1167/1167 [==============================] - 2s 1ms/step - loss: 0.2740 - accuracy: 0.8852 - f1_score: 0.8732\n",
            "Epoch 10/10\n",
            "1167/1167 [==============================] - 2s 1ms/step - loss: 0.2727 - accuracy: 0.8851 - f1_score: 0.8731\n"
          ]
        }
      ]
    },
    {
      "cell_type": "code",
      "source": [
        "trained.history['accuracy'][-1]"
      ],
      "metadata": {
        "colab": {
          "base_uri": "https://localhost:8080/"
        },
        "id": "JUnt0jniEkVo",
        "outputId": "ec406011-db9d-485a-8c36-2d254ea87f0a"
      },
      "execution_count": 1399,
      "outputs": [
        {
          "output_type": "execute_result",
          "data": {
            "text/plain": [
              "0.8850706815719604"
            ]
          },
          "metadata": {},
          "execution_count": 1399
        }
      ]
    },
    {
      "cell_type": "code",
      "source": [
        "trained.history['f1_score'][-1]"
      ],
      "metadata": {
        "colab": {
          "base_uri": "https://localhost:8080/"
        },
        "id": "8hCHVVSqFMRJ",
        "outputId": "26af4a92-c7ee-470c-b944-af271e1c7e65"
      },
      "execution_count": 1400,
      "outputs": [
        {
          "output_type": "execute_result",
          "data": {
            "text/plain": [
              "0.873108446598053"
            ]
          },
          "metadata": {},
          "execution_count": 1400
        }
      ]
    },
    {
      "cell_type": "markdown",
      "source": [
        "To build the neural network model, I used Keras and created two hidden layers and a single output layer with 1 neuron. I used the ReLU activation function for the hidden layers and the sigmoid activation function for the output layer.\n",
        "\n",
        "Additionally, I used the Adam optimizer to optimize the parameters of the model."
      ],
      "metadata": {
        "id": "377GbVIDnoM3"
      }
    },
    {
      "cell_type": "markdown",
      "source": [
        "## **Hyperparameter Tuning**"
      ],
      "metadata": {
        "id": "jYtxS8BRToAX"
      }
    },
    {
      "cell_type": "markdown",
      "source": [
        "We want to finetune the parameters of the various models to get the best set of parameters. We can do this by using GridSearchCV, which gives a parameter space and tests our models on every point of this space. The parameters of the machine learning model are tuned using a technique called cross-validated grid search, which involves trying different values for the parameters and evaluating the performance of the model on a held-out dataset.\n",
        "\n",
        "The parameter space we want to test for each model is defined in param_grid.\n",
        "\n",
        "cv is the number of folds to use for cross validation.\n",
        "\n",
        "The scoring mode will be based on f1-score.\n",
        "\n",
        "Refit is set to true so that the model will be using the best found parameters on the whole dataset."
      ],
      "metadata": {
        "id": "eNup7l_1WtmN"
      }
    },
    {
      "cell_type": "code",
      "source": [
        "from sklearn.metrics import accuracy_score, make_scorer, f1_score\n",
        "from sklearn.model_selection import GridSearchCV"
      ],
      "metadata": {
        "id": "IqwGDzBNO3xt"
      },
      "execution_count": null,
      "outputs": []
    },
    {
      "cell_type": "code",
      "source": [
        "# Get default parameter settings of Logistic Regression\n",
        "model1.get_params()"
      ],
      "metadata": {
        "colab": {
          "base_uri": "https://localhost:8080/"
        },
        "id": "ve7VBFj15XFC",
        "outputId": "e7206469-af5e-4016-f68a-5ba1df5ec649"
      },
      "execution_count": 1404,
      "outputs": [
        {
          "output_type": "execute_result",
          "data": {
            "text/plain": [
              "{'C': 1.0,\n",
              " 'class_weight': None,\n",
              " 'dual': False,\n",
              " 'fit_intercept': True,\n",
              " 'intercept_scaling': 1,\n",
              " 'l1_ratio': None,\n",
              " 'max_iter': 2000,\n",
              " 'multi_class': 'auto',\n",
              " 'n_jobs': None,\n",
              " 'penalty': 'l2',\n",
              " 'random_state': 288,\n",
              " 'solver': 'lbfgs',\n",
              " 'tol': 0.0001,\n",
              " 'verbose': 0,\n",
              " 'warm_start': False}"
            ]
          },
          "metadata": {},
          "execution_count": 1404
        }
      ]
    },
    {
      "cell_type": "code",
      "source": [
        "# Logistic Regression with hyperparameter tuning based on accuracy\n",
        "param_grid = {'penalty': ['none', 'l2'],\n",
        "              'C': [0.1, 1, 10, 100]}\n",
        "acc_scorer = make_scorer(accuracy_score)\n",
        "grid_logreg = GridSearchCV(linear_model.LogisticRegression(max_iter=2000), param_grid, cv = 5, scoring= acc_scorer, refit=True)\n",
        "%time grid_logreg = grid_logreg.fit(X_train, Y_train)\n",
        "print(grid_logreg.best_estimator_)\n",
        "print(grid_logreg.best_score_)"
      ],
      "metadata": {
        "colab": {
          "base_uri": "https://localhost:8080/"
        },
        "outputId": "4f862aac-7085-49a7-bbbe-a4d32860a2ab",
        "id": "e8cYHFMl7i87"
      },
      "execution_count": 1410,
      "outputs": [
        {
          "output_type": "stream",
          "name": "stderr",
          "text": [
            "/usr/local/lib/python3.10/dist-packages/sklearn/linear_model/_logistic.py:1173: FutureWarning: `penalty='none'`has been deprecated in 1.2 and will be removed in 1.4. To keep the past behaviour, set `penalty=None`.\n",
            "  warnings.warn(\n",
            "/usr/local/lib/python3.10/dist-packages/sklearn/linear_model/_logistic.py:1181: UserWarning: Setting penalty=None will ignore the C and l1_ratio parameters\n",
            "  warnings.warn(\n",
            "/usr/local/lib/python3.10/dist-packages/sklearn/linear_model/_logistic.py:1173: FutureWarning: `penalty='none'`has been deprecated in 1.2 and will be removed in 1.4. To keep the past behaviour, set `penalty=None`.\n",
            "  warnings.warn(\n",
            "/usr/local/lib/python3.10/dist-packages/sklearn/linear_model/_logistic.py:1181: UserWarning: Setting penalty=None will ignore the C and l1_ratio parameters\n",
            "  warnings.warn(\n",
            "/usr/local/lib/python3.10/dist-packages/sklearn/linear_model/_logistic.py:1173: FutureWarning: `penalty='none'`has been deprecated in 1.2 and will be removed in 1.4. To keep the past behaviour, set `penalty=None`.\n",
            "  warnings.warn(\n",
            "/usr/local/lib/python3.10/dist-packages/sklearn/linear_model/_logistic.py:1181: UserWarning: Setting penalty=None will ignore the C and l1_ratio parameters\n",
            "  warnings.warn(\n",
            "/usr/local/lib/python3.10/dist-packages/sklearn/linear_model/_logistic.py:1173: FutureWarning: `penalty='none'`has been deprecated in 1.2 and will be removed in 1.4. To keep the past behaviour, set `penalty=None`.\n",
            "  warnings.warn(\n",
            "/usr/local/lib/python3.10/dist-packages/sklearn/linear_model/_logistic.py:1181: UserWarning: Setting penalty=None will ignore the C and l1_ratio parameters\n",
            "  warnings.warn(\n",
            "/usr/local/lib/python3.10/dist-packages/sklearn/linear_model/_logistic.py:1173: FutureWarning: `penalty='none'`has been deprecated in 1.2 and will be removed in 1.4. To keep the past behaviour, set `penalty=None`.\n",
            "  warnings.warn(\n",
            "/usr/local/lib/python3.10/dist-packages/sklearn/linear_model/_logistic.py:1181: UserWarning: Setting penalty=None will ignore the C and l1_ratio parameters\n",
            "  warnings.warn(\n",
            "/usr/local/lib/python3.10/dist-packages/sklearn/linear_model/_logistic.py:1173: FutureWarning: `penalty='none'`has been deprecated in 1.2 and will be removed in 1.4. To keep the past behaviour, set `penalty=None`.\n",
            "  warnings.warn(\n",
            "/usr/local/lib/python3.10/dist-packages/sklearn/linear_model/_logistic.py:1173: FutureWarning: `penalty='none'`has been deprecated in 1.2 and will be removed in 1.4. To keep the past behaviour, set `penalty=None`.\n",
            "  warnings.warn(\n",
            "/usr/local/lib/python3.10/dist-packages/sklearn/linear_model/_logistic.py:1173: FutureWarning: `penalty='none'`has been deprecated in 1.2 and will be removed in 1.4. To keep the past behaviour, set `penalty=None`.\n",
            "  warnings.warn(\n",
            "/usr/local/lib/python3.10/dist-packages/sklearn/linear_model/_logistic.py:1173: FutureWarning: `penalty='none'`has been deprecated in 1.2 and will be removed in 1.4. To keep the past behaviour, set `penalty=None`.\n",
            "  warnings.warn(\n",
            "/usr/local/lib/python3.10/dist-packages/sklearn/linear_model/_logistic.py:1173: FutureWarning: `penalty='none'`has been deprecated in 1.2 and will be removed in 1.4. To keep the past behaviour, set `penalty=None`.\n",
            "  warnings.warn(\n",
            "/usr/local/lib/python3.10/dist-packages/sklearn/linear_model/_logistic.py:1173: FutureWarning: `penalty='none'`has been deprecated in 1.2 and will be removed in 1.4. To keep the past behaviour, set `penalty=None`.\n",
            "  warnings.warn(\n",
            "/usr/local/lib/python3.10/dist-packages/sklearn/linear_model/_logistic.py:1181: UserWarning: Setting penalty=None will ignore the C and l1_ratio parameters\n",
            "  warnings.warn(\n",
            "/usr/local/lib/python3.10/dist-packages/sklearn/linear_model/_logistic.py:1173: FutureWarning: `penalty='none'`has been deprecated in 1.2 and will be removed in 1.4. To keep the past behaviour, set `penalty=None`.\n",
            "  warnings.warn(\n",
            "/usr/local/lib/python3.10/dist-packages/sklearn/linear_model/_logistic.py:1181: UserWarning: Setting penalty=None will ignore the C and l1_ratio parameters\n",
            "  warnings.warn(\n",
            "/usr/local/lib/python3.10/dist-packages/sklearn/linear_model/_logistic.py:1173: FutureWarning: `penalty='none'`has been deprecated in 1.2 and will be removed in 1.4. To keep the past behaviour, set `penalty=None`.\n",
            "  warnings.warn(\n",
            "/usr/local/lib/python3.10/dist-packages/sklearn/linear_model/_logistic.py:1181: UserWarning: Setting penalty=None will ignore the C and l1_ratio parameters\n",
            "  warnings.warn(\n",
            "/usr/local/lib/python3.10/dist-packages/sklearn/linear_model/_logistic.py:1173: FutureWarning: `penalty='none'`has been deprecated in 1.2 and will be removed in 1.4. To keep the past behaviour, set `penalty=None`.\n",
            "  warnings.warn(\n",
            "/usr/local/lib/python3.10/dist-packages/sklearn/linear_model/_logistic.py:1181: UserWarning: Setting penalty=None will ignore the C and l1_ratio parameters\n",
            "  warnings.warn(\n",
            "/usr/local/lib/python3.10/dist-packages/sklearn/linear_model/_logistic.py:1173: FutureWarning: `penalty='none'`has been deprecated in 1.2 and will be removed in 1.4. To keep the past behaviour, set `penalty=None`.\n",
            "  warnings.warn(\n",
            "/usr/local/lib/python3.10/dist-packages/sklearn/linear_model/_logistic.py:1181: UserWarning: Setting penalty=None will ignore the C and l1_ratio parameters\n",
            "  warnings.warn(\n",
            "/usr/local/lib/python3.10/dist-packages/sklearn/linear_model/_logistic.py:1173: FutureWarning: `penalty='none'`has been deprecated in 1.2 and will be removed in 1.4. To keep the past behaviour, set `penalty=None`.\n",
            "  warnings.warn(\n",
            "/usr/local/lib/python3.10/dist-packages/sklearn/linear_model/_logistic.py:1181: UserWarning: Setting penalty=None will ignore the C and l1_ratio parameters\n",
            "  warnings.warn(\n",
            "/usr/local/lib/python3.10/dist-packages/sklearn/linear_model/_logistic.py:1173: FutureWarning: `penalty='none'`has been deprecated in 1.2 and will be removed in 1.4. To keep the past behaviour, set `penalty=None`.\n",
            "  warnings.warn(\n",
            "/usr/local/lib/python3.10/dist-packages/sklearn/linear_model/_logistic.py:1181: UserWarning: Setting penalty=None will ignore the C and l1_ratio parameters\n",
            "  warnings.warn(\n",
            "/usr/local/lib/python3.10/dist-packages/sklearn/linear_model/_logistic.py:1173: FutureWarning: `penalty='none'`has been deprecated in 1.2 and will be removed in 1.4. To keep the past behaviour, set `penalty=None`.\n",
            "  warnings.warn(\n",
            "/usr/local/lib/python3.10/dist-packages/sklearn/linear_model/_logistic.py:1181: UserWarning: Setting penalty=None will ignore the C and l1_ratio parameters\n",
            "  warnings.warn(\n",
            "/usr/local/lib/python3.10/dist-packages/sklearn/linear_model/_logistic.py:1173: FutureWarning: `penalty='none'`has been deprecated in 1.2 and will be removed in 1.4. To keep the past behaviour, set `penalty=None`.\n",
            "  warnings.warn(\n",
            "/usr/local/lib/python3.10/dist-packages/sklearn/linear_model/_logistic.py:1181: UserWarning: Setting penalty=None will ignore the C and l1_ratio parameters\n",
            "  warnings.warn(\n",
            "/usr/local/lib/python3.10/dist-packages/sklearn/linear_model/_logistic.py:1173: FutureWarning: `penalty='none'`has been deprecated in 1.2 and will be removed in 1.4. To keep the past behaviour, set `penalty=None`.\n",
            "  warnings.warn(\n",
            "/usr/local/lib/python3.10/dist-packages/sklearn/linear_model/_logistic.py:1181: UserWarning: Setting penalty=None will ignore the C and l1_ratio parameters\n",
            "  warnings.warn(\n"
          ]
        },
        {
          "output_type": "stream",
          "name": "stdout",
          "text": [
            "CPU times: user 1min 10s, sys: 19.9 s, total: 1min 30s\n",
            "Wall time: 58.4 s\n",
            "LogisticRegression(C=1, max_iter=2000)\n",
            "0.8628208789267313\n"
          ]
        }
      ]
    },
    {
      "cell_type": "code",
      "source": [
        "grid_logreg = linear_model.LogisticRegression(C=1, max_iter=2000)\n",
        "grid_logreg.fit(X_train, Y_train)\n",
        "pred_grid_logreg = grid_logreg.predict(X_test)\n",
        "\n",
        "cm_grid_logreg = confusion_matrix(Y_test, pred_grid_logreg)\n",
        "print(classification_report(Y_test, pred_grid_logreg))\n",
        "print(\"Accuracy is \", (cm_grid_logreg[0,0]+cm_grid_logreg[1,1])/sum(sum(cm_grid_logreg)))"
      ],
      "metadata": {
        "colab": {
          "base_uri": "https://localhost:8080/"
        },
        "id": "qBlut1HcLso1",
        "outputId": "1625c77c-cd21-45ac-f45e-e9e57ed62a19"
      },
      "execution_count": 1463,
      "outputs": [
        {
          "output_type": "stream",
          "name": "stdout",
          "text": [
            "              precision    recall  f1-score   support\n",
            "\n",
            "           0       0.84      0.95      0.89      4696\n",
            "           1       0.65      0.37      0.47      1304\n",
            "\n",
            "    accuracy                           0.82      6000\n",
            "   macro avg       0.75      0.66      0.68      6000\n",
            "weighted avg       0.80      0.82      0.80      6000\n",
            "\n",
            "Accuracy is  0.82\n"
          ]
        }
      ]
    },
    {
      "cell_type": "code",
      "source": [
        "# Get default parameter settings of Decision Tree\n",
        "model2.get_params()"
      ],
      "metadata": {
        "colab": {
          "base_uri": "https://localhost:8080/"
        },
        "id": "Tp_KGcSdWCOQ",
        "outputId": "b7f133c8-5de4-48e6-a5a6-be37837c4821"
      },
      "execution_count": null,
      "outputs": [
        {
          "output_type": "execute_result",
          "data": {
            "text/plain": [
              "{'ccp_alpha': 0.0,\n",
              " 'class_weight': None,\n",
              " 'criterion': 'gini',\n",
              " 'max_depth': None,\n",
              " 'max_features': None,\n",
              " 'max_leaf_nodes': None,\n",
              " 'min_impurity_decrease': 0.0,\n",
              " 'min_samples_leaf': 1,\n",
              " 'min_samples_split': 2,\n",
              " 'min_weight_fraction_leaf': 0.0,\n",
              " 'random_state': 288,\n",
              " 'splitter': 'best'}"
            ]
          },
          "metadata": {},
          "execution_count": 355
        }
      ]
    },
    {
      "cell_type": "code",
      "source": [
        "# Decision Tree with hyperparameter tuning based on accuracy\n",
        "param_grid = {'max_depth': np.arange(3, 10),\n",
        "             'criterion' : ['gini','entropy'],\n",
        "             'max_leaf_nodes': [5,10,20,100],\n",
        "             'min_samples_split': [2, 5, 10, 20]}\n",
        "acc_scorer = make_scorer(accuracy_score)\n",
        "grid_tree = GridSearchCV(tree.DecisionTreeClassifier(), param_grid, cv = 5, scoring= acc_scorer, refit=True)\n",
        "%time grid_tree = grid_tree.fit(X_train, Y_train)\n",
        "print(grid_tree.best_estimator_)\n",
        "print(grid_tree.best_score_)"
      ],
      "metadata": {
        "colab": {
          "base_uri": "https://localhost:8080/"
        },
        "id": "UiGgDMGEkADX",
        "outputId": "ca9653c8-c25c-4c2b-da40-3d52f9c2686b"
      },
      "execution_count": null,
      "outputs": [
        {
          "output_type": "stream",
          "name": "stdout",
          "text": [
            "CPU times: user 5min 2s, sys: 276 ms, total: 5min 3s\n",
            "Wall time: 5min 7s\n",
            "DecisionTreeClassifier(criterion='entropy', max_depth=9, max_leaf_nodes=100,\n",
            "                       min_samples_split=20)\n",
            "0.8357669908999347\n"
          ]
        }
      ]
    },
    {
      "cell_type": "code",
      "source": [
        "grid_tree = tree.DecisionTreeClassifier(criterion='entropy', max_depth=9, max_leaf_nodes=100, min_samples_split=20)\n",
        "grid_tree.fit(X_train, Y_train)\n",
        "pred_grid_tree = grid_tree.predict(X_test)\n",
        "\n",
        "cm_grid_tree = confusion_matrix(Y_test, pred_grid_tree)\n",
        "print(classification_report(Y_test, pred_grid_tree))\n",
        "print(\"Accuracy is \", (cm_grid_tree[0,0]+cm_grid_tree[1,1])/sum(sum(cm_grid_tree)))"
      ],
      "metadata": {
        "colab": {
          "base_uri": "https://localhost:8080/"
        },
        "id": "bNOd8FjOMVC1",
        "outputId": "577a00f4-69bd-4dc6-ee68-f5456e4f8bda"
      },
      "execution_count": 1465,
      "outputs": [
        {
          "output_type": "stream",
          "name": "stdout",
          "text": [
            "              precision    recall  f1-score   support\n",
            "\n",
            "           0       0.85      0.91      0.88      4696\n",
            "           1       0.57      0.44      0.50      1304\n",
            "\n",
            "    accuracy                           0.81      6000\n",
            "   macro avg       0.71      0.67      0.69      6000\n",
            "weighted avg       0.79      0.81      0.80      6000\n",
            "\n",
            "Accuracy is  0.807\n"
          ]
        }
      ]
    },
    {
      "cell_type": "markdown",
      "source": [
        "The parameters that have been chosen to optimise the model are:\n",
        "\n",
        "1. **max_depth**: Maximum amount of steps the tree should do\n",
        "2. **criterion**: Function to measure the quality of a split. Can be gini (measures how often a randomly chosen element would be incorrectly identified) or entropy (measures the information contained by each attribute, thus we estimate the reduction in entropy due to sorting on the attribute)\n",
        "3. **max_leaf_nodes**: Maximum number of nodes\n",
        "4. **min_sample_split**: Minimum number of data points to stop further splitting, useful to avoid overfitting\n",
        "\n"
      ],
      "metadata": {
        "id": "muwvznmwYmF1"
      }
    },
    {
      "cell_type": "code",
      "source": [
        "# Get default parameter settings of Random Forest\n",
        "model3.get_params()"
      ],
      "metadata": {
        "colab": {
          "base_uri": "https://localhost:8080/"
        },
        "id": "BYJEP1o53M30",
        "outputId": "9999848c-0ef0-49d6-f6f2-9b1aba8d7435"
      },
      "execution_count": null,
      "outputs": [
        {
          "output_type": "execute_result",
          "data": {
            "text/plain": [
              "{'bootstrap': True,\n",
              " 'ccp_alpha': 0.0,\n",
              " 'class_weight': None,\n",
              " 'criterion': 'gini',\n",
              " 'max_depth': None,\n",
              " 'max_features': 'sqrt',\n",
              " 'max_leaf_nodes': None,\n",
              " 'max_samples': None,\n",
              " 'min_impurity_decrease': 0.0,\n",
              " 'min_samples_leaf': 1,\n",
              " 'min_samples_split': 2,\n",
              " 'min_weight_fraction_leaf': 0.0,\n",
              " 'n_estimators': 100,\n",
              " 'n_jobs': None,\n",
              " 'oob_score': False,\n",
              " 'random_state': 288,\n",
              " 'verbose': 0,\n",
              " 'warm_start': False}"
            ]
          },
          "metadata": {},
          "execution_count": 287
        }
      ]
    },
    {
      "cell_type": "code",
      "source": [
        "# Random Forest with hyperparameter tuning based on accuracy\n",
        "param_grid = {'n_estimators': [200, 400, 600, 1000],\n",
        "              'criterion': ['entropy', 'gini'], 'n_jobs' : [-1]}\n",
        "acc_scorer = make_scorer(accuracy_score)\n",
        "grid_forest = GridSearchCV(ensemble.RandomForestClassifier(), param_grid, scoring = acc_scorer, cv=5, refit=True)\n",
        "%time grid_forest = grid_forest.fit(X_train, Y_train)\n",
        "print(grid_forest.best_estimator_)\n",
        "print(grid_forest.best_score_)"
      ],
      "metadata": {
        "colab": {
          "base_uri": "https://localhost:8080/"
        },
        "id": "76nETtVrmsI3",
        "outputId": "614e4b1b-13ee-4df6-f618-2358f7100c0f"
      },
      "execution_count": null,
      "outputs": [
        {
          "output_type": "stream",
          "name": "stdout",
          "text": [
            "CPU times: user 27min 58s, sys: 9.49 s, total: 28min 7s\n",
            "Wall time: 16min 31s\n",
            "RandomForestClassifier(criterion='entropy', n_estimators=600, n_jobs=-1)\n",
            "0.8705864310375041\n"
          ]
        }
      ]
    },
    {
      "cell_type": "code",
      "source": [
        "grid_forest = ensemble.RandomForestClassifier(criterion='entropy', n_estimators=600, n_jobs=-1)\n",
        "grid_forest.fit(X_train, Y_train)\n",
        "pred_grid_forest = grid_forest.predict(X_test)\n",
        "\n",
        "cm_grid_forest = confusion_matrix(Y_test, pred_grid_forest)\n",
        "print(classification_report(Y_test, pred_grid_forest))\n",
        "print(\"Accuracy is \", (cm_grid_forest[0,0]+cm_grid_forest[1,1])/sum(sum(cm_grid_forest)))"
      ],
      "metadata": {
        "colab": {
          "base_uri": "https://localhost:8080/"
        },
        "id": "ZIidpRo9M1jN",
        "outputId": "87251e2c-a777-420a-a43d-6b9076628cca"
      },
      "execution_count": 1466,
      "outputs": [
        {
          "output_type": "stream",
          "name": "stdout",
          "text": [
            "              precision    recall  f1-score   support\n",
            "\n",
            "           0       0.85      0.93      0.89      4696\n",
            "           1       0.62      0.43      0.50      1304\n",
            "\n",
            "    accuracy                           0.82      6000\n",
            "   macro avg       0.74      0.68      0.70      6000\n",
            "weighted avg       0.80      0.82      0.81      6000\n",
            "\n",
            "Accuracy is  0.818\n"
          ]
        }
      ]
    },
    {
      "cell_type": "markdown",
      "source": [
        "The parameters that have been chosen to optimise the model are:\n",
        "\n",
        "1. **n_estimators**: Number of trees in the forest\n",
        "2. **criterion**: Function the measure the quality of a split. Can be gini (measures how often a randomly chosen element would be incorrectly identified) or entropy (measures the information contained by each attribute, thus we estimate the reduction in entropy due to sorting on the attribute)\n",
        "3. **n_jobs**: Set to -1 to use maximum amount of computational power"
      ],
      "metadata": {
        "id": "IETfB0DbZVKS"
      }
    },
    {
      "cell_type": "code",
      "source": [
        "# Get default parameter settings of Gradient Boosting\n",
        "model4.get_params()"
      ],
      "metadata": {
        "colab": {
          "base_uri": "https://localhost:8080/"
        },
        "id": "xGDeg8e7WI_Q",
        "outputId": "d3eb57de-554d-4dad-c78b-d9dce3709ebe"
      },
      "execution_count": null,
      "outputs": [
        {
          "output_type": "execute_result",
          "data": {
            "text/plain": [
              "{'ccp_alpha': 0.0,\n",
              " 'criterion': 'friedman_mse',\n",
              " 'init': None,\n",
              " 'learning_rate': 0.1,\n",
              " 'loss': 'log_loss',\n",
              " 'max_depth': 3,\n",
              " 'max_features': None,\n",
              " 'max_leaf_nodes': None,\n",
              " 'min_impurity_decrease': 0.0,\n",
              " 'min_samples_leaf': 1,\n",
              " 'min_samples_split': 2,\n",
              " 'min_weight_fraction_leaf': 0.0,\n",
              " 'n_estimators': 100,\n",
              " 'n_iter_no_change': None,\n",
              " 'random_state': 288,\n",
              " 'subsample': 1.0,\n",
              " 'tol': 0.0001,\n",
              " 'validation_fraction': 0.1,\n",
              " 'verbose': 0,\n",
              " 'warm_start': False}"
            ]
          },
          "metadata": {},
          "execution_count": 356
        }
      ]
    },
    {
      "cell_type": "code",
      "source": [
        "# Gradient Boosting with hyperparameter tuning based on accuracy\n",
        "param_grid = {'n_estimators': [200,300],\n",
        "              'learning_rate' : [0.5, 0.75, 1.0]}\n",
        "acc_scorer = make_scorer(accuracy_score)\n",
        "grid_gradient = GridSearchCV(ensemble.GradientBoostingClassifier(), param_grid, scoring = acc_scorer, cv=5, refit=True)\n",
        "%time grid_gradient = grid_gradient.fit(X_train, Y_train)\n",
        "print(grid_gradient.best_estimator_)\n",
        "print(grid_gradient.best_score_)"
      ],
      "metadata": {
        "colab": {
          "base_uri": "https://localhost:8080/"
        },
        "id": "-1HdbstPtMfP",
        "outputId": "5a092bda-553a-47f5-d8f8-a5fd323a9450"
      },
      "execution_count": null,
      "outputs": [
        {
          "output_type": "stream",
          "name": "stdout",
          "text": [
            "CPU times: user 18min 52s, sys: 920 ms, total: 18min 53s\n",
            "Wall time: 18min 57s\n",
            "GradientBoostingClassifier(learning_rate=0.5, n_estimators=200)\n",
            "0.8554279967367935\n"
          ]
        }
      ]
    },
    {
      "cell_type": "code",
      "source": [
        "grid_gradient = ensemble.GradientBoostingClassifier(learning_rate=0.5, n_estimators=200, random_state=288)\n",
        "grid_gradient.fit(X_train, Y_train)\n",
        "pred_grid_gradient = grid_gradient.predict(X_test)\n",
        "\n",
        "cm_grid_gradient = confusion_matrix(Y_test, pred_grid_gradient)\n",
        "print(classification_report(Y_test, pred_grid_gradient))\n",
        "print(\"Accuracy is \", (cm_grid_gradient[0,0]+cm_grid_gradient[1,1])/sum(sum(cm_grid_gradient)))"
      ],
      "metadata": {
        "colab": {
          "base_uri": "https://localhost:8080/"
        },
        "id": "FgosIs75NUut",
        "outputId": "7afb8566-da90-43c2-ce86-e86035a176c6"
      },
      "execution_count": 1468,
      "outputs": [
        {
          "output_type": "stream",
          "name": "stdout",
          "text": [
            "              precision    recall  f1-score   support\n",
            "\n",
            "           0       0.85      0.92      0.88      4696\n",
            "           1       0.58      0.40      0.47      1304\n",
            "\n",
            "    accuracy                           0.81      6000\n",
            "   macro avg       0.71      0.66      0.68      6000\n",
            "weighted avg       0.79      0.81      0.79      6000\n",
            "\n",
            "Accuracy is  0.8071666666666667\n"
          ]
        }
      ]
    },
    {
      "cell_type": "markdown",
      "source": [
        "The parameters that have been chosen to optimise the model are:\n",
        "\n",
        "1. **n_estimators**: Number of trees in the forest\n",
        "2. **learning_rate**: To apply a weighting factor for the corrections by new trees when added to the model to slow down the learning in the gradient boosting model"
      ],
      "metadata": {
        "id": "LRiLg6ZuaY3y"
      }
    },
    {
      "cell_type": "code",
      "source": [
        "# Neural Network (Keras)\n",
        "\n",
        "# Standardize the features (optional but recommended)\n",
        "scaler = StandardScaler()\n",
        "X_train = scaler.fit_transform(X_train)\n",
        "X_test = scaler.transform(X_test)\n",
        "\n",
        "nn = Sequential()\n",
        "\n",
        "# Add the input layer with the correct number of neurons\n",
        "input_neurons = X_train.shape[1]\n",
        "nn.add(Dense(units=input_neurons, input_dim=input_neurons, activation='relu'))\n",
        "\n",
        "# Add the first hidden layer (similar neurons to the input layer)\n",
        "nn.add(Dense(units=input_neurons, activation='relu'))\n",
        "\n",
        "# Add the output layer\n",
        "nn.add(Dense(units=1, activation='sigmoid'))\n",
        "\n",
        "# Compile the model\n",
        "nn.compile(optimizer='adam', loss='binary_crossentropy', metrics=['accuracy', f1_score])\n",
        "\n",
        "# Print a summary of the model's architecture\n",
        "nn.summary()\n",
        "\n",
        "# Train the model\n",
        "trained = nn.fit(X_train, Y_train, epochs=150, batch_size=16)"
      ],
      "metadata": {
        "colab": {
          "base_uri": "https://localhost:8080/"
        },
        "id": "rpaY4BBay5_4",
        "outputId": "d48aecb7-71e4-445f-f4ae-db9c635102cc"
      },
      "execution_count": 1401,
      "outputs": [
        {
          "output_type": "stream",
          "name": "stdout",
          "text": [
            "Model: \"sequential_705\"\n",
            "_________________________________________________________________\n",
            " Layer (type)                Output Shape              Param #   \n",
            "=================================================================\n",
            " dense_1688 (Dense)          (None, 87)                7656      \n",
            "                                                                 \n",
            " dense_1689 (Dense)          (None, 87)                7656      \n",
            "                                                                 \n",
            " dense_1690 (Dense)          (None, 1)                 88        \n",
            "                                                                 \n",
            "=================================================================\n",
            "Total params: 15400 (60.16 KB)\n",
            "Trainable params: 15400 (60.16 KB)\n",
            "Non-trainable params: 0 (0.00 Byte)\n",
            "_________________________________________________________________\n",
            "Epoch 1/150\n",
            "2334/2334 [==============================] - 4s 1ms/step - loss: 0.3278 - accuracy: 0.8677 - f1_score: 0.8512\n",
            "Epoch 2/150\n",
            "2334/2334 [==============================] - 3s 1ms/step - loss: 0.2934 - accuracy: 0.8787 - f1_score: 0.8610\n",
            "Epoch 3/150\n",
            "2334/2334 [==============================] - 3s 1ms/step - loss: 0.2890 - accuracy: 0.8789 - f1_score: 0.8622\n",
            "Epoch 4/150\n",
            "2334/2334 [==============================] - 4s 2ms/step - loss: 0.2856 - accuracy: 0.8805 - f1_score: 0.8627\n",
            "Epoch 5/150\n",
            "2334/2334 [==============================] - 3s 1ms/step - loss: 0.2843 - accuracy: 0.8812 - f1_score: 0.8645\n",
            "Epoch 6/150\n",
            "2334/2334 [==============================] - 3s 1ms/step - loss: 0.2814 - accuracy: 0.8821 - f1_score: 0.8652\n",
            "Epoch 7/150\n",
            "2334/2334 [==============================] - 3s 1ms/step - loss: 0.2801 - accuracy: 0.8828 - f1_score: 0.8655\n",
            "Epoch 8/150\n",
            "2334/2334 [==============================] - 4s 2ms/step - loss: 0.2788 - accuracy: 0.8833 - f1_score: 0.8671\n",
            "Epoch 9/150\n",
            "2334/2334 [==============================] - 3s 1ms/step - loss: 0.2768 - accuracy: 0.8835 - f1_score: 0.8651\n",
            "Epoch 10/150\n",
            "2334/2334 [==============================] - 3s 1ms/step - loss: 0.2757 - accuracy: 0.8856 - f1_score: 0.8694\n",
            "Epoch 11/150\n",
            "2334/2334 [==============================] - 4s 2ms/step - loss: 0.2737 - accuracy: 0.8854 - f1_score: 0.8690\n",
            "Epoch 12/150\n",
            "2334/2334 [==============================] - 4s 2ms/step - loss: 0.2717 - accuracy: 0.8867 - f1_score: 0.8705\n",
            "Epoch 13/150\n",
            "2334/2334 [==============================] - 3s 1ms/step - loss: 0.2704 - accuracy: 0.8869 - f1_score: 0.8711\n",
            "Epoch 14/150\n",
            "2334/2334 [==============================] - 3s 1ms/step - loss: 0.2684 - accuracy: 0.8871 - f1_score: 0.8707\n",
            "Epoch 15/150\n",
            "2334/2334 [==============================] - 3s 1ms/step - loss: 0.2666 - accuracy: 0.8886 - f1_score: 0.8723\n",
            "Epoch 16/150\n",
            "2334/2334 [==============================] - 3s 1ms/step - loss: 0.2642 - accuracy: 0.8892 - f1_score: 0.8739\n",
            "Epoch 17/150\n",
            "2334/2334 [==============================] - 3s 1ms/step - loss: 0.2617 - accuracy: 0.8907 - f1_score: 0.8748\n",
            "Epoch 18/150\n",
            "2334/2334 [==============================] - 3s 1ms/step - loss: 0.2605 - accuracy: 0.8900 - f1_score: 0.8755\n",
            "Epoch 19/150\n",
            "2334/2334 [==============================] - 3s 1ms/step - loss: 0.2586 - accuracy: 0.8914 - f1_score: 0.8763\n",
            "Epoch 20/150\n",
            "2334/2334 [==============================] - 3s 1ms/step - loss: 0.2558 - accuracy: 0.8919 - f1_score: 0.8767\n",
            "Epoch 21/150\n",
            "2334/2334 [==============================] - 3s 1ms/step - loss: 0.2531 - accuracy: 0.8942 - f1_score: 0.8795\n",
            "Epoch 22/150\n",
            "2334/2334 [==============================] - 3s 1ms/step - loss: 0.2515 - accuracy: 0.8942 - f1_score: 0.8803\n",
            "Epoch 23/150\n",
            "2334/2334 [==============================] - 3s 1ms/step - loss: 0.2490 - accuracy: 0.8957 - f1_score: 0.8810\n",
            "Epoch 24/150\n",
            "2334/2334 [==============================] - 3s 1ms/step - loss: 0.2469 - accuracy: 0.8957 - f1_score: 0.8815\n",
            "Epoch 25/150\n",
            "2334/2334 [==============================] - 3s 1ms/step - loss: 0.2460 - accuracy: 0.8963 - f1_score: 0.8830\n",
            "Epoch 26/150\n",
            "2334/2334 [==============================] - 3s 1ms/step - loss: 0.2435 - accuracy: 0.8969 - f1_score: 0.8843\n",
            "Epoch 27/150\n",
            "2334/2334 [==============================] - 3s 1ms/step - loss: 0.2412 - accuracy: 0.8983 - f1_score: 0.8847\n",
            "Epoch 28/150\n",
            "2334/2334 [==============================] - 3s 1ms/step - loss: 0.2392 - accuracy: 0.8979 - f1_score: 0.8854\n",
            "Epoch 29/150\n",
            "2334/2334 [==============================] - 3s 1ms/step - loss: 0.2376 - accuracy: 0.8997 - f1_score: 0.8874\n",
            "Epoch 30/150\n",
            "2334/2334 [==============================] - 3s 1ms/step - loss: 0.2360 - accuracy: 0.9007 - f1_score: 0.8881\n",
            "Epoch 31/150\n",
            "2334/2334 [==============================] - 3s 1ms/step - loss: 0.2335 - accuracy: 0.9013 - f1_score: 0.8889\n",
            "Epoch 32/150\n",
            "2334/2334 [==============================] - 3s 1ms/step - loss: 0.2324 - accuracy: 0.9015 - f1_score: 0.8889\n",
            "Epoch 33/150\n",
            "2334/2334 [==============================] - 3s 1ms/step - loss: 0.2294 - accuracy: 0.9023 - f1_score: 0.8914\n",
            "Epoch 34/150\n",
            "2334/2334 [==============================] - 3s 1ms/step - loss: 0.2283 - accuracy: 0.9046 - f1_score: 0.8930\n",
            "Epoch 35/150\n",
            "2334/2334 [==============================] - 3s 1ms/step - loss: 0.2259 - accuracy: 0.9055 - f1_score: 0.8935\n",
            "Epoch 36/150\n",
            "2334/2334 [==============================] - 3s 1ms/step - loss: 0.2257 - accuracy: 0.9068 - f1_score: 0.8948\n",
            "Epoch 37/150\n",
            "2334/2334 [==============================] - 4s 2ms/step - loss: 0.2227 - accuracy: 0.9071 - f1_score: 0.8960\n",
            "Epoch 38/150\n",
            "2334/2334 [==============================] - 3s 1ms/step - loss: 0.2209 - accuracy: 0.9070 - f1_score: 0.8951\n",
            "Epoch 39/150\n",
            "2334/2334 [==============================] - 4s 2ms/step - loss: 0.2190 - accuracy: 0.9083 - f1_score: 0.8977\n",
            "Epoch 40/150\n",
            "2334/2334 [==============================] - 3s 1ms/step - loss: 0.2181 - accuracy: 0.9088 - f1_score: 0.8979\n",
            "Epoch 41/150\n",
            "2334/2334 [==============================] - 3s 1ms/step - loss: 0.2159 - accuracy: 0.9097 - f1_score: 0.8987\n",
            "Epoch 42/150\n",
            "2334/2334 [==============================] - 3s 1ms/step - loss: 0.2139 - accuracy: 0.9095 - f1_score: 0.8981\n",
            "Epoch 43/150\n",
            "2334/2334 [==============================] - 3s 1ms/step - loss: 0.2145 - accuracy: 0.9106 - f1_score: 0.8995\n",
            "Epoch 44/150\n",
            "2334/2334 [==============================] - 3s 1ms/step - loss: 0.2092 - accuracy: 0.9106 - f1_score: 0.8994\n",
            "Epoch 45/150\n",
            "2334/2334 [==============================] - 3s 1ms/step - loss: 0.2090 - accuracy: 0.9118 - f1_score: 0.9022\n",
            "Epoch 46/150\n",
            "2334/2334 [==============================] - 3s 1ms/step - loss: 0.2102 - accuracy: 0.9119 - f1_score: 0.9010\n",
            "Epoch 47/150\n",
            "2334/2334 [==============================] - 3s 1ms/step - loss: 0.2067 - accuracy: 0.9134 - f1_score: 0.9034\n",
            "Epoch 48/150\n",
            "2334/2334 [==============================] - 3s 1ms/step - loss: 0.2056 - accuracy: 0.9136 - f1_score: 0.9033\n",
            "Epoch 49/150\n",
            "2334/2334 [==============================] - 3s 1ms/step - loss: 0.2050 - accuracy: 0.9142 - f1_score: 0.9039\n",
            "Epoch 50/150\n",
            "2334/2334 [==============================] - 3s 1ms/step - loss: 0.2020 - accuracy: 0.9150 - f1_score: 0.9048\n",
            "Epoch 51/150\n",
            "2334/2334 [==============================] - 3s 1ms/step - loss: 0.2026 - accuracy: 0.9153 - f1_score: 0.9053\n",
            "Epoch 52/150\n",
            "2334/2334 [==============================] - 3s 1ms/step - loss: 0.1994 - accuracy: 0.9161 - f1_score: 0.9068\n",
            "Epoch 53/150\n",
            "2334/2334 [==============================] - 3s 1ms/step - loss: 0.1981 - accuracy: 0.9170 - f1_score: 0.9072\n",
            "Epoch 54/150\n",
            "2334/2334 [==============================] - 3s 1ms/step - loss: 0.1974 - accuracy: 0.9184 - f1_score: 0.9079\n",
            "Epoch 55/150\n",
            "2334/2334 [==============================] - 3s 1ms/step - loss: 0.1954 - accuracy: 0.9185 - f1_score: 0.9083\n",
            "Epoch 56/150\n",
            "2334/2334 [==============================] - 3s 1ms/step - loss: 0.1955 - accuracy: 0.9177 - f1_score: 0.9081\n",
            "Epoch 57/150\n",
            "2334/2334 [==============================] - 3s 1ms/step - loss: 0.1946 - accuracy: 0.9178 - f1_score: 0.9076\n",
            "Epoch 58/150\n",
            "2334/2334 [==============================] - 3s 1ms/step - loss: 0.1918 - accuracy: 0.9196 - f1_score: 0.9110\n",
            "Epoch 59/150\n",
            "2334/2334 [==============================] - 3s 1ms/step - loss: 0.1922 - accuracy: 0.9187 - f1_score: 0.9097\n",
            "Epoch 60/150\n",
            "2334/2334 [==============================] - 3s 1ms/step - loss: 0.1924 - accuracy: 0.9186 - f1_score: 0.9086\n",
            "Epoch 61/150\n",
            "2334/2334 [==============================] - 3s 1ms/step - loss: 0.1902 - accuracy: 0.9205 - f1_score: 0.9115\n",
            "Epoch 62/150\n",
            "2334/2334 [==============================] - 3s 1ms/step - loss: 0.1909 - accuracy: 0.9200 - f1_score: 0.9099\n",
            "Epoch 63/150\n",
            "2334/2334 [==============================] - 3s 1ms/step - loss: 0.1885 - accuracy: 0.9215 - f1_score: 0.9132\n",
            "Epoch 64/150\n",
            "2334/2334 [==============================] - 3s 1ms/step - loss: 0.1862 - accuracy: 0.9215 - f1_score: 0.9129\n",
            "Epoch 65/150\n",
            "2334/2334 [==============================] - 3s 1ms/step - loss: 0.1857 - accuracy: 0.9221 - f1_score: 0.9126\n",
            "Epoch 66/150\n",
            "2334/2334 [==============================] - 3s 1ms/step - loss: 0.1855 - accuracy: 0.9234 - f1_score: 0.9153\n",
            "Epoch 67/150\n",
            "2334/2334 [==============================] - 3s 1ms/step - loss: 0.1835 - accuracy: 0.9231 - f1_score: 0.9147\n",
            "Epoch 68/150\n",
            "2334/2334 [==============================] - 4s 2ms/step - loss: 0.1834 - accuracy: 0.9228 - f1_score: 0.9143\n",
            "Epoch 69/150\n",
            "2334/2334 [==============================] - 3s 1ms/step - loss: 0.1808 - accuracy: 0.9245 - f1_score: 0.9163\n",
            "Epoch 70/150\n",
            "2334/2334 [==============================] - 3s 1ms/step - loss: 0.1827 - accuracy: 0.9235 - f1_score: 0.9145\n",
            "Epoch 71/150\n",
            "2334/2334 [==============================] - 3s 1ms/step - loss: 0.1785 - accuracy: 0.9261 - f1_score: 0.9178\n",
            "Epoch 72/150\n",
            "2334/2334 [==============================] - 3s 1ms/step - loss: 0.1809 - accuracy: 0.9231 - f1_score: 0.9144\n",
            "Epoch 73/150\n",
            "2334/2334 [==============================] - 3s 1ms/step - loss: 0.1821 - accuracy: 0.9245 - f1_score: 0.9152\n",
            "Epoch 74/150\n",
            "2334/2334 [==============================] - 3s 1ms/step - loss: 0.1775 - accuracy: 0.9258 - f1_score: 0.9171\n",
            "Epoch 75/150\n",
            "2334/2334 [==============================] - 3s 1ms/step - loss: 0.1782 - accuracy: 0.9260 - f1_score: 0.9183\n",
            "Epoch 76/150\n",
            "2334/2334 [==============================] - 3s 1ms/step - loss: 0.1778 - accuracy: 0.9255 - f1_score: 0.9174\n",
            "Epoch 77/150\n",
            "2334/2334 [==============================] - 3s 1ms/step - loss: 0.1760 - accuracy: 0.9257 - f1_score: 0.9176\n",
            "Epoch 78/150\n",
            "2334/2334 [==============================] - 3s 1ms/step - loss: 0.1803 - accuracy: 0.9268 - f1_score: 0.9183\n",
            "Epoch 79/150\n",
            "2334/2334 [==============================] - 3s 1ms/step - loss: 0.1763 - accuracy: 0.9274 - f1_score: 0.9192\n",
            "Epoch 80/150\n",
            "2334/2334 [==============================] - 3s 1ms/step - loss: 0.1730 - accuracy: 0.9274 - f1_score: 0.9188\n",
            "Epoch 81/150\n",
            "2334/2334 [==============================] - 3s 1ms/step - loss: 0.1739 - accuracy: 0.9272 - f1_score: 0.9187\n",
            "Epoch 82/150\n",
            "2334/2334 [==============================] - 3s 1ms/step - loss: 0.1748 - accuracy: 0.9279 - f1_score: 0.9199\n",
            "Epoch 83/150\n",
            "2334/2334 [==============================] - 3s 1ms/step - loss: 0.1720 - accuracy: 0.9281 - f1_score: 0.9203\n",
            "Epoch 84/150\n",
            "2334/2334 [==============================] - 3s 1ms/step - loss: 0.1698 - accuracy: 0.9280 - f1_score: 0.9205\n",
            "Epoch 85/150\n",
            "2334/2334 [==============================] - 3s 1ms/step - loss: 0.1695 - accuracy: 0.9283 - f1_score: 0.9211\n",
            "Epoch 86/150\n",
            "2334/2334 [==============================] - 3s 1ms/step - loss: 0.1730 - accuracy: 0.9274 - f1_score: 0.9196\n",
            "Epoch 87/150\n",
            "2334/2334 [==============================] - 3s 1ms/step - loss: 0.1705 - accuracy: 0.9296 - f1_score: 0.9222\n",
            "Epoch 88/150\n",
            "2334/2334 [==============================] - 4s 2ms/step - loss: 0.1714 - accuracy: 0.9284 - f1_score: 0.9209\n",
            "Epoch 89/150\n",
            "2334/2334 [==============================] - 3s 1ms/step - loss: 0.1698 - accuracy: 0.9288 - f1_score: 0.9200\n",
            "Epoch 90/150\n",
            "2334/2334 [==============================] - 3s 1ms/step - loss: 0.1666 - accuracy: 0.9300 - f1_score: 0.9221\n",
            "Epoch 91/150\n",
            "2334/2334 [==============================] - 3s 1ms/step - loss: 0.1651 - accuracy: 0.9300 - f1_score: 0.9217\n",
            "Epoch 92/150\n",
            "2334/2334 [==============================] - 4s 2ms/step - loss: 0.1661 - accuracy: 0.9303 - f1_score: 0.9231\n",
            "Epoch 93/150\n",
            "2334/2334 [==============================] - 3s 1ms/step - loss: 0.1656 - accuracy: 0.9294 - f1_score: 0.9227\n",
            "Epoch 94/150\n",
            "2334/2334 [==============================] - 3s 1ms/step - loss: 0.1662 - accuracy: 0.9302 - f1_score: 0.9221\n",
            "Epoch 95/150\n",
            "2334/2334 [==============================] - 3s 1ms/step - loss: 0.1769 - accuracy: 0.9321 - f1_score: 0.9244\n",
            "Epoch 96/150\n",
            "2334/2334 [==============================] - 4s 2ms/step - loss: 0.1634 - accuracy: 0.9319 - f1_score: 0.9237\n",
            "Epoch 97/150\n",
            "2334/2334 [==============================] - 3s 1ms/step - loss: 0.1626 - accuracy: 0.9319 - f1_score: 0.9232\n",
            "Epoch 98/150\n",
            "2334/2334 [==============================] - 3s 1ms/step - loss: 0.1667 - accuracy: 0.9306 - f1_score: 0.9234\n",
            "Epoch 99/150\n",
            "2334/2334 [==============================] - 3s 1ms/step - loss: 0.1617 - accuracy: 0.9324 - f1_score: 0.9242\n",
            "Epoch 100/150\n",
            "2334/2334 [==============================] - 4s 2ms/step - loss: 0.1638 - accuracy: 0.9306 - f1_score: 0.9235\n",
            "Epoch 101/150\n",
            "2334/2334 [==============================] - 3s 1ms/step - loss: 0.1607 - accuracy: 0.9325 - f1_score: 0.9252\n",
            "Epoch 102/150\n",
            "2334/2334 [==============================] - 3s 1ms/step - loss: 0.1659 - accuracy: 0.9327 - f1_score: 0.9260\n",
            "Epoch 103/150\n",
            "2334/2334 [==============================] - 3s 1ms/step - loss: 0.1619 - accuracy: 0.9319 - f1_score: 0.9248\n",
            "Epoch 104/150\n",
            "2334/2334 [==============================] - 3s 1ms/step - loss: 0.1638 - accuracy: 0.9327 - f1_score: 0.9243\n",
            "Epoch 105/150\n",
            "2334/2334 [==============================] - 3s 1ms/step - loss: 0.1610 - accuracy: 0.9324 - f1_score: 0.9248\n",
            "Epoch 106/150\n",
            "2334/2334 [==============================] - 3s 1ms/step - loss: 0.1598 - accuracy: 0.9332 - f1_score: 0.9255\n",
            "Epoch 107/150\n",
            "2334/2334 [==============================] - 4s 2ms/step - loss: 0.1603 - accuracy: 0.9339 - f1_score: 0.9273\n",
            "Epoch 108/150\n",
            "2334/2334 [==============================] - 3s 1ms/step - loss: 0.1599 - accuracy: 0.9331 - f1_score: 0.9256\n",
            "Epoch 109/150\n",
            "2334/2334 [==============================] - 3s 1ms/step - loss: 0.1564 - accuracy: 0.9345 - f1_score: 0.9285\n",
            "Epoch 110/150\n",
            "2334/2334 [==============================] - 3s 1ms/step - loss: 0.1571 - accuracy: 0.9335 - f1_score: 0.9264\n",
            "Epoch 111/150\n",
            "2334/2334 [==============================] - 3s 1ms/step - loss: 0.1611 - accuracy: 0.9337 - f1_score: 0.9263\n",
            "Epoch 112/150\n",
            "2334/2334 [==============================] - 3s 1ms/step - loss: 0.1550 - accuracy: 0.9352 - f1_score: 0.9274\n",
            "Epoch 113/150\n",
            "2334/2334 [==============================] - 3s 1ms/step - loss: 0.1556 - accuracy: 0.9353 - f1_score: 0.9278\n",
            "Epoch 114/150\n",
            "2334/2334 [==============================] - 3s 1ms/step - loss: 0.1571 - accuracy: 0.9340 - f1_score: 0.9269\n",
            "Epoch 115/150\n",
            "2334/2334 [==============================] - 3s 1ms/step - loss: 0.1569 - accuracy: 0.9350 - f1_score: 0.9276\n",
            "Epoch 116/150\n",
            "2334/2334 [==============================] - 3s 1ms/step - loss: 0.1512 - accuracy: 0.9365 - f1_score: 0.9297\n",
            "Epoch 117/150\n",
            "2334/2334 [==============================] - 3s 1ms/step - loss: 0.1554 - accuracy: 0.9344 - f1_score: 0.9277\n",
            "Epoch 118/150\n",
            "2334/2334 [==============================] - 3s 1ms/step - loss: 0.1549 - accuracy: 0.9348 - f1_score: 0.9277\n",
            "Epoch 119/150\n",
            "2334/2334 [==============================] - 3s 1ms/step - loss: 0.1534 - accuracy: 0.9353 - f1_score: 0.9281\n",
            "Epoch 120/150\n",
            "2334/2334 [==============================] - 3s 1ms/step - loss: 0.1504 - accuracy: 0.9371 - f1_score: 0.9315\n",
            "Epoch 121/150\n",
            "2334/2334 [==============================] - 3s 1ms/step - loss: 0.1509 - accuracy: 0.9370 - f1_score: 0.9300\n",
            "Epoch 122/150\n",
            "2334/2334 [==============================] - 3s 1ms/step - loss: 0.1520 - accuracy: 0.9362 - f1_score: 0.9297\n",
            "Epoch 123/150\n",
            "2334/2334 [==============================] - 3s 1ms/step - loss: 0.1544 - accuracy: 0.9358 - f1_score: 0.9286\n",
            "Epoch 124/150\n",
            "2334/2334 [==============================] - 3s 1ms/step - loss: 0.1561 - accuracy: 0.9348 - f1_score: 0.9278\n",
            "Epoch 125/150\n",
            "2334/2334 [==============================] - 3s 1ms/step - loss: 0.1496 - accuracy: 0.9374 - f1_score: 0.9306\n",
            "Epoch 126/150\n",
            "2334/2334 [==============================] - 3s 1ms/step - loss: 0.1508 - accuracy: 0.9361 - f1_score: 0.9294\n",
            "Epoch 127/150\n",
            "2334/2334 [==============================] - 3s 1ms/step - loss: 0.1480 - accuracy: 0.9373 - f1_score: 0.9298\n",
            "Epoch 128/150\n",
            "2334/2334 [==============================] - 3s 1ms/step - loss: 0.1492 - accuracy: 0.9361 - f1_score: 0.9296\n",
            "Epoch 129/150\n",
            "2334/2334 [==============================] - 3s 1ms/step - loss: 0.1502 - accuracy: 0.9368 - f1_score: 0.9301\n",
            "Epoch 130/150\n",
            "2334/2334 [==============================] - 4s 2ms/step - loss: 0.1490 - accuracy: 0.9377 - f1_score: 0.9317\n",
            "Epoch 131/150\n",
            "2334/2334 [==============================] - 4s 2ms/step - loss: 0.1510 - accuracy: 0.9373 - f1_score: 0.9309\n",
            "Epoch 132/150\n",
            "2334/2334 [==============================] - 3s 1ms/step - loss: 0.1489 - accuracy: 0.9379 - f1_score: 0.9321\n",
            "Epoch 133/150\n",
            "2334/2334 [==============================] - 3s 1ms/step - loss: 0.1487 - accuracy: 0.9381 - f1_score: 0.9312\n",
            "Epoch 134/150\n",
            "2334/2334 [==============================] - 3s 1ms/step - loss: 0.1471 - accuracy: 0.9384 - f1_score: 0.9323\n",
            "Epoch 135/150\n",
            "2334/2334 [==============================] - 4s 2ms/step - loss: 0.1457 - accuracy: 0.9373 - f1_score: 0.9304\n",
            "Epoch 136/150\n",
            "2334/2334 [==============================] - 3s 1ms/step - loss: 0.1456 - accuracy: 0.9380 - f1_score: 0.9315\n",
            "Epoch 137/150\n",
            "2334/2334 [==============================] - 3s 1ms/step - loss: 0.1572 - accuracy: 0.9383 - f1_score: 0.9315\n",
            "Epoch 138/150\n",
            "2334/2334 [==============================] - 3s 1ms/step - loss: 0.1483 - accuracy: 0.9386 - f1_score: 0.9330\n",
            "Epoch 139/150\n",
            "2334/2334 [==============================] - 4s 2ms/step - loss: 0.1458 - accuracy: 0.9387 - f1_score: 0.9324\n",
            "Epoch 140/150\n",
            "2334/2334 [==============================] - 3s 1ms/step - loss: 0.1459 - accuracy: 0.9381 - f1_score: 0.9310\n",
            "Epoch 141/150\n",
            "2334/2334 [==============================] - 3s 1ms/step - loss: 0.1479 - accuracy: 0.9379 - f1_score: 0.9317\n",
            "Epoch 142/150\n",
            "2334/2334 [==============================] - 4s 2ms/step - loss: 0.1460 - accuracy: 0.9386 - f1_score: 0.9327\n",
            "Epoch 143/150\n",
            "2334/2334 [==============================] - 4s 2ms/step - loss: 0.1429 - accuracy: 0.9394 - f1_score: 0.9327\n",
            "Epoch 144/150\n",
            "2334/2334 [==============================] - 3s 1ms/step - loss: 0.1429 - accuracy: 0.9392 - f1_score: 0.9329\n",
            "Epoch 145/150\n",
            "2334/2334 [==============================] - 3s 1ms/step - loss: 0.1432 - accuracy: 0.9398 - f1_score: 0.9329\n",
            "Epoch 146/150\n",
            "2334/2334 [==============================] - 3s 1ms/step - loss: 0.1423 - accuracy: 0.9392 - f1_score: 0.9330\n",
            "Epoch 147/150\n",
            "2334/2334 [==============================] - 4s 2ms/step - loss: 0.1458 - accuracy: 0.9401 - f1_score: 0.9343\n",
            "Epoch 148/150\n",
            "2334/2334 [==============================] - 3s 1ms/step - loss: 0.1433 - accuracy: 0.9395 - f1_score: 0.9325\n",
            "Epoch 149/150\n",
            "2334/2334 [==============================] - 3s 1ms/step - loss: 0.1456 - accuracy: 0.9404 - f1_score: 0.9336\n",
            "Epoch 150/150\n",
            "2334/2334 [==============================] - 3s 1ms/step - loss: 0.1399 - accuracy: 0.9409 - f1_score: 0.9345\n"
          ]
        }
      ]
    },
    {
      "cell_type": "code",
      "source": [
        "trained.history['accuracy'][-1]"
      ],
      "metadata": {
        "colab": {
          "base_uri": "https://localhost:8080/"
        },
        "id": "oaVgDJ0M4D4u",
        "outputId": "7687692b-f0b9-4bf3-ea93-3a1e903919ec"
      },
      "execution_count": 1402,
      "outputs": [
        {
          "output_type": "execute_result",
          "data": {
            "text/plain": [
              "0.9408881664276123"
            ]
          },
          "metadata": {},
          "execution_count": 1402
        }
      ]
    },
    {
      "cell_type": "code",
      "source": [
        "trained.history['f1_score'][-1]"
      ],
      "metadata": {
        "colab": {
          "base_uri": "https://localhost:8080/"
        },
        "id": "HwjQ3dkt4FZi",
        "outputId": "1ffaa03a-12eb-406b-90e9-01bbd8f94a22"
      },
      "execution_count": 1403,
      "outputs": [
        {
          "output_type": "execute_result",
          "data": {
            "text/plain": [
              "0.934495747089386"
            ]
          },
          "metadata": {},
          "execution_count": 1403
        }
      ]
    },
    {
      "cell_type": "markdown",
      "source": [
        "## **Data Wrangling**"
      ],
      "metadata": {
        "id": "BGL0ckYNh5y6"
      }
    },
    {
      "cell_type": "code",
      "source": [
        "# Create Dummy Variables for \"SEX\", \"EDUCATION\" and \"MARRIAGE\" variables\n",
        "dummy_list = [\"SEX\", \"EDUCATION\", \"MARRIAGE\"]\n",
        "\n",
        "for col in dummy_list:\n",
        "    credit2 = pd.get_dummies(credit2, columns=[col])\n",
        "\n",
        "credit2.info()"
      ],
      "metadata": {
        "colab": {
          "base_uri": "https://localhost:8080/"
        },
        "id": "LYa_eaOT-00z",
        "outputId": "0118ad41-800f-4747-896f-848c72aafa4a"
      },
      "execution_count": null,
      "outputs": [
        {
          "output_type": "stream",
          "name": "stdout",
          "text": [
            "<class 'pandas.core.frame.DataFrame'>\n",
            "RangeIndex: 30000 entries, 0 to 29999\n",
            "Data columns (total 41 columns):\n",
            " #   Column       Non-Null Count  Dtype  \n",
            "---  ------       --------------  -----  \n",
            " 0   LIMIT_BAL    30000 non-null  int64  \n",
            " 1   AGE          30000 non-null  int64  \n",
            " 2   PAY_1        30000 non-null  int64  \n",
            " 3   PAY_2        30000 non-null  int64  \n",
            " 4   PAY_3        30000 non-null  int64  \n",
            " 5   PAY_4        30000 non-null  int64  \n",
            " 6   PAY_5        30000 non-null  int64  \n",
            " 7   PAY_6        30000 non-null  int64  \n",
            " 8   BILL_AMT1    30000 non-null  int64  \n",
            " 9   BILL_AMT2    30000 non-null  int64  \n",
            " 10  BILL_AMT3    30000 non-null  int64  \n",
            " 11  BILL_AMT4    30000 non-null  int64  \n",
            " 12  BILL_AMT5    30000 non-null  int64  \n",
            " 13  BILL_AMT6    30000 non-null  int64  \n",
            " 14  PAY_AMT1     30000 non-null  int64  \n",
            " 15  PAY_AMT2     30000 non-null  int64  \n",
            " 16  PAY_AMT3     30000 non-null  int64  \n",
            " 17  PAY_AMT4     30000 non-null  int64  \n",
            " 18  PAY_AMT5     30000 non-null  int64  \n",
            " 19  PAY_AMT6     30000 non-null  int64  \n",
            " 20  default      30000 non-null  int64  \n",
            " 21  UNPAID_1     30000 non-null  int64  \n",
            " 22  UNPAID_2     30000 non-null  int64  \n",
            " 23  UNPAID_3     30000 non-null  int64  \n",
            " 24  UNPAID_4     30000 non-null  int64  \n",
            " 25  UNPAID_5     30000 non-null  int64  \n",
            " 26  GAP_1        30000 non-null  float64\n",
            " 27  GAP_2        30000 non-null  float64\n",
            " 28  GAP_3        30000 non-null  float64\n",
            " 29  GAP_4        30000 non-null  float64\n",
            " 30  GAP_5        30000 non-null  float64\n",
            " 31  GAP_6        30000 non-null  float64\n",
            " 32  SEX_1        30000 non-null  uint8  \n",
            " 33  SEX_2        30000 non-null  uint8  \n",
            " 34  EDUCATION_1  30000 non-null  uint8  \n",
            " 35  EDUCATION_2  30000 non-null  uint8  \n",
            " 36  EDUCATION_3  30000 non-null  uint8  \n",
            " 37  EDUCATION_4  30000 non-null  uint8  \n",
            " 38  MARRIAGE_1   30000 non-null  uint8  \n",
            " 39  MARRIAGE_2   30000 non-null  uint8  \n",
            " 40  MARRIAGE_3   30000 non-null  uint8  \n",
            "dtypes: float64(6), int64(26), uint8(9)\n",
            "memory usage: 7.6 MB\n"
          ]
        }
      ]
    },
    {
      "cell_type": "code",
      "source": [
        "Y = credit2['default']\n",
        "X = credit2.drop(columns=['default'])\n",
        "X.info()"
      ],
      "metadata": {
        "colab": {
          "base_uri": "https://localhost:8080/"
        },
        "id": "cONXOhic6udK",
        "outputId": "f81ea6cc-fe37-4649-ea93-ad1ff0fc4e48"
      },
      "execution_count": null,
      "outputs": [
        {
          "output_type": "stream",
          "name": "stdout",
          "text": [
            "<class 'pandas.core.frame.DataFrame'>\n",
            "RangeIndex: 30000 entries, 0 to 29999\n",
            "Data columns (total 40 columns):\n",
            " #   Column       Non-Null Count  Dtype  \n",
            "---  ------       --------------  -----  \n",
            " 0   LIMIT_BAL    30000 non-null  int64  \n",
            " 1   AGE          30000 non-null  int64  \n",
            " 2   PAY_1        30000 non-null  int64  \n",
            " 3   PAY_2        30000 non-null  int64  \n",
            " 4   PAY_3        30000 non-null  int64  \n",
            " 5   PAY_4        30000 non-null  int64  \n",
            " 6   PAY_5        30000 non-null  int64  \n",
            " 7   PAY_6        30000 non-null  int64  \n",
            " 8   BILL_AMT1    30000 non-null  int64  \n",
            " 9   BILL_AMT2    30000 non-null  int64  \n",
            " 10  BILL_AMT3    30000 non-null  int64  \n",
            " 11  BILL_AMT4    30000 non-null  int64  \n",
            " 12  BILL_AMT5    30000 non-null  int64  \n",
            " 13  BILL_AMT6    30000 non-null  int64  \n",
            " 14  PAY_AMT1     30000 non-null  int64  \n",
            " 15  PAY_AMT2     30000 non-null  int64  \n",
            " 16  PAY_AMT3     30000 non-null  int64  \n",
            " 17  PAY_AMT4     30000 non-null  int64  \n",
            " 18  PAY_AMT5     30000 non-null  int64  \n",
            " 19  PAY_AMT6     30000 non-null  int64  \n",
            " 20  UNPAID_1     30000 non-null  int64  \n",
            " 21  UNPAID_2     30000 non-null  int64  \n",
            " 22  UNPAID_3     30000 non-null  int64  \n",
            " 23  UNPAID_4     30000 non-null  int64  \n",
            " 24  UNPAID_5     30000 non-null  int64  \n",
            " 25  GAP_1        30000 non-null  float64\n",
            " 26  GAP_2        30000 non-null  float64\n",
            " 27  GAP_3        30000 non-null  float64\n",
            " 28  GAP_4        30000 non-null  float64\n",
            " 29  GAP_5        30000 non-null  float64\n",
            " 30  GAP_6        30000 non-null  float64\n",
            " 31  SEX_1        30000 non-null  uint8  \n",
            " 32  SEX_2        30000 non-null  uint8  \n",
            " 33  EDUCATION_1  30000 non-null  uint8  \n",
            " 34  EDUCATION_2  30000 non-null  uint8  \n",
            " 35  EDUCATION_3  30000 non-null  uint8  \n",
            " 36  EDUCATION_4  30000 non-null  uint8  \n",
            " 37  MARRIAGE_1   30000 non-null  uint8  \n",
            " 38  MARRIAGE_2   30000 non-null  uint8  \n",
            " 39  MARRIAGE_3   30000 non-null  uint8  \n",
            "dtypes: float64(6), int64(25), uint8(9)\n",
            "memory usage: 7.4 MB\n"
          ]
        }
      ]
    },
    {
      "cell_type": "code",
      "source": [
        "# Train test split\n",
        "X_train, X_test, Y_train, Y_test = train_test_split(X, Y, test_size=0.2, random_state=123)"
      ],
      "metadata": {
        "id": "hcFkygrV6yp7"
      },
      "execution_count": null,
      "outputs": []
    },
    {
      "cell_type": "code",
      "source": [
        "# Oversample minority\n",
        "X_train, Y_train = SMOTE().fit_resample(X_train, Y_train)"
      ],
      "metadata": {
        "id": "I80vaC5v62oc"
      },
      "execution_count": null,
      "outputs": []
    },
    {
      "cell_type": "code",
      "source": [
        "# Normalize BILL_AMTX, PAY_AMTX & Gap_X Columns\n",
        "from scipy import stats\n",
        "normalize = [\"PAY_\" + str(i) for i in range(1, 7)]\n",
        "normalize2 = [\"GAP_\" + str(i) for i in range(1, 7)]\n",
        "normalize3 = [\"UNPAID_\" + str(i) for i in range(1, 6)]\n",
        "\n",
        "for col in normalize + normalize2 + normalize3:\n",
        "    X_train[col] = stats.zscore(X_train[col])\n",
        "    X_test[col] = stats.zscore(X_test[col])"
      ],
      "metadata": {
        "id": "eZniOveH66tL"
      },
      "execution_count": null,
      "outputs": []
    },
    {
      "cell_type": "code",
      "source": [
        "# Logistic Regression with data wrangling\n",
        "model7 = linear_model.LogisticRegression(max_iter=2000, random_state=288)\n",
        "model7.fit(X_train, Y_train)\n",
        "pred7 = model7.predict(X_test)\n",
        "\n",
        "cm7 = confusion_matrix(Y_test, pred7)\n",
        "print(classification_report(Y_test, pred7))\n",
        "print(\"Accuracy is \", (cm7[0,0]+cm7[1,1])/sum(sum(cm7)))"
      ],
      "metadata": {
        "colab": {
          "base_uri": "https://localhost:8080/"
        },
        "id": "YFauxXNa6-aC",
        "outputId": "bb31a109-b350-4e06-cd01-9932932f5021"
      },
      "execution_count": null,
      "outputs": [
        {
          "output_type": "stream",
          "name": "stdout",
          "text": [
            "              precision    recall  f1-score   support\n",
            "\n",
            "           0       0.88      0.50      0.64      4696\n",
            "           1       0.29      0.75      0.42      1304\n",
            "\n",
            "    accuracy                           0.56      6000\n",
            "   macro avg       0.59      0.63      0.53      6000\n",
            "weighted avg       0.75      0.56      0.59      6000\n",
            "\n",
            "Accuracy is  0.5556666666666666\n"
          ]
        }
      ]
    },
    {
      "cell_type": "code",
      "source": [
        "# Decision Tree with data wrangling\n",
        "model8 = tree.DecisionTreeClassifier(random_state=288)\n",
        "model8.fit(X_train, Y_train)\n",
        "pred8 = model8.predict(X_test)\n",
        "\n",
        "cm8 = confusion_matrix(Y_test, pred8)\n",
        "print(classification_report(Y_test, pred8))\n",
        "print(\"Accuracy is \", (cm8[0,0]+cm8[1,1])/sum(sum(cm8)))"
      ],
      "metadata": {
        "colab": {
          "base_uri": "https://localhost:8080/"
        },
        "id": "jWUMfdTI7BxL",
        "outputId": "020b9c81-a02f-412d-e6f5-6b64b2c5ebf6"
      },
      "execution_count": null,
      "outputs": [
        {
          "output_type": "stream",
          "name": "stdout",
          "text": [
            "              precision    recall  f1-score   support\n",
            "\n",
            "           0       0.83      0.76      0.79      4696\n",
            "           1       0.34      0.44      0.38      1304\n",
            "\n",
            "    accuracy                           0.69      6000\n",
            "   macro avg       0.59      0.60      0.59      6000\n",
            "weighted avg       0.72      0.69      0.70      6000\n",
            "\n",
            "Accuracy is  0.691\n"
          ]
        }
      ]
    },
    {
      "cell_type": "code",
      "source": [
        "# Random Forest with data wrangling\n",
        "model9 = ensemble.RandomForestClassifier(random_state=288)\n",
        "model9.fit(X_train, Y_train)\n",
        "pred9 = model9.predict(X_test)\n",
        "\n",
        "cm9 = confusion_matrix(Y_test, pred9)\n",
        "print(classification_report(Y_test, pred9))\n",
        "print(\"Accuracy is \", (cm9[0,0]+cm9[1,1])/sum(sum(cm9)))"
      ],
      "metadata": {
        "colab": {
          "base_uri": "https://localhost:8080/"
        },
        "id": "QzMtBtzB7EoM",
        "outputId": "438337ce-3ff8-47f8-9ba2-2bae88f7bc7b"
      },
      "execution_count": null,
      "outputs": [
        {
          "output_type": "stream",
          "name": "stdout",
          "text": [
            "              precision    recall  f1-score   support\n",
            "\n",
            "           0       0.85      0.91      0.88      4696\n",
            "           1       0.58      0.43      0.49      1304\n",
            "\n",
            "    accuracy                           0.81      6000\n",
            "   macro avg       0.72      0.67      0.69      6000\n",
            "weighted avg       0.79      0.81      0.80      6000\n",
            "\n",
            "Accuracy is  0.8078333333333333\n"
          ]
        }
      ]
    },
    {
      "cell_type": "code",
      "source": [
        "# Gradient Boosting with data wrangling\n",
        "model10 = ensemble.GradientBoostingClassifier(random_state=288)\n",
        "model10.fit(X_train, Y_train)\n",
        "pred10 = model10.predict(X_test)\n",
        "\n",
        "cm10 = confusion_matrix(Y_test, pred10)\n",
        "print(classification_report(Y_test, pred10))\n",
        "print(\"Accuracy is \", (cm10[0,0]+cm10[1,1])/sum(sum(cm10)))"
      ],
      "metadata": {
        "colab": {
          "base_uri": "https://localhost:8080/"
        },
        "id": "ZYPAYsnb7HYS",
        "outputId": "a24393a9-20f0-4e05-f58a-077e8aba420d"
      },
      "execution_count": null,
      "outputs": [
        {
          "output_type": "stream",
          "name": "stdout",
          "text": [
            "              precision    recall  f1-score   support\n",
            "\n",
            "           0       0.85      0.93      0.89      4696\n",
            "           1       0.63      0.43      0.51      1304\n",
            "\n",
            "    accuracy                           0.82      6000\n",
            "   macro avg       0.74      0.68      0.70      6000\n",
            "weighted avg       0.80      0.82      0.81      6000\n",
            "\n",
            "Accuracy is  0.8203333333333334\n"
          ]
        }
      ]
    },
    {
      "cell_type": "code",
      "source": [
        "# Neural Network (sklearn) with data wrangling\n",
        "model11 = neural_network.MLPClassifier(random_state=288)\n",
        "model11.fit(X_train, Y_train)\n",
        "pred11 = model11.predict(X_test)\n",
        "\n",
        "cm11 = confusion_matrix(Y_test, pred11)\n",
        "print(classification_report(Y_test, pred11))\n",
        "print(\"Accuracy is \", (cm11[0,0]+cm11[1,1])/sum(sum(cm11)))"
      ],
      "metadata": {
        "colab": {
          "base_uri": "https://localhost:8080/"
        },
        "id": "IsD_xhmF7Jqr",
        "outputId": "934ebb2d-95bd-475e-edd7-de03180adec6"
      },
      "execution_count": null,
      "outputs": [
        {
          "output_type": "stream",
          "name": "stdout",
          "text": [
            "              precision    recall  f1-score   support\n",
            "\n",
            "           0       0.87      0.50      0.63      4696\n",
            "           1       0.29      0.73      0.41      1304\n",
            "\n",
            "    accuracy                           0.55      6000\n",
            "   macro avg       0.58      0.61      0.52      6000\n",
            "weighted avg       0.74      0.55      0.58      6000\n",
            "\n",
            "Accuracy is  0.547\n"
          ]
        }
      ]
    },
    {
      "cell_type": "code",
      "source": [
        "# Neural Network (Keras) with data wrangling\n",
        "\n",
        "# Standardize the features (optional but recommended)\n",
        "scaler = StandardScaler()\n",
        "X_train = scaler.fit_transform(X_train)\n",
        "X_test = scaler.transform(X_test)\n",
        "\n",
        "model12 = Sequential()\n",
        "\n",
        "# Add the input layer with the correct number of neurons\n",
        "input_neurons = X_train.shape[1]\n",
        "model12.add(Dense(units=input_neurons, input_dim=input_neurons, activation='relu'))\n",
        "\n",
        "# Add the first hidden layer (similar neurons to the input layer)\n",
        "model12.add(Dense(units=input_neurons, activation='relu'))\n",
        "\n",
        "# Add the output layer\n",
        "model12.add(Dense(units=1, activation='sigmoid'))\n",
        "\n",
        "# Compile the model\n",
        "model12.compile(optimizer='adam', loss='binary_crossentropy', metrics=['accuracy', f1_score])\n",
        "\n",
        "# Print a summary of the model's architecture\n",
        "model12.summary()\n",
        "\n",
        "# Train the model\n",
        "trained2 = model12.fit(X_train, Y_train, epochs=10, batch_size=32)"
      ],
      "metadata": {
        "colab": {
          "base_uri": "https://localhost:8080/"
        },
        "id": "FK67kCQ07Mic",
        "outputId": "3c28d3c9-b76e-4446-c762-982ed3ab2d30"
      },
      "execution_count": null,
      "outputs": [
        {
          "output_type": "stream",
          "name": "stdout",
          "text": [
            "Model: \"sequential_13\"\n",
            "_________________________________________________________________\n",
            " Layer (type)                Output Shape              Param #   \n",
            "=================================================================\n",
            " dense_39 (Dense)            (None, 40)                1640      \n",
            "                                                                 \n",
            " dense_40 (Dense)            (None, 40)                1640      \n",
            "                                                                 \n",
            " dense_41 (Dense)            (None, 1)                 41        \n",
            "                                                                 \n",
            "=================================================================\n",
            "Total params: 3321 (12.97 KB)\n",
            "Trainable params: 3321 (12.97 KB)\n",
            "Non-trainable params: 0 (0.00 Byte)\n",
            "_________________________________________________________________\n",
            "Epoch 1/10\n",
            "1167/1167 [==============================] - 2s 1ms/step - loss: 0.3858 - accuracy: 0.8322 - f1_score: 0.8138\n",
            "Epoch 2/10\n",
            "1167/1167 [==============================] - 1s 1ms/step - loss: 0.3388 - accuracy: 0.8517 - f1_score: 0.8343\n",
            "Epoch 3/10\n",
            "1167/1167 [==============================] - 1s 1ms/step - loss: 0.3322 - accuracy: 0.8540 - f1_score: 0.8374\n",
            "Epoch 4/10\n",
            "1167/1167 [==============================] - 1s 1ms/step - loss: 0.3274 - accuracy: 0.8552 - f1_score: 0.8387\n",
            "Epoch 5/10\n",
            "1167/1167 [==============================] - 1s 1ms/step - loss: 0.3257 - accuracy: 0.8565 - f1_score: 0.8400\n",
            "Epoch 6/10\n",
            "1167/1167 [==============================] - 1s 1ms/step - loss: 0.3229 - accuracy: 0.8567 - f1_score: 0.8408\n",
            "Epoch 7/10\n",
            "1167/1167 [==============================] - 2s 2ms/step - loss: 0.3214 - accuracy: 0.8573 - f1_score: 0.8416\n",
            "Epoch 8/10\n",
            "1167/1167 [==============================] - 2s 1ms/step - loss: 0.3194 - accuracy: 0.8586 - f1_score: 0.8445\n",
            "Epoch 9/10\n",
            "1167/1167 [==============================] - 1s 1ms/step - loss: 0.3172 - accuracy: 0.8586 - f1_score: 0.8427\n",
            "Epoch 10/10\n",
            "1167/1167 [==============================] - 1s 1ms/step - loss: 0.3158 - accuracy: 0.8606 - f1_score: 0.8460\n"
          ]
        }
      ]
    },
    {
      "cell_type": "code",
      "source": [
        "trained2.history['accuracy'][-1]"
      ],
      "metadata": {
        "colab": {
          "base_uri": "https://localhost:8080/"
        },
        "id": "IdmZ4Wl-7OoL",
        "outputId": "4dd080cd-b1f3-4781-e6f1-3e046450bb26"
      },
      "execution_count": null,
      "outputs": [
        {
          "output_type": "execute_result",
          "data": {
            "text/plain": [
              "0.8605903387069702"
            ]
          },
          "metadata": {},
          "execution_count": 988
        }
      ]
    },
    {
      "cell_type": "code",
      "source": [
        "trained2.history['f1_score'][-1]"
      ],
      "metadata": {
        "colab": {
          "base_uri": "https://localhost:8080/"
        },
        "id": "FQFmLRYR7Quz",
        "outputId": "3c8af118-ae3f-4caf-bbf0-f2b74a79e30a"
      },
      "execution_count": null,
      "outputs": [
        {
          "output_type": "execute_result",
          "data": {
            "text/plain": [
              "0.8460325598716736"
            ]
          },
          "metadata": {},
          "execution_count": 989
        }
      ]
    },
    {
      "cell_type": "code",
      "source": [],
      "metadata": {
        "id": "pRaAKUhPbWI8"
      },
      "execution_count": null,
      "outputs": []
    }
  ]
}